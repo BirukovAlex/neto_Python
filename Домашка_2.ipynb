{
  "nbformat": 4,
  "nbformat_minor": 0,
  "metadata": {
    "colab": {
      "provenance": [],
      "authorship_tag": "ABX9TyP0fBlrFcG/8EcOMt+w69BG",
      "include_colab_link": true
    },
    "kernelspec": {
      "name": "python3",
      "display_name": "Python 3"
    },
    "language_info": {
      "name": "python"
    }
  },
  "cells": [
    {
      "cell_type": "markdown",
      "metadata": {
        "id": "view-in-github",
        "colab_type": "text"
      },
      "source": [
        "<a href=\"https://colab.research.google.com/github/BirukovAlex/neto_Python/blob/main/%D0%94%D0%BE%D0%BC%D0%B0%D1%88%D0%BA%D0%B0_2.ipynb\" target=\"_parent\"><img src=\"https://colab.research.google.com/assets/colab-badge.svg\" alt=\"Open In Colab\"/></a>"
      ]
    },
    {
      "cell_type": "markdown",
      "source": [
        "**Задание 1.** Дана переменная, в которой хранится слово из латинских букв. Напишите код, который выводит на экран:\n",
        "- среднюю букву, если число букв в слове нечетное;\n",
        "- две средних буквы, если число букв четное\n",
        "**Пример:**\n",
        "word = 'test' Результат: es\n",
        "word = 'testing' Результат:t"
      ],
      "metadata": {
        "id": "cMiNuo_XR6Su"
      }
    },
    {
      "cell_type": "code",
      "execution_count": null,
      "metadata": {
        "id": "RWtoWpgMRlSV",
        "colab": {
          "base_uri": "https://localhost:8080/"
        },
        "outputId": "d62709e2-99a4-461f-dd8f-c608b58b4b7f"
      },
      "outputs": [
        {
          "output_type": "stream",
          "name": "stdout",
          "text": [
            "Введите слово: торт\n",
            "4\n",
            "ор\n"
          ]
        }
      ],
      "source": [
        "# консоль с вводом текста, тип данных str\n",
        "wrd = input('Введите слово: ')\n",
        "# запишем длину слова в отдельную переменную\n",
        "length = len(wrd)\n",
        "print(length)\n",
        "\n",
        "if length % 2 == 0: #если слово делится пополам без остатка то четное чсло\n",
        "  print(wrd[int(length/2-1):int(length/2+1)]),\n",
        "else:\n",
        "  print(wrd[int(length/2)])"
      ]
    },
    {
      "cell_type": "markdown",
      "source": [
        "***Комментарии преподавателя:***\n",
        "первую задачу можно было даже записать в одну строку, вот так:\n",
        "\n",
        "print(word[(len(word)-1)//2:(len(word)+2)//2])"
      ],
      "metadata": {
        "id": "cf24UsjLD4tx"
      }
    },
    {
      "cell_type": "markdown",
      "source": [
        "**Задание 2** Напишите программу, которая последовательно запрашивает у пользователя числа (по одному за раз) и после первого нуля выводит сумму всех ранее введенных чисел.\n",
        "**Примеры работы программы:**\n",
        "1. Введите число: 1\n",
        "Введите число: 4\n",
        "Введите число: 6\n",
        "Введите число: 0\n",
        "Результат: 11\n",
        "2. Введите число: 0\n",
        "Результат: 0"
      ],
      "metadata": {
        "id": "uOaPDoW3R4jK"
      }
    },
    {
      "cell_type": "code",
      "source": [
        "nmbr = int(input('Введите число: '))\n",
        "sum = 0\n",
        "while nmbr != 0:\n",
        "  sum += nmbr\n",
        "  nmbr = int(input('Введите число: '))\n",
        "sum"
      ],
      "metadata": {
        "id": "XnMd026QS3EL",
        "colab": {
          "base_uri": "https://localhost:8080/"
        },
        "outputId": "2d8df305-2540-4c4c-89e9-1d51f1f5e3e4"
      },
      "execution_count": null,
      "outputs": [
        {
          "name": "stdout",
          "output_type": "stream",
          "text": [
            "Введите число: 1\n",
            "Введите число: 2\n",
            "Введите число: 3\n",
            "Введите число: 0\n"
          ]
        },
        {
          "output_type": "execute_result",
          "data": {
            "text/plain": [
              "6"
            ]
          },
          "metadata": {},
          "execution_count": 16
        }
      ]
    },
    {
      "cell_type": "markdown",
      "source": [
        "***Комментари преподавателя:***\n",
        "\n",
        "во второй задаче можно было использовать моржовый оператор для оптимизации:\n",
        "\n",
        "a = 0\n",
        "while number **:=** int(input(\"введите число: \")):\n",
        "    a += number\n",
        "print(a)\n",
        "\n",
        "А если интересно изучить итераторы, то посмотрите, как они помогли бы решить вторую задачу в одну строку:\n",
        "\n",
        "print(sum([int(x) for x in **iter**(input, '0')]))"
      ],
      "metadata": {
        "id": "TGC_flTgEIe2"
      }
    },
    {
      "cell_type": "markdown",
      "source": [
        "**Задание 3.** Мы делаем MVP dating-сервиса, и у нас есть список парней и девушек.\n",
        "Выдвигаем гипотезу: лучшие рекомендации мы получим, если просто отсортируем имена по алфавиту и познакомим людей с одинаковыми индексами после сортировки! Но мы не будем никого знакомить, если кто-то может остаться без пары:\n",
        "\n",
        "**Примеры работы программы:**\n",
        "1. boys = ['Peter', 'Alex', 'John', 'Arthur', 'Richard']\n",
        "girls = ['Kate', 'Liza', 'Kira', 'Emma', 'Trisha']\n",
        "Результат:\n",
        "Идеальные пары:  \n",
        "Alex и Emma  \n",
        "Arthur и Kate  \n",
        "John и Kira  \n",
        "Peter и Liza  \n",
        "Richard и Trisha\n",
        "2. boys = ['Peter', 'Alex', 'John', 'Arthur', 'Richard', 'Michael']\n",
        "girls = ['Kate', 'Liza', 'Kira', 'Emma', 'Trisha']\n",
        "Результат: Внимание, кто-то может остаться без пары!"
      ],
      "metadata": {
        "id": "EBRaxNEUS33S"
      }
    },
    {
      "cell_type": "code",
      "source": [
        "boys = ['Peter', 'Alex', 'John', 'Arthur', 'Richard']\n",
        "girls = ['Kate', 'Liza', 'Kira', 'Emma', 'Trisha']\n",
        "i = 0\n",
        "#сначала проверить получаются ли пары\n",
        "if len(boys) != len(girls):\n",
        "  print('Внимание, кто-то может остаться без пары!')\n",
        "#затем уже выполняется сортировка и сравнение первых индексов\n",
        "else:\n",
        "  boys.sort()\n",
        "  girls.sort()\n",
        "  for el in dict(zip(boys,girls)):\n",
        "    print(f'{boys[i]} и {girls[i]}')\n",
        "    i += 1\n"
      ],
      "metadata": {
        "id": "mdY0vgumTTZD",
        "colab": {
          "base_uri": "https://localhost:8080/"
        },
        "outputId": "7a4cf56e-2232-4710-973e-50c761af2638"
      },
      "execution_count": null,
      "outputs": [
        {
          "output_type": "stream",
          "name": "stdout",
          "text": [
            "Alex и Emma\n",
            "Arthur и Kate\n",
            "John и Kira\n",
            "Peter и Liza\n",
            "Richard и Trisha\n"
          ]
        }
      ]
    },
    {
      "cell_type": "markdown",
      "source": [
        "***Комментарии преподавателя:***\n",
        "\n",
        "в 3 задаче можно было не прибегать к вспомогательному счетчику:\n",
        "if len(boys) != len(girls):\n",
        "\tprint('Внимание, кто-то может остаться без пары!')\n",
        "else:\n",
        "\tprint('Идеальные пары:')\n",
        "\tfor boy, girl in zip(sorted(boys), sorted(girls)):\n",
        "\t\tprint(f'{boy} и {girl}')"
      ],
      "metadata": {
        "id": "F5nl-NuzEum5"
      }
    },
    {
      "cell_type": "markdown",
      "source": [
        "**Задание 4.** У нас есть список, содержащий информацию о среднедневной температуре в Фаренгейтах за произвольный период по странам (структура данных в примере). Необходимо написать код, который рассчитает среднюю температуру за период в Цельсиях(!) для каждой страны.\n",
        "\n",
        "**Пример работы программы:**\n",
        "countries_temperature = [\n",
        "    ['Таиланд', [75.2, 77, 78.8, 73.4, 68, 75.2, 77]],\n",
        "    ['Германия', [57.2, 55.4, 59, 59, 53.6]],\n",
        "    ['Россия', [35.6, 37.4, 39.2, 41, 42.8, 39.2, 35.6]],\n",
        "    ['Польша', [50, 50, 53.6, 57.2, 55.4, 55.4]]\n",
        "]\n",
        "Результат:\n",
        "Средняя температура в странах:\n",
        "Таиланд  -  23.9 С\n",
        "Германия  -  13.8 С\n",
        "Россия  -  3.7 С\n",
        "Польша  -  12.0 С"
      ],
      "metadata": {
        "id": "OnKm69jiTT1i"
      }
    },
    {
      "cell_type": "code",
      "source": [
        "countries_temperature = [\n",
        "    ['Таиланд', [75.2, 77, 78.8, 73.4, 68, 75.2, 77]],\n",
        "    ['Германия', [57.2, 55.4, 59, 59, 53.6]],\n",
        "    ['Россия', [35.6, 37.4, 39.2, 41, 42.8, 39.2, 35.6]],\n",
        "    ['Польша', [50, 50, 53.6, 57.2, 55.4, 55.4]]\n",
        "]\n",
        "print('Средняя температура в странах :')\n",
        "import math\n",
        "for el in countries_temperature:\n",
        "  country_name = el[0]\n",
        "  temperatures = el[1]\n",
        "  cels_tmp = [(temp - 32) * 5/9 for temp in temperatures] # в цельсий\n",
        "  avg_tmp = round(math.fsum(cels_tmp)/len(cels_tmp),1) #средняя, округл до 1\n",
        "  print(country_name, ' - ', avg_tmp, 'C')"
      ],
      "metadata": {
        "colab": {
          "base_uri": "https://localhost:8080/"
        },
        "id": "kcYf-PCOmI3f",
        "outputId": "b08b062a-994f-425e-9ee6-1b1f5284c2d2"
      },
      "execution_count": null,
      "outputs": [
        {
          "output_type": "stream",
          "name": "stdout",
          "text": [
            "Средняя температура в странах :\n",
            "Таиланд  -  23.9 C\n",
            "Германия  -  13.8 C\n",
            "Россия  -  3.7 C\n",
            "Польша  -  12.0 C\n"
          ]
        }
      ]
    },
    {
      "cell_type": "markdown",
      "source": [
        "**Комментарии преподавателя:**\n",
        "\n",
        "в 4 задаче нет смысла приводить к Цельию каждую температуру, можно делать перевод только средней:\n",
        "\n",
        "print(\"Средняя температура в странах:\")\n",
        "\n",
        "for element in countries_temperature:\n",
        "\n",
        "   avg_temp = sum(element[1]) / len(element[1])\n",
        "   \n",
        "   print(f\"{element[0]} - {(avg_temp - 32)*5/9 :.1f} C\")"
      ],
      "metadata": {
        "id": "OFXQX8JbFpON"
      }
    }
  ]
}