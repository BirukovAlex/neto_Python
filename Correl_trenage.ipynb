{
  "nbformat": 4,
  "nbformat_minor": 0,
  "metadata": {
    "colab": {
      "provenance": [],
      "authorship_tag": "ABX9TyP0HhzXktdAHnA119y8fUBT",
      "include_colab_link": true
    },
    "kernelspec": {
      "name": "python3",
      "display_name": "Python 3"
    },
    "language_info": {
      "name": "python"
    }
  },
  "cells": [
    {
      "cell_type": "markdown",
      "metadata": {
        "id": "view-in-github",
        "colab_type": "text"
      },
      "source": [
        "<a href=\"https://colab.research.google.com/github/BirukovAlex/neto_Python/blob/main/Correl_trenage.ipynb\" target=\"_parent\"><img src=\"https://colab.research.google.com/assets/colab-badge.svg\" alt=\"Open In Colab\"/></a>"
      ]
    },
    {
      "cell_type": "code",
      "execution_count": 1,
      "metadata": {
        "id": "DxbIhMHu6aPB"
      },
      "outputs": [],
      "source": [
        "import pandas as pd"
      ]
    },
    {
      "cell_type": "code",
      "source": [
        "df = pd.read_csv('/content/gas_sales_2.csv',delimiter=';')\n",
        "df.head()"
      ],
      "metadata": {
        "id": "oKRNLChg6xTv"
      },
      "execution_count": null,
      "outputs": []
    },
    {
      "cell_type": "code",
      "source": [
        "#коэф. корреляции Пирсона:\n",
        "p_coef = df[ ['Temperature', 'Sum'] ].corr(method='pearson', min_periods=1)\n",
        "p_coef = p_coef.iloc[0,1]\n",
        "p_coef"
      ],
      "metadata": {
        "colab": {
          "base_uri": "https://localhost:8080/"
        },
        "id": "kM-0tfn768iP",
        "outputId": "45b85ba5-36db-4aff-bd34-9d9ca6dbeef2"
      },
      "execution_count": 26,
      "outputs": [
        {
          "output_type": "execute_result",
          "data": {
            "text/plain": [
              "-0.857653370884551"
            ]
          },
          "metadata": {},
          "execution_count": 26
        }
      ]
    },
    {
      "cell_type": "code",
      "source": [
        "#коэф. корреляции Спирмана:\n",
        "s_coef = df[['Temperature', 'Sum']].corr(method='spearman', min_periods=1)\n",
        "s_coef = s_coef.iloc[0,1]\n",
        "s_coef"
      ],
      "metadata": {
        "colab": {
          "base_uri": "https://localhost:8080/"
        },
        "id": "v0rgi0L9ATYm",
        "outputId": "5e0dab1a-1773-44e3-9dd4-2f5c31ad96d1"
      },
      "execution_count": 29,
      "outputs": [
        {
          "output_type": "execute_result",
          "data": {
            "text/plain": [
              "-0.8400290050597393"
            ]
          },
          "metadata": {},
          "execution_count": 29
        }
      ]
    },
    {
      "cell_type": "code",
      "source": [
        "#определение типа зависимости:\n",
        "if p_coef > 0 and p_coef <= 1:\n",
        "    print('Тип зависимости — положительная;')\n",
        "elif p_coef < 0 and p_coef >= -1:\n",
        "    print('Тип зависимости — отрицательная;')\n",
        "else:\n",
        "    print('Зависимость не обнаружена.')"
      ],
      "metadata": {
        "colab": {
          "base_uri": "https://localhost:8080/"
        },
        "id": "ab6TH0bSABeS",
        "outputId": "eb751c82-41e4-4fec-d0d6-fd2b1ec9e381"
      },
      "execution_count": 27,
      "outputs": [
        {
          "output_type": "stream",
          "name": "stdout",
          "text": [
            "Тип зависимости — отрицательная;\n"
          ]
        }
      ]
    },
    {
      "cell_type": "code",
      "source": [
        "#определение силы связи\n",
        "if abs(p_coef) >= 0 and abs(p_coef) <= 0.3:\n",
        "    print('Очень слабая зависимость')\n",
        "elif abs(p_coef) > 0.3 and abs(p_coef) <= 0.5:\n",
        "    print('Слабая зависимость')\n",
        "elif abs(p_coef) > 0.5 and abs(p_coef) <= 0.7:\n",
        "    print('Средняя зависимость')\n",
        "elif abs(p_coef) > 0.7 and abs(p_coef) <= 0.9:\n",
        "    print('Высокая зависимость')\n",
        "elif abs(p_coef) > 0.9 and abs(p_coef) <= 1:\n",
        "    print('Очень высокая зависимость')"
      ],
      "metadata": {
        "colab": {
          "base_uri": "https://localhost:8080/"
        },
        "id": "m-Elu7JQALxi",
        "outputId": "88f36b75-3aa8-4033-f146-8dae2c5d8882"
      },
      "execution_count": 28,
      "outputs": [
        {
          "output_type": "stream",
          "name": "stdout",
          "text": [
            "Высокая зависимость\n"
          ]
        }
      ]
    }
  ]
}