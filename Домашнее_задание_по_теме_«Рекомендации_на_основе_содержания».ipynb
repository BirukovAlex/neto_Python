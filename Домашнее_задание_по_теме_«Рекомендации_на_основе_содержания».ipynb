{
  "nbformat": 4,
  "nbformat_minor": 0,
  "metadata": {
    "colab": {
      "provenance": [],
      "authorship_tag": "ABX9TyMJdQPacjf47G3yZOv+r8Jy",
      "include_colab_link": true
    },
    "kernelspec": {
      "name": "python3",
      "display_name": "Python 3"
    },
    "language_info": {
      "name": "python"
    }
  },
  "cells": [
    {
      "cell_type": "markdown",
      "metadata": {
        "id": "view-in-github",
        "colab_type": "text"
      },
      "source": [
        "<a href=\"https://colab.research.google.com/github/BirukovAlex/neto_Python/blob/main/%D0%94%D0%BE%D0%BC%D0%B0%D1%88%D0%BD%D0%B5%D0%B5_%D0%B7%D0%B0%D0%B4%D0%B0%D0%BD%D0%B8%D0%B5_%D0%BF%D0%BE_%D1%82%D0%B5%D0%BC%D0%B5_%C2%AB%D0%A0%D0%B5%D0%BA%D0%BE%D0%BC%D0%B5%D0%BD%D0%B4%D0%B0%D1%86%D0%B8%D0%B8_%D0%BD%D0%B0_%D0%BE%D1%81%D0%BD%D0%BE%D0%B2%D0%B5_%D1%81%D0%BE%D0%B4%D0%B5%D1%80%D0%B6%D0%B0%D0%BD%D0%B8%D1%8F%C2%BB.ipynb\" target=\"_parent\"><img src=\"https://colab.research.google.com/assets/colab-badge.svg\" alt=\"Open In Colab\"/></a>"
      ]
    },
    {
      "cell_type": "markdown",
      "source": [
        "1. Использовать датасет https://files.grouplens.org/datasets/movielens/ml-latest.zip\n",
        "2. Построить рекомендации (регрессия, предсказываем оценку) на фичах:\n",
        "\n",
        "-TF-IDF на тегах и жанрах;\n",
        "\n",
        "-средние оценки (+ median, variance и т. д.) пользователя и фильма.\n",
        "\n",
        "3. Оценить RMSE на тестовой выборке"
      ],
      "metadata": {
        "id": "adyfOULkOlKw"
      }
    },
    {
      "cell_type": "markdown",
      "source": [
        "#Загрузка библиотек и подготовка данных"
      ],
      "metadata": {
        "id": "wDVPoRdrOt0x"
      }
    },
    {
      "cell_type": "code",
      "execution_count": 1,
      "metadata": {
        "id": "Fvp8W_D9DfQ0"
      },
      "outputs": [],
      "source": [
        "import pandas as pd\n",
        "import numpy as np\n",
        "from sklearn.feature_extraction.text import TfidfVectorizer\n",
        "from sklearn.model_selection import train_test_split\n",
        "from sklearn.metrics import mean_squared_error\n",
        "from sklearn.linear_model import LinearRegression\n",
        "from sklearn.ensemble import RandomForestRegressor"
      ]
    },
    {
      "cell_type": "code",
      "source": [
        "# Для загрузки с помощью python можно использовать библиотеки zipfile, requests, os\n",
        "# Мы загрузили дата сеты по ссылке вручную (минимальную базу).\n",
        "movies = pd.read_csv('movies.csv')\n",
        "ratings = pd.read_csv('ratings.csv')\n",
        "tags = pd.read_csv('tags.csv')"
      ],
      "metadata": {
        "id": "L9GY_Ku1PBIC"
      },
      "execution_count": 2,
      "outputs": []
    },
    {
      "cell_type": "markdown",
      "source": [
        "#Подготовка фич"
      ],
      "metadata": {
        "id": "Y3OxWbREQ4wd"
      }
    },
    {
      "cell_type": "code",
      "source": [
        "# Создаем фичи для фильмов\n",
        "\n",
        "def prepare_movie_features():\n",
        "    # TF-IDF на жанрах\n",
        "    movies['genres'] = movies['genres'].str.replace('|', ' ')\n",
        "\n",
        "    # TF-IDF на тегах\n",
        "    movie_tags = tags.groupby('movieId')['tag'].apply(lambda x: ' '.join(x)).reset_index()\n",
        "    movie_tags.columns = ['movieId', 'tags']\n",
        "\n",
        "    # Объединяем жанры и теги\n",
        "    movie_features = movies.merge(movie_tags, on='movieId', how='left')\n",
        "    movie_features['tags'] = movie_features['tags'].fillna('')\n",
        "    movie_features['text_features'] = movie_features['genres'] + ' ' + movie_features['tags']\n",
        "\n",
        "    return movie_features\n",
        "\n",
        "# Создаем статистики по пользователям и фильмам\n",
        "def create_statistical_features(ratings_df):\n",
        "    # Статистики по пользователям\n",
        "    user_stats = ratings_df.groupby('userId')['rating'].agg([\n",
        "        'mean', 'median', 'std', 'count', 'var'\n",
        "    ]).reset_index()\n",
        "    user_stats.columns = ['userId', 'user_mean', 'user_median', 'user_std', 'user_count', 'user_var']\n",
        "\n",
        "    # Статистики по фильмам\n",
        "    movie_stats = ratings_df.groupby('movieId')['rating'].agg([\n",
        "        'mean', 'median', 'std', 'count', 'var'\n",
        "    ]).reset_index()\n",
        "    movie_stats.columns = ['movieId', 'movie_mean', 'movie_median', 'movie_std', 'movie_count', 'movie_var']\n",
        "\n",
        "    return user_stats, movie_stats\n",
        "\n",
        "# Подготовка данных\n",
        "print(\"Подготавливаем фичи...\")\n",
        "movie_features = prepare_movie_features()\n",
        "user_stats, movie_stats = create_statistical_features(ratings)\n",
        "\n",
        "# Объединяем все данные\n",
        "data = ratings.merge(user_stats, on='userId')\n",
        "data = data.merge(movie_stats, on='movieId')\n",
        "data = data.merge(movie_features[['movieId', 'text_features']], on='movieId')"
      ],
      "metadata": {
        "colab": {
          "base_uri": "https://localhost:8080/"
        },
        "id": "YTutArhpQ980",
        "outputId": "6fa2a3cd-386d-48af-890e-6faa5bffee28"
      },
      "execution_count": 3,
      "outputs": [
        {
          "output_type": "stream",
          "name": "stdout",
          "text": [
            "Подготавливаем фичи...\n"
          ]
        }
      ]
    },
    {
      "cell_type": "markdown",
      "source": [
        "#TF-IDF преобразование"
      ],
      "metadata": {
        "id": "HR05TzcSRROh"
      }
    },
    {
      "cell_type": "code",
      "source": [
        "# Создаем TF-IDF фичи\n",
        "print(\"Создаем TF-IDF фичи...\")\n",
        "tfidf = TfidfVectorizer(max_features=1000, stop_words='english')\n",
        "tfidf_features = tfidf.fit_transform(data['text_features'])\n",
        "\n",
        "# Преобразуем в DataFrame\n",
        "tfidf_df = pd.DataFrame(tfidf_features.toarray(),\n",
        "                       columns=[f'tfidf_{i}' for i in range(tfidf_features.shape[1])])\n",
        "tfidf_df.index = data.index\n",
        "\n",
        "# Объединяем все фичи\n",
        "feature_columns = ['user_mean', 'user_median', 'user_std', 'user_count', 'user_var',\n",
        "                  'movie_mean', 'movie_median', 'movie_std', 'movie_count', 'movie_var']\n",
        "\n",
        "X = pd.concat([data[feature_columns], tfidf_df], axis=1)\n",
        "y = data['rating']\n",
        "\n",
        "# Заполняем пропущенные значения\n",
        "X = X.fillna(0)"
      ],
      "metadata": {
        "colab": {
          "base_uri": "https://localhost:8080/"
        },
        "id": "nM08x72-RVsH",
        "outputId": "ce2dc458-d033-4be0-df13-55d62941d29d"
      },
      "execution_count": 4,
      "outputs": [
        {
          "output_type": "stream",
          "name": "stdout",
          "text": [
            "Создаем TF-IDF фичи...\n"
          ]
        }
      ]
    },
    {
      "cell_type": "markdown",
      "source": [
        "#Разделение на train/test, обучение моделей и сравнение RMSE"
      ],
      "metadata": {
        "id": "ihkMOG7tRhIJ"
      }
    },
    {
      "cell_type": "code",
      "source": [
        "# Разделяем данные\n",
        "X_train, X_test, y_train, y_test = train_test_split(\n",
        "    X, y, test_size=0.2, random_state=42\n",
        ")\n",
        "\n",
        "print(f\"Размер train: {X_train.shape}, test: {X_test.shape}\")\n",
        "\n",
        "# 1. Базовые модели для сравнения\n",
        "print(\"\\n1. Базовые модели для сравнения:\")\n",
        "\n",
        "# Только средние оценки (baseline)\n",
        "baseline_pred = np.full_like(y_test, y_train.mean())\n",
        "baseline_rmse = np.sqrt(mean_squared_error(y_test, baseline_pred))\n",
        "print(f\"Baseline (всегда средняя оценка): {baseline_rmse:.4f}\")\n",
        "\n",
        "# 2. Только статистические фичи (без TF-IDF)\n",
        "print(\"\\n2. Только статистические фичи пользователя/фильма:\")\n",
        "statistical_features = ['user_mean', 'user_median', 'user_std', 'user_count', 'user_var',\n",
        "                       'movie_mean', 'movie_median', 'movie_std', 'movie_count', 'movie_var']\n",
        "\n",
        "X_train_stats = X_train[statistical_features]\n",
        "X_test_stats = X_test[statistical_features]\n",
        "\n",
        "# Linear Regression на статистических фичах\n",
        "lr_stats = LinearRegression()\n",
        "lr_stats.fit(X_train_stats, y_train)\n",
        "lr_stats_pred = lr_stats.predict(X_test_stats)\n",
        "lr_stats_rmse = np.sqrt(mean_squared_error(y_test, lr_stats_pred))\n",
        "print(f\"Linear Regression (только статистики): {lr_stats_rmse:.4f}\")\n",
        "\n",
        "# Random Forest на статистических фичах\n",
        "rf_stats = RandomForestRegressor(n_estimators=100, random_state=42, n_jobs=-1)\n",
        "rf_stats.fit(X_train_stats, y_train)\n",
        "rf_stats_pred = rf_stats.predict(X_test_stats)\n",
        "rf_stats_rmse = np.sqrt(mean_squared_error(y_test, rf_stats_pred))\n",
        "print(f\"Random Forest (только статистики): {rf_stats_rmse:.4f}\")\n",
        "\n",
        "# 3. Полная модель со всеми фичами (включая TF-IDF)\n",
        "print(\"\\n3. Полная модель со всеми фичами (включая TF-IDF):\")\n",
        "\n",
        "# Линейная регрессия\n",
        "lr_model = LinearRegression()\n",
        "lr_model.fit(X_train, y_train)\n",
        "lr_pred = lr_model.predict(X_test)\n",
        "lr_rmse = np.sqrt(mean_squared_error(y_test, lr_pred))\n",
        "print(f\"Linear Regression (все фичи): {lr_rmse:.4f}\")\n",
        "\n",
        "# Random Forest\n",
        "rf_model = RandomForestRegressor(n_estimators=100, random_state=42, n_jobs=-1)\n",
        "rf_model.fit(X_train, y_train)\n",
        "rf_pred = rf_model.predict(X_test)\n",
        "rf_rmse = np.sqrt(mean_squared_error(y_test, rf_pred))\n",
        "print(f\"Random Forest (все фичи): {rf_rmse:.4f}\")\n",
        "\n",
        "# 4. Анализ улучшений\n",
        "print(\"\\n4. Анализ улучшений от TF-IDF:\")\n",
        "print(f\"Улучшение Linear Regression: {lr_stats_rmse - lr_rmse:.4f} ({((lr_stats_rmse - lr_rmse)/lr_stats_rmse*100):.1f}%)\")\n",
        "print(f\"Улучшение Random Forest: {rf_stats_rmse - rf_rmse:.4f} ({((rf_stats_rmse - rf_rmse)/rf_stats_rmse*100):.1f}%)\")"
      ],
      "metadata": {
        "colab": {
          "base_uri": "https://localhost:8080/"
        },
        "id": "DjhXVdptRlyI",
        "outputId": "dcc5fdf9-f771-4068-d06b-4a9a2e308c9e"
      },
      "execution_count": 7,
      "outputs": [
        {
          "output_type": "stream",
          "name": "stdout",
          "text": [
            "Размер train: (80668, 1010), test: (20168, 1010)\n",
            "\n",
            "1. Базовые модели для сравнения:\n",
            "Baseline (всегда средняя оценка): 1.0488\n",
            "\n",
            "2. Только статистические фичи пользователя/фильма:\n",
            "Linear Regression (только статистики): 0.8112\n",
            "Random Forest (только статистики): 0.8157\n",
            "\n",
            "3. Полная модель со всеми фичами (включая TF-IDF):\n",
            "Linear Regression (все фичи): 0.8166\n",
            "Random Forest (все фичи): 0.8087\n",
            "\n",
            "4. Анализ улучшений от TF-IDF:\n",
            "Улучшение Linear Regression: -0.0054 (-0.7%)\n",
            "Улучшение Random Forest: 0.0071 (0.9%)\n"
          ]
        }
      ]
    }
  ]
}