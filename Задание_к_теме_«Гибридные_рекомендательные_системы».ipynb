{
  "nbformat": 4,
  "nbformat_minor": 0,
  "metadata": {
    "colab": {
      "provenance": [],
      "authorship_tag": "ABX9TyN1cz+Qi8IrBkUbO8fQapqt",
      "include_colab_link": true
    },
    "kernelspec": {
      "name": "python3",
      "display_name": "Python 3"
    },
    "language_info": {
      "name": "python"
    }
  },
  "cells": [
    {
      "cell_type": "markdown",
      "metadata": {
        "id": "view-in-github",
        "colab_type": "text"
      },
      "source": [
        "<a href=\"https://colab.research.google.com/github/BirukovAlex/neto_Python/blob/main/%D0%97%D0%B0%D0%B4%D0%B0%D0%BD%D0%B8%D0%B5_%D0%BA_%D1%82%D0%B5%D0%BC%D0%B5_%C2%AB%D0%93%D0%B8%D0%B1%D1%80%D0%B8%D0%B4%D0%BD%D1%8B%D0%B5_%D1%80%D0%B5%D0%BA%D0%BE%D0%BC%D0%B5%D0%BD%D0%B4%D0%B0%D1%82%D0%B5%D0%BB%D1%8C%D0%BD%D1%8B%D0%B5_%D1%81%D0%B8%D1%81%D1%82%D0%B5%D0%BC%D1%8B%C2%BB.ipynb\" target=\"_parent\"><img src=\"https://colab.research.google.com/assets/colab-badge.svg\" alt=\"Open In Colab\"/></a>"
      ]
    },
    {
      "cell_type": "markdown",
      "source": [
        "Задача состоит в разработке гибридной рекомендательной системы по датасетам MovieLens. Результат оформим так: ID Пользователя, Понравившиеся фильмы, Рекомендуемые фильмы (% соответствия предпочтениям)"
      ],
      "metadata": {
        "id": "w49D1KQv4RMY"
      }
    },
    {
      "cell_type": "markdown",
      "source": [
        "#Загрузка библиотек"
      ],
      "metadata": {
        "id": "S1K6Gmbk4sFI"
      }
    },
    {
      "cell_type": "code",
      "execution_count": 1,
      "metadata": {
        "colab": {
          "base_uri": "https://localhost:8080/"
        },
        "id": "1agkyL-TqdG4",
        "outputId": "0e63f9a9-c056-4a24-8970-eb78d64fd6d2"
      },
      "outputs": [
        {
          "output_type": "stream",
          "name": "stdout",
          "text": [
            "Collecting git+https://github.com/daviddavo/lightfm\n",
            "  Cloning https://github.com/daviddavo/lightfm to /tmp/pip-req-build-x0a1bif3\n",
            "  Running command git clone --filter=blob:none --quiet https://github.com/daviddavo/lightfm /tmp/pip-req-build-x0a1bif3\n",
            "  Resolved https://github.com/daviddavo/lightfm to commit f0eb500ead54ab65eb8e1b3890337a7223a35114\n",
            "  Preparing metadata (setup.py) ... \u001b[?25l\u001b[?25hdone\n",
            "Requirement already satisfied: numpy in /usr/local/lib/python3.12/dist-packages (from lightfm==1.17) (2.0.2)\n",
            "Requirement already satisfied: scipy>=0.17.0 in /usr/local/lib/python3.12/dist-packages (from lightfm==1.17) (1.16.2)\n",
            "Requirement already satisfied: requests in /usr/local/lib/python3.12/dist-packages (from lightfm==1.17) (2.32.4)\n",
            "Requirement already satisfied: scikit-learn in /usr/local/lib/python3.12/dist-packages (from lightfm==1.17) (1.6.1)\n",
            "Requirement already satisfied: charset_normalizer<4,>=2 in /usr/local/lib/python3.12/dist-packages (from requests->lightfm==1.17) (3.4.3)\n",
            "Requirement already satisfied: idna<4,>=2.5 in /usr/local/lib/python3.12/dist-packages (from requests->lightfm==1.17) (3.10)\n",
            "Requirement already satisfied: urllib3<3,>=1.21.1 in /usr/local/lib/python3.12/dist-packages (from requests->lightfm==1.17) (2.5.0)\n",
            "Requirement already satisfied: certifi>=2017.4.17 in /usr/local/lib/python3.12/dist-packages (from requests->lightfm==1.17) (2025.8.3)\n",
            "Requirement already satisfied: joblib>=1.2.0 in /usr/local/lib/python3.12/dist-packages (from scikit-learn->lightfm==1.17) (1.5.2)\n",
            "Requirement already satisfied: threadpoolctl>=3.1.0 in /usr/local/lib/python3.12/dist-packages (from scikit-learn->lightfm==1.17) (3.6.0)\n",
            "Building wheels for collected packages: lightfm\n",
            "  Building wheel for lightfm (setup.py) ... \u001b[?25l\u001b[?25hdone\n",
            "  Created wheel for lightfm: filename=lightfm-1.17-cp312-cp312-linux_x86_64.whl size=1099142 sha256=0767d62d6ae6a63749b815cddf54275fca4e5361a7f8e0e67771b12ff84f3a21\n",
            "  Stored in directory: /tmp/pip-ephem-wheel-cache-h47db5ha/wheels/fd/89/93/70c1e5f378ee5043de89387ee3ef6852ff39e3b9eb44ecc1a3\n",
            "Successfully built lightfm\n",
            "Installing collected packages: lightfm\n",
            "Successfully installed lightfm-1.17\n"
          ]
        }
      ],
      "source": [
        "!pip install git+https://github.com/daviddavo/lightfm\n",
        "\n",
        "import numpy as np\n",
        "import pandas as pd\n",
        "\n",
        "from lightfm import LightFM"
      ]
    },
    {
      "cell_type": "code",
      "source": [
        "import numpy as np\n",
        "import pandas as pd\n",
        "\n",
        "from lightfm import LightFM\n",
        "from lightfm.data import Dataset\n",
        "from lightfm.evaluation import precision_at_k\n",
        "from scipy.sparse import coo_matrix\n",
        "import warnings\n",
        "warnings.filterwarnings('ignore')"
      ],
      "metadata": {
        "id": "xshbZtrkrkle"
      },
      "execution_count": 3,
      "outputs": []
    },
    {
      "cell_type": "markdown",
      "source": [
        "#Загрузка данных"
      ],
      "metadata": {
        "id": "T1ayR3GQ4xUd"
      }
    },
    {
      "cell_type": "code",
      "source": [
        "movies = pd.read_csv('movies.csv')\n",
        "ratings = pd.read_csv('ratings.csv')\n",
        "tags = pd.read_csv('tags.csv')\n",
        "links = pd.read_csv('links.csv')"
      ],
      "metadata": {
        "colab": {
          "base_uri": "https://localhost:8080/"
        },
        "id": "ddL2Pbamvf_p",
        "outputId": "4f5e23cc-6905-4b24-d82c-eca48b83c151"
      },
      "execution_count": 5,
      "outputs": [
        {
          "output_type": "stream",
          "name": "stdout",
          "text": [
            "Загрузка данных...\n"
          ]
        }
      ]
    },
    {
      "cell_type": "markdown",
      "source": [
        "#Предобработка данных"
      ],
      "metadata": {
        "id": "aCSkoX3m42aE"
      }
    },
    {
      "cell_type": "code",
      "source": [
        "# Объединим фильмы с рейтингами\n",
        "movie_ratings = pd.merge(ratings, movies, on='movieId')\n",
        "\n",
        "# Для примера возьмем топ-500 самых оцениваемых фильмов\n",
        "top_movies = movie_ratings['movieId'].value_counts().head(500).index\n",
        "filtered_ratings = movie_ratings[movie_ratings['movieId'].isin(top_movies)]\n",
        "\n",
        "# Отберем пользователей с достаточным количеством оценок\n",
        "user_rating_counts = filtered_ratings['userId'].value_counts()\n",
        "active_users = user_rating_counts[user_rating_counts >= 5].index\n",
        "filtered_ratings = filtered_ratings[filtered_ratings['userId'].isin(active_users)]"
      ],
      "metadata": {
        "colab": {
          "base_uri": "https://localhost:8080/"
        },
        "id": "QJdDxczBvue0",
        "outputId": "1a4481e4-a299-4739-e559-c62caaaf9e28"
      },
      "execution_count": 10,
      "outputs": [
        {
          "output_type": "stream",
          "name": "stdout",
          "text": [
            "Предобработка данных...\n"
          ]
        }
      ]
    },
    {
      "cell_type": "markdown",
      "source": [
        "#Подготовка фичей"
      ],
      "metadata": {
        "id": "308qeyve48TR"
      }
    },
    {
      "cell_type": "code",
      "source": [
        "# Жанры как фичи для элементов\n",
        "movies['genres'] = movies['genres'].str.split('|')\n",
        "all_genres = set()\n",
        "for genres in movies['genres'].dropna():\n",
        "    if isinstance(genres, list):\n",
        "        all_genres.update(genres)\n",
        "all_genres = list(all_genres)\n",
        "\n",
        "# Создаем датасет LightFM\n",
        "dataset = Dataset()\n",
        "dataset.fit(\n",
        "    users=filtered_ratings['userId'].unique(),\n",
        "    items=filtered_ratings['movieId'].unique(),\n",
        "    item_features=all_genres\n",
        ")\n",
        "\n",
        "# Создаем матрицу взаимодействий\n",
        "interactions, weights = dataset.build_interactions(\n",
        "    [(row['userId'], row['movieId'], row['rating'])\n",
        "     for _, row in filtered_ratings.iterrows()]\n",
        ")\n",
        "\n",
        "# Создаем фичи только для фильмов, которые есть в нашем датасете\n",
        "movie_features = []\n",
        "unique_movies_in_dataset = filtered_ratings['movieId'].unique()\n",
        "\n",
        "for movie_id in unique_movies_in_dataset:\n",
        "    movie_info = movies[movies['movieId'] == movie_id]\n",
        "    if len(movie_info) > 0:\n",
        "        movie_genres = movie_info['genres'].values[0]\n",
        "        if isinstance(movie_genres, list):\n",
        "            movie_features.append((movie_id, movie_genres))\n",
        "        else:\n",
        "            movie_features.append((movie_id, []))\n",
        "    else:\n",
        "        movie_features.append((movie_id, []))\n",
        "\n",
        "# Строим фичи элементов\n",
        "item_features = dataset.build_item_features(movie_features)\n"
      ],
      "metadata": {
        "colab": {
          "base_uri": "https://localhost:8080/"
        },
        "id": "aevbvkPiv0cQ",
        "outputId": "0047c368-338e-4f5d-959a-d6f045b8f73e"
      },
      "execution_count": 11,
      "outputs": [
        {
          "output_type": "stream",
          "name": "stdout",
          "text": [
            "Подготовка фичей...\n"
          ]
        }
      ]
    },
    {
      "cell_type": "markdown",
      "source": [
        "#Проверяем размерности (во избежание exeption)"
      ],
      "metadata": {
        "id": "dB9b6yqW5E7T"
      }
    },
    {
      "cell_type": "code",
      "source": [
        "print(f\"Количество фильмов в interactions: {interactions.shape[1]}\")\n",
        "print(f\"Количество фильмов в item_features: {item_features.shape[0]}\")"
      ],
      "metadata": {
        "colab": {
          "base_uri": "https://localhost:8080/"
        },
        "id": "y_b_vqJ2wAaW",
        "outputId": "ea68bc95-9262-496b-8ded-ab5bdacf39b5"
      },
      "execution_count": 12,
      "outputs": [
        {
          "output_type": "stream",
          "name": "stdout",
          "text": [
            "Количество фильмов в interactions: 500\n",
            "Количество фильмов в item_features: 500\n"
          ]
        }
      ]
    },
    {
      "cell_type": "markdown",
      "source": [
        "#Обучаем модель"
      ],
      "metadata": {
        "id": "BoaJI-K55Otk"
      }
    },
    {
      "cell_type": "code",
      "source": [
        "model = LightFM(loss='warp', no_components=20, learning_rate=0.05)\n",
        "model.fit(interactions, item_features=item_features, epochs=20, num_threads=2, verbose=True)"
      ],
      "metadata": {
        "colab": {
          "base_uri": "https://localhost:8080/"
        },
        "id": "xJcphPYb3TzF",
        "outputId": "efbe199d-3fc2-478f-adf9-3525bcaa2292"
      },
      "execution_count": 13,
      "outputs": [
        {
          "output_type": "stream",
          "name": "stdout",
          "text": [
            "Обучение модели...\n"
          ]
        },
        {
          "output_type": "stream",
          "name": "stderr",
          "text": [
            "Epoch: 100%|██████████| 20/20 [00:14<00:00,  1.37it/s]\n"
          ]
        },
        {
          "output_type": "execute_result",
          "data": {
            "text/plain": [
              "<lightfm.lightfm.LightFM at 0x7f433b089520>"
            ]
          },
          "metadata": {},
          "execution_count": 13
        }
      ]
    },
    {
      "cell_type": "markdown",
      "source": [
        "#Генерируем рекоммендации"
      ],
      "metadata": {
        "id": "bD2P_SjL5T1v"
      }
    },
    {
      "cell_type": "code",
      "source": [
        "# Создаем mapping для быстрого поиска\n",
        "user_id_map, user_feature_map, item_id_map, item_feature_map = dataset.mapping()\n",
        "\n",
        "# Для демонстрации возьмем первых 10 пользователей\n",
        "user_ids = list(filtered_ratings['userId'].unique()[:10])\n",
        "recommendations = {}\n",
        "\n",
        "for user_id in user_ids:\n",
        "    try:\n",
        "        # Фильмы, которые пользователь уже оценил высоко (>3.5)\n",
        "        user_ratings = filtered_ratings[filtered_ratings['userId'] == user_id]\n",
        "        liked_movies = user_ratings[\n",
        "            user_ratings['rating'] > 3.5\n",
        "        ]['title'].tolist()[:5]  # Берем первые 5 понравившихся\n",
        "\n",
        "        # Если нет высоких оценок, берем просто просмотренные\n",
        "        if not liked_movies:\n",
        "            liked_movies = user_ratings['title'].tolist()[:3]\n",
        "\n",
        "        # Предсказание рейтингов для всех фильмов\n",
        "        all_items = list(item_id_map.keys())\n",
        "        user_index = user_id_map[user_id]\n",
        "\n",
        "        scores = model.predict(user_index, np.array(list(item_id_map.values())),\n",
        "                             item_features=item_features)\n",
        "\n",
        "        # Исключаем уже просмотренные фильмы\n",
        "        viewed_movies = user_ratings['movieId'].values\n",
        "        viewed_indices = [item_id_map[movie_id] for movie_id in viewed_movies\n",
        "                         if movie_id in item_id_map]\n",
        "\n",
        "        # Создаем маску для непросмотренных фильмов\n",
        "        mask = np.ones(len(all_items), dtype=bool)\n",
        "        mask[viewed_indices] = False\n",
        "\n",
        "        available_scores = scores[mask]\n",
        "        available_items = np.array(all_items)[mask]\n",
        "\n",
        "        # Топ-5 рекомендаций\n",
        "        if len(available_scores) > 0:\n",
        "            top_indices = np.argsort(-available_scores)[:5]\n",
        "            recommended_movie_ids = available_items[top_indices]\n",
        "            recommendation_scores = available_scores[top_indices]\n",
        "\n",
        "            # Преобразуем scores в проценты (нормализуем)\n",
        "            max_score = np.max(scores) if len(scores) > 0 else 1\n",
        "            min_score = np.min(scores) if len(scores) > 0 else 0\n",
        "            if max_score > min_score:\n",
        "                accuracy_percentages = ((recommendation_scores - min_score) /\n",
        "                                      (max_score - min_score) * 100).astype(int)\n",
        "            else:\n",
        "                accuracy_percentages = np.array([80, 75, 70, 65, 60])  # fallback\n",
        "\n",
        "            # Получаем названия рекомендованных фильмов\n",
        "            recommended_movies = []\n",
        "            for movie_id, accuracy in zip(recommended_movie_ids, accuracy_percentages):\n",
        "                movie_title = movies[movies['movieId'] == movie_id]['title'].values\n",
        "                if len(movie_title) > 0:\n",
        "                    recommended_movies.append((movie_title[0], accuracy))\n",
        "                else:\n",
        "                    recommended_movies.append((f\"Фильм ID: {movie_id}\", accuracy))\n",
        "\n",
        "            recommendations[user_id] = {\n",
        "                'liked_movies': liked_movies,\n",
        "                'recommended_movies': recommended_movies\n",
        "            }\n",
        "        else:\n",
        "            recommendations[user_id] = {\n",
        "                'liked_movies': liked_movies,\n",
        "                'recommended_movies': [(\"Недостаточно данных для рекомендаций\", 0)]\n",
        "            }\n",
        "\n",
        "    except Exception as e:\n",
        "        print(f\"Ошибка для пользователя {user_id}: {e}\")\n",
        "        recommendations[user_id] = {\n",
        "            'liked_movies': [],\n",
        "            'recommended_movies': [(\"Ошибка генерации рекомендаций\", 0)]\n",
        "        }"
      ],
      "metadata": {
        "colab": {
          "base_uri": "https://localhost:8080/"
        },
        "id": "XuesZP0Z3cV6",
        "outputId": "f9c7ca45-c812-4689-f5e0-065461541bb6"
      },
      "execution_count": 14,
      "outputs": [
        {
          "output_type": "stream",
          "name": "stdout",
          "text": [
            "Генерация рекомендаций...\n"
          ]
        }
      ]
    },
    {
      "cell_type": "markdown",
      "source": [
        "#Формируем итоговую таблицу"
      ],
      "metadata": {
        "id": "40_F-3x65iT_"
      }
    },
    {
      "cell_type": "code",
      "source": [
        "# 7. Итоговые данные + лаконичный дизайн\n",
        "print(\"\\n\" + \"╔\" + \"═\" * 98 + \"╗\")\n",
        "print(\"║\" + \"🎬 РЕКОМЕНДАТЕЛЬНАЯ СИСТЕМА: ПЕРСОНАЛЬНЫЕ РЕКОМЕНДАЦИИ\".center(98) + \"║\")\n",
        "print(\"╚\" + \"═\" * 98 + \"╝\")\n",
        "\n",
        "for user_id, data in recommendations.items():\n",
        "    print(f\"\\n┌{'─' * 96}┐\")\n",
        "    print(f\"│ 👤 Пользователь #{user_id}\".ljust(97) + \"│\")\n",
        "    print(f\"├{'─' * 96}┤\")\n",
        "\n",
        "    # Секция понравившихся фильмов\n",
        "    print(f\"│ ❤️  Понравившиеся фильмы:\".ljust(97) + \"│\")\n",
        "    if data['liked_movies']:\n",
        "        for movie in data['liked_movies']:\n",
        "            print(f\"│    🎭 {movie}\".ljust(97) + \"│\")\n",
        "    else:\n",
        "        print(f\"│    📊 Недостаточно данных о предпочтениях\".ljust(97) + \"│\")\n",
        "\n",
        "    print(f\"├{'─' * 96}┤\")\n",
        "\n",
        "    # Секция рекомендаций\n",
        "    print(f\"│ 🎯 Рекомендуемые фильмы:\".ljust(97) + \"│\")\n",
        "    for movie, accuracy in data['recommended_movies']:\n",
        "        if accuracy >= 80:\n",
        "            indicator = \"🟢 Высокое соответствие\"\n",
        "        elif accuracy >= 60:\n",
        "            indicator = \"🟡 Среднее соответствие\"\n",
        "        else:\n",
        "            indicator = \"🔴 Базовые рекомендации\"\n",
        "\n",
        "        print(f\"│    ⭐ {movie}\".ljust(97) + \"│\")\n",
        "        print(f\"│       📊 Точность: {accuracy}% ({indicator})\".ljust(97) + \"│\")\n",
        "        print(f\"│\".ljust(97) + \"│\")\n",
        "\n",
        "    print(f\"└{'─' * 96}┘\")\n",
        "\n",
        "print(\"\\n\" + \"📊 Метрика точности показывает, насколько рекомендация соответствует вашим вкусам\")"
      ],
      "metadata": {
        "colab": {
          "base_uri": "https://localhost:8080/"
        },
        "id": "i7f1EJqK6d88",
        "outputId": "1bf8d0d6-7b02-4795-fdc6-699caf06904b"
      },
      "execution_count": 18,
      "outputs": [
        {
          "output_type": "stream",
          "name": "stdout",
          "text": [
            "\n",
            "╔══════════════════════════════════════════════════════════════════════════════════════════════════╗\n",
            "║                      🎬 РЕКОМЕНДАТЕЛЬНАЯ СИСТЕМА: ПЕРСОНАЛЬНЫЕ РЕКОМЕНДАЦИИ                       ║\n",
            "╚══════════════════════════════════════════════════════════════════════════════════════════════════╝\n",
            "\n",
            "┌────────────────────────────────────────────────────────────────────────────────────────────────┐\n",
            "│ 👤 Пользователь #1                                                                              │\n",
            "├────────────────────────────────────────────────────────────────────────────────────────────────┤\n",
            "│ ❤️  Понравившиеся фильмы:                                                                      │\n",
            "│    🎭 Toy Story (1995)                                                                          │\n",
            "│    🎭 Grumpier Old Men (1995)                                                                   │\n",
            "│    🎭 Heat (1995)                                                                               │\n",
            "│    🎭 Seven (a.k.a. Se7en) (1995)                                                               │\n",
            "│    🎭 Usual Suspects, The (1995)                                                                │\n",
            "├────────────────────────────────────────────────────────────────────────────────────────────────┤\n",
            "│ 🎯 Рекомендуемые фильмы:                                                                        │\n",
            "│    ⭐ Terminator 2: Judgment Day (1991)                                                         │\n",
            "│       📊 Точность: 94% (🟢 Высокое соответствие)                                                 │\n",
            "│                                                                                                │\n",
            "│    ⭐ Sixth Sense, The (1999)                                                                   │\n",
            "│       📊 Точность: 88% (🟢 Высокое соответствие)                                                 │\n",
            "│                                                                                                │\n",
            "│    ⭐ Aliens (1986)                                                                             │\n",
            "│       📊 Точность: 87% (🟢 Высокое соответствие)                                                 │\n",
            "│                                                                                                │\n",
            "│    ⭐ Jaws (1975)                                                                               │\n",
            "│       📊 Точность: 83% (🟢 Высокое соответствие)                                                 │\n",
            "│                                                                                                │\n",
            "│    ⭐ Die Hard (1988)                                                                           │\n",
            "│       📊 Точность: 82% (🟢 Высокое соответствие)                                                 │\n",
            "│                                                                                                │\n",
            "└────────────────────────────────────────────────────────────────────────────────────────────────┘\n",
            "\n",
            "┌────────────────────────────────────────────────────────────────────────────────────────────────┐\n",
            "│ 👤 Пользователь #2                                                                              │\n",
            "├────────────────────────────────────────────────────────────────────────────────────────────────┤\n",
            "│ ❤️  Понравившиеся фильмы:                                                                      │\n",
            "│    🎭 Tommy Boy (1995)                                                                          │\n",
            "│    🎭 Good Will Hunting (1997)                                                                  │\n",
            "│    🎭 Gladiator (2000)                                                                          │\n",
            "│    🎭 Kill Bill: Vol. 1 (2003)                                                                  │\n",
            "│    🎭 Departed, The (2006)                                                                      │\n",
            "├────────────────────────────────────────────────────────────────────────────────────────────────┤\n",
            "│ 🎯 Рекомендуемые фильмы:                                                                        │\n",
            "│    ⭐ District 9 (2009)                                                                         │\n",
            "│       📊 Точность: 84% (🟢 Высокое соответствие)                                                 │\n",
            "│                                                                                                │\n",
            "│    ⭐ Deadpool (2016)                                                                           │\n",
            "│       📊 Точность: 82% (🟢 Высокое соответствие)                                                 │\n",
            "│                                                                                                │\n",
            "│    ⭐ Bourne Ultimatum, The (2007)                                                              │\n",
            "│       📊 Точность: 82% (🟢 Высокое соответствие)                                                 │\n",
            "│                                                                                                │\n",
            "│    ⭐ Pulp Fiction (1994)                                                                       │\n",
            "│       📊 Точность: 81% (🟢 Высокое соответствие)                                                 │\n",
            "│                                                                                                │\n",
            "│    ⭐ Up (2009)                                                                                 │\n",
            "│       📊 Точность: 80% (🟢 Высокое соответствие)                                                 │\n",
            "│                                                                                                │\n",
            "└────────────────────────────────────────────────────────────────────────────────────────────────┘\n",
            "\n",
            "┌────────────────────────────────────────────────────────────────────────────────────────────────┐\n",
            "│ 👤 Пользователь #3                                                                              │\n",
            "├────────────────────────────────────────────────────────────────────────────────────────────────┤\n",
            "│ ❤️  Понравившиеся фильмы:                                                                      │\n",
            "│    🎭 Schindler's List (1993)                                                                   │\n",
            "│    🎭 Highlander (1986)                                                                         │\n",
            "│    🎭 Field of Dreams (1989)                                                                    │\n",
            "├────────────────────────────────────────────────────────────────────────────────────────────────┤\n",
            "│ 🎯 Рекомендуемые фильмы:                                                                        │\n",
            "│    ⭐ First Knight (1995)                                                                       │\n",
            "│       📊 Точность: 100% (🟢 Высокое соответствие)                                                │\n",
            "│                                                                                                │\n",
            "│    ⭐ Father of the Bride Part II (1995)                                                        │\n",
            "│       📊 Точность: 92% (🟢 Высокое соответствие)                                                 │\n",
            "│                                                                                                │\n",
            "│    ⭐ Firm, The (1993)                                                                          │\n",
            "│       📊 Точность: 91% (🟢 Высокое соответствие)                                                 │\n",
            "│                                                                                                │\n",
            "│    ⭐ Birdcage, The (1996)                                                                      │\n",
            "│       📊 Точность: 91% (🟢 Высокое соответствие)                                                 │\n",
            "│                                                                                                │\n",
            "│    ⭐ Nine Months (1995)                                                                        │\n",
            "│       📊 Точность: 90% (🟢 Высокое соответствие)                                                 │\n",
            "│                                                                                                │\n",
            "└────────────────────────────────────────────────────────────────────────────────────────────────┘\n",
            "\n",
            "┌────────────────────────────────────────────────────────────────────────────────────────────────┐\n",
            "│ 👤 Пользователь #4                                                                              │\n",
            "├────────────────────────────────────────────────────────────────────────────────────────────────┤\n",
            "│ ❤️  Понравившиеся фильмы:                                                                      │\n",
            "│    🎭 Star Wars: Episode IV - A New Hope (1977)                                                 │\n",
            "│    🎭 Maverick (1994)                                                                           │\n",
            "│    🎭 Fugitive, The (1993)                                                                      │\n",
            "│    🎭 Aladdin (1992)                                                                            │\n",
            "│    🎭 Silence of the Lambs, The (1991)                                                          │\n",
            "├────────────────────────────────────────────────────────────────────────────────────────────────┤\n",
            "│ 🎯 Рекомендуемые фильмы:                                                                        │\n",
            "│    ⭐ Shakespeare in Love (1998)                                                                │\n",
            "│       📊 Точность: 92% (🟢 Высокое соответствие)                                                 │\n",
            "│                                                                                                │\n",
            "│    ⭐ Graduate, The (1967)                                                                      │\n",
            "│       📊 Точность: 89% (🟢 Высокое соответствие)                                                 │\n",
            "│                                                                                                │\n",
            "│    ⭐ Who Framed Roger Rabbit? (1988)                                                           │\n",
            "│       📊 Точность: 87% (🟢 Высокое соответствие)                                                 │\n",
            "│                                                                                                │\n",
            "│    ⭐ When Harry Met Sally... (1989)                                                            │\n",
            "│       📊 Точность: 87% (🟢 Высокое соответствие)                                                 │\n",
            "│                                                                                                │\n",
            "│    ⭐ Vertigo (1958)                                                                            │\n",
            "│       📊 Точность: 86% (🟢 Высокое соответствие)                                                 │\n",
            "│                                                                                                │\n",
            "└────────────────────────────────────────────────────────────────────────────────────────────────┘\n",
            "\n",
            "┌────────────────────────────────────────────────────────────────────────────────────────────────┐\n",
            "│ 👤 Пользователь #5                                                                              │\n",
            "├────────────────────────────────────────────────────────────────────────────────────────────────┤\n",
            "│ ❤️  Понравившиеся фильмы:                                                                      │\n",
            "│    🎭 Toy Story (1995)                                                                          │\n",
            "│    🎭 Get Shorty (1995)                                                                         │\n",
            "│    🎭 Babe (1995)                                                                               │\n",
            "│    🎭 Dead Man Walking (1995)                                                                   │\n",
            "│    🎭 Usual Suspects, The (1995)                                                                │\n",
            "├────────────────────────────────────────────────────────────────────────────────────────────────┤\n",
            "│ 🎯 Рекомендуемые фильмы:                                                                        │\n",
            "│    ⭐ Forrest Gump (1994)                                                                       │\n",
            "│       📊 Точность: 93% (🟢 Высокое соответствие)                                                 │\n",
            "│                                                                                                │\n",
            "│    ⭐ Silence of the Lambs, The (1991)                                                          │\n",
            "│       📊 Точность: 90% (🟢 Высокое соответствие)                                                 │\n",
            "│                                                                                                │\n",
            "│    ⭐ Jurassic Park (1993)                                                                      │\n",
            "│       📊 Точность: 86% (🟢 Высокое соответствие)                                                 │\n",
            "│                                                                                                │\n",
            "│    ⭐ Sleepless in Seattle (1993)                                                               │\n",
            "│       📊 Точность: 82% (🟢 Высокое соответствие)                                                 │\n",
            "│                                                                                                │\n",
            "│    ⭐ While You Were Sleeping (1995)                                                            │\n",
            "│       📊 Точность: 82% (🟢 Высокое соответствие)                                                 │\n",
            "│                                                                                                │\n",
            "└────────────────────────────────────────────────────────────────────────────────────────────────┘\n",
            "\n",
            "┌────────────────────────────────────────────────────────────────────────────────────────────────┐\n",
            "│ 👤 Пользователь #6                                                                              │\n",
            "├────────────────────────────────────────────────────────────────────────────────────────────────┤\n",
            "│ ❤️  Понравившиеся фильмы:                                                                      │\n",
            "│    🎭 Jumanji (1995)                                                                            │\n",
            "│    🎭 Grumpier Old Men (1995)                                                                   │\n",
            "│    🎭 Father of the Bride Part II (1995)                                                        │\n",
            "│    🎭 Heat (1995)                                                                               │\n",
            "│    🎭 Sabrina (1995)                                                                            │\n",
            "├────────────────────────────────────────────────────────────────────────────────────────────────┤\n",
            "│ 🎯 Рекомендуемые фильмы:                                                                        │\n",
            "│    ⭐ Quiz Show (1994)                                                                          │\n",
            "│       📊 Точность: 90% (🟢 Высокое соответствие)                                                 │\n",
            "│                                                                                                │\n",
            "│    ⭐ Clueless (1995)                                                                           │\n",
            "│       📊 Точность: 83% (🟢 Высокое соответствие)                                                 │\n",
            "│                                                                                                │\n",
            "│    ⭐ Beverly Hills Cop III (1994)                                                              │\n",
            "│       📊 Точность: 74% (🟡 Среднее соответствие)                                                 │\n",
            "│                                                                                                │\n",
            "│    ⭐ Judge Dredd (1995)                                                                        │\n",
            "│       📊 Точность: 71% (🟡 Среднее соответствие)                                                 │\n",
            "│                                                                                                │\n",
            "│    ⭐ Ed Wood (1994)                                                                            │\n",
            "│       📊 Точность: 70% (🟡 Среднее соответствие)                                                 │\n",
            "│                                                                                                │\n",
            "└────────────────────────────────────────────────────────────────────────────────────────────────┘\n",
            "\n",
            "┌────────────────────────────────────────────────────────────────────────────────────────────────┐\n",
            "│ 👤 Пользователь #7                                                                              │\n",
            "├────────────────────────────────────────────────────────────────────────────────────────────────┤\n",
            "│ ❤️  Понравившиеся фильмы:                                                                      │\n",
            "│    🎭 Toy Story (1995)                                                                          │\n",
            "│    🎭 Usual Suspects, The (1995)                                                                │\n",
            "│    🎭 Apollo 13 (1995)                                                                          │\n",
            "│    🎭 Die Hard: With a Vengeance (1995)                                                         │\n",
            "│    🎭 Star Wars: Episode IV - A New Hope (1977)                                                 │\n",
            "├────────────────────────────────────────────────────────────────────────────────────────────────┤\n",
            "│ 🎯 Рекомендуемые фильмы:                                                                        │\n",
            "│    ⭐ Matrix, The (1999)                                                                        │\n",
            "│       📊 Точность: 99% (🟢 Высокое соответствие)                                                 │\n",
            "│                                                                                                │\n",
            "│    ⭐ Men in Black (a.k.a. MIB) (1997)                                                          │\n",
            "│       📊 Точность: 81% (🟢 Высокое соответствие)                                                 │\n",
            "│                                                                                                │\n",
            "│    ⭐ Fifth Element, The (1997)                                                                 │\n",
            "│       📊 Точность: 72% (🟡 Среднее соответствие)                                                 │\n",
            "│                                                                                                │\n",
            "│    ⭐ Saving Private Ryan (1998)                                                                │\n",
            "│       📊 Точность: 70% (🟡 Среднее соответствие)                                                 │\n",
            "│                                                                                                │\n",
            "│    ⭐ Raiders of the Lost Ark (Indiana Jones and the Raiders of the Lost Ark) (1981)            │\n",
            "│       📊 Точность: 70% (🟡 Среднее соответствие)                                                 │\n",
            "│                                                                                                │\n",
            "└────────────────────────────────────────────────────────────────────────────────────────────────┘\n",
            "\n",
            "┌────────────────────────────────────────────────────────────────────────────────────────────────┐\n",
            "│ 👤 Пользователь #8                                                                              │\n",
            "├────────────────────────────────────────────────────────────────────────────────────────────────┤\n",
            "│ ❤️  Понравившиеся фильмы:                                                                      │\n",
            "│    🎭 Jumanji (1995)                                                                            │\n",
            "│    🎭 American President, The (1995)                                                            │\n",
            "│    🎭 Get Shorty (1995)                                                                         │\n",
            "│    🎭 Babe (1995)                                                                               │\n",
            "│    🎭 Seven (a.k.a. Se7en) (1995)                                                               │\n",
            "├────────────────────────────────────────────────────────────────────────────────────────────────┤\n",
            "│ 🎯 Рекомендуемые фильмы:                                                                        │\n",
            "│    ⭐ Aladdin (1992)                                                                            │\n",
            "│       📊 Точность: 91% (🟢 Высокое соответствие)                                                 │\n",
            "│                                                                                                │\n",
            "│    ⭐ Beauty and the Beast (1991)                                                               │\n",
            "│       📊 Точность: 87% (🟢 Высокое соответствие)                                                 │\n",
            "│                                                                                                │\n",
            "│    ⭐ Ace Ventura: Pet Detective (1994)                                                         │\n",
            "│       📊 Точность: 85% (🟢 Высокое соответствие)                                                 │\n",
            "│                                                                                                │\n",
            "│    ⭐ Clear and Present Danger (1994)                                                           │\n",
            "│       📊 Точность: 81% (🟢 Высокое соответствие)                                                 │\n",
            "│                                                                                                │\n",
            "│    ⭐ Crimson Tide (1995)                                                                       │\n",
            "│       📊 Точность: 80% (🟢 Высокое соответствие)                                                 │\n",
            "│                                                                                                │\n",
            "└────────────────────────────────────────────────────────────────────────────────────────────────┘\n",
            "\n",
            "┌────────────────────────────────────────────────────────────────────────────────────────────────┐\n",
            "│ 👤 Пользователь #9                                                                              │\n",
            "├────────────────────────────────────────────────────────────────────────────────────────────────┤\n",
            "│ ❤️  Понравившиеся фильмы:                                                                      │\n",
            "│    🎭 Clerks (1994)                                                                             │\n",
            "│    🎭 Citizen Kane (1941)                                                                       │\n",
            "│    🎭 Raiders of the Lost Ark (Indiana Jones and the Raiders of the Lost Ark) (1981)            │\n",
            "│    🎭 Back to the Future (1985)                                                                 │\n",
            "│    🎭 Back to the Future Part III (1990)                                                        │\n",
            "├────────────────────────────────────────────────────────────────────────────────────────────────┤\n",
            "│ 🎯 Рекомендуемые фильмы:                                                                        │\n",
            "│    ⭐ Matrix, The (1999)                                                                        │\n",
            "│       📊 Точность: 100% (🟢 Высокое соответствие)                                                │\n",
            "│                                                                                                │\n",
            "│    ⭐ Shrek (2001)                                                                              │\n",
            "│       📊 Точность: 97% (🟢 Высокое соответствие)                                                 │\n",
            "│                                                                                                │\n",
            "│    ⭐ Pirates of the Caribbean: The Curse of the Black Pearl (2003)                             │\n",
            "│       📊 Точность: 87% (🟢 Высокое соответствие)                                                 │\n",
            "│                                                                                                │\n",
            "│    ⭐ X-Men (2000)                                                                              │\n",
            "│       📊 Точность: 86% (🟢 Высокое соответствие)                                                 │\n",
            "│                                                                                                │\n",
            "│    ⭐ Spider-Man (2002)                                                                         │\n",
            "│       📊 Точность: 85% (🟢 Высокое соответствие)                                                 │\n",
            "│                                                                                                │\n",
            "└────────────────────────────────────────────────────────────────────────────────────────────────┘\n",
            "\n",
            "┌────────────────────────────────────────────────────────────────────────────────────────────────┐\n",
            "│ 👤 Пользователь #10                                                                             │\n",
            "├────────────────────────────────────────────────────────────────────────────────────────────────┤\n",
            "│ ❤️  Понравившиеся фильмы:                                                                      │\n",
            "│    🎭 Aladdin (1992)                                                                            │\n",
            "│    🎭 Casablanca (1942)                                                                         │\n",
            "│    🎭 Gladiator (2000)                                                                          │\n",
            "│    🎭 Shrek (2001)                                                                              │\n",
            "│    🎭 Legally Blonde (2001)                                                                     │\n",
            "├────────────────────────────────────────────────────────────────────────────────────────────────┤\n",
            "│ 🎯 Рекомендуемые фильмы:                                                                        │\n",
            "│    ⭐ Inception (2010)                                                                          │\n",
            "│       📊 Точность: 90% (🟢 Высокое соответствие)                                                 │\n",
            "│                                                                                                │\n",
            "│    ⭐ WALL·E (2008)                                                                             │\n",
            "│       📊 Точность: 86% (🟢 Высокое соответствие)                                                 │\n",
            "│                                                                                                │\n",
            "│    ⭐ Pirates of the Caribbean: The Curse of the Black Pearl (2003)                             │\n",
            "│       📊 Точность: 85% (🟢 Высокое соответствие)                                                 │\n",
            "│                                                                                                │\n",
            "│    ⭐ Ocean's Eleven (2001)                                                                     │\n",
            "│       📊 Точность: 85% (🟢 Высокое соответствие)                                                 │\n",
            "│                                                                                                │\n",
            "│    ⭐ Shawshank Redemption, The (1994)                                                          │\n",
            "│       📊 Точность: 84% (🟢 Высокое соответствие)                                                 │\n",
            "│                                                                                                │\n",
            "└────────────────────────────────────────────────────────────────────────────────────────────────┘\n",
            "\n",
            "📊 Метрика точности показывает, насколько рекомендация соответствует вашим вкусам\n"
          ]
        }
      ]
    },
    {
      "cell_type": "markdown",
      "source": [
        "#Всякая техническая информация"
      ],
      "metadata": {
        "id": "M6GAqXRm7B_c"
      }
    },
    {
      "cell_type": "code",
      "source": [
        "# 8. Дополнительная информация о качестве модели\n",
        "print(\"\\n\" + \"=\"*80)\n",
        "print(\"ИНФОРМАЦИЯ О КАЧЕСТВЕ МОДЕЛИ\")\n",
        "print(\"=\"*80)\n",
        "\n",
        "try:\n",
        "    # Оценка precision@k\n",
        "    train_precision = precision_at_k(model, interactions,\n",
        "                                   item_features=item_features, k=5).mean()\n",
        "    print(f\"Precision@5 на обучающих данных: {train_precision:.2%}\")\n",
        "except:\n",
        "    print(\"Не удалось вычислить precision@k\")\n",
        "\n",
        "print(\"\\nМетрика 'Соответствие предпочтениям' показывает,\")\n",
        "print(\"насколько рекомендация соответствует вашим вкусам на основе:\")\n",
        "print(\"- Ваших предыдущих оценок\")\n",
        "print(\"- Схожести с понравившимися вам фильмами\")\n",
        "print(\"- Популярности среди пользователей с похожими предпочтениями\")\n",
        "print(\"- Жанровых предпочтений\")"
      ],
      "metadata": {
        "colab": {
          "base_uri": "https://localhost:8080/"
        },
        "id": "DY86Sbmk3-e8",
        "outputId": "23135dcc-47de-46c6-ea36-84148b64ca3e"
      },
      "execution_count": 16,
      "outputs": [
        {
          "output_type": "stream",
          "name": "stdout",
          "text": [
            "\n",
            "================================================================================\n",
            "ИНФОРМАЦИЯ О КАЧЕСТВЕ МОДЕЛИ\n",
            "================================================================================\n",
            "Precision@5 на обучающих данных: 78.05%\n",
            "\n",
            "Метрика 'Соответствие предпочтениям' показывает,\n",
            "насколько рекомендация соответствует вашим вкусам на основе:\n",
            "- Ваших предыдущих оценок\n",
            "- Схожести с понравившимися вам фильмами\n",
            "- Популярности среди пользователей с похожими предпочтениями\n",
            "- Жанровых предпочтений\n"
          ]
        }
      ]
    },
    {
      "cell_type": "code",
      "source": [
        "# 9. Дополнительная статистика\n",
        "print(\"\\n\" + \"=\"*80)\n",
        "print(\"СТАТИСТИКА ДАННЫХ\")\n",
        "print(\"=\"*80)\n",
        "print(f\"Всего пользователей: {len(filtered_ratings['userId'].unique())}\")\n",
        "print(f\"Всего фильмов: {len(filtered_ratings['movieId'].unique())}\")\n",
        "print(f\"Всего оценок: {len(filtered_ratings)}\")\n",
        "print(f\"Уникальных жанров: {len(all_genres)}\")"
      ],
      "metadata": {
        "colab": {
          "base_uri": "https://localhost:8080/"
        },
        "id": "x5l4hSeQ4GP2",
        "outputId": "4cb72d42-0ddc-45b5-ee85-ed6003f8e77b"
      },
      "execution_count": 17,
      "outputs": [
        {
          "output_type": "stream",
          "name": "stdout",
          "text": [
            "\n",
            "================================================================================\n",
            "СТАТИСТИКА ДАННЫХ\n",
            "================================================================================\n",
            "Всего пользователей: 596\n",
            "Всего фильмов: 500\n",
            "Всего оценок: 43701\n",
            "Уникальных жанров: 0\n"
          ]
        }
      ]
    }
  ]
}