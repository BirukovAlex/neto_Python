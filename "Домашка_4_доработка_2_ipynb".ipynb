{
  "nbformat": 4,
  "nbformat_minor": 0,
  "metadata": {
    "colab": {
      "provenance": [],
      "authorship_tag": "ABX9TyP413k9u+uStVCXTfvNeYu9",
      "include_colab_link": true
    },
    "kernelspec": {
      "name": "python3",
      "display_name": "Python 3"
    },
    "language_info": {
      "name": "python"
    }
  },
  "cells": [
    {
      "cell_type": "markdown",
      "metadata": {
        "id": "view-in-github",
        "colab_type": "text"
      },
      "source": [
        "<a href=\"https://colab.research.google.com/github/BirukovAlex/neto_Python/blob/main/%22%D0%94%D0%BE%D0%BC%D0%B0%D1%88%D0%BA%D0%B0_4_%D0%B4%D0%BE%D1%80%D0%B0%D0%B1%D0%BE%D1%82%D0%BA%D0%B0_2_ipynb%22.ipynb\" target=\"_parent\"><img src=\"https://colab.research.google.com/assets/colab-badge.svg\" alt=\"Open In Colab\"/></a>"
      ]
    },
    {
      "cell_type": "markdown",
      "source": [
        "1. `p` - узнать владельца по номеру\n",
        "2. `s` - узнать на какой полке хранится документ\n",
        "3. `l` - увидеть полную информацию по всем документам\n",
        "4. `ads` - добавить новую полку\n",
        "5. `ds` - удалить существующую полку из данных, только если она пустая."
      ],
      "metadata": {
        "id": "8fcgTxzQ8-oT"
      }
    },
    {
      "cell_type": "code",
      "execution_count": null,
      "metadata": {
        "id": "EGVcA2pD7tqo"
      },
      "outputs": [],
      "source": [
        "documents = [\n",
        "{'type': 'passport', 'number': '2207 876234', 'name': 'Василий Гупкин'},\n",
        "{'type': 'invoice', 'number': '11-2', 'name': 'Геннадий Покемонов'},\n",
        "{'type': 'insurance', 'number': '10006', 'name': 'Аристарх Павлов'}\n",
        "]\n",
        "\n",
        "directories = {\n",
        "'1': ['2207 876234', '11-2'],\n",
        "'2': ['10006'],\n",
        "'3': []\n",
        "}\n",
        "\n",
        "\n"
      ]
    },
    {
      "cell_type": "code",
      "source": [
        "#1. `p` - узнать владельца по номеру.\n",
        "def owner():\n",
        "  number_doc = input ('Введите номер документа: ')\n",
        "  for row in documents:\n",
        "        if row['number'] == number_doc:\n",
        "          owner_name = 'Владелец документа: ' + row['name']\n",
        "          return owner_name\n",
        "  else:\n",
        "          return (f'Документ не найден в базе')\n",
        "#owner()"
      ],
      "metadata": {
        "id": "uVTdZjWLCoGz"
      },
      "execution_count": null,
      "outputs": []
    },
    {
      "cell_type": "code",
      "source": [
        "#2. `s` - узнать на какой полке хранится документ\n",
        "def doc_dir():\n",
        "    number_doc = input ('Введите номер документа: ')\n",
        "    for i, k in directories.items():\n",
        "        if number_doc in k:\n",
        "            shelf = 'Документ хранится на полке: ' + i\n",
        "            return shelf\n",
        "    else:\n",
        "            return (f'На полках нет такого документа')\n",
        "#doc_dir()"
      ],
      "metadata": {
        "id": "KaqNraFg-jJo"
      },
      "execution_count": null,
      "outputs": []
    },
    {
      "cell_type": "code",
      "source": [
        "#3. `l` - увидеть полную информацию по всем документам\n",
        "def list_doc():\n",
        "    for i in documents:\n",
        "        for item, values in directories.items():\n",
        "            if i['number'] in values:\n",
        "                print('№ ' + i['number'] + ', тип: ' + i['type'] + ', владелец: ' + i['name'] + ', полка хранения: ' + item)"
      ],
      "metadata": {
        "id": "PtBNaGau-lRE"
      },
      "execution_count": null,
      "outputs": []
    },
    {
      "cell_type": "code",
      "source": [
        "def list_shelf():\n",
        "  i = list(directories)\n",
        "  return \", \".join(i)"
      ],
      "metadata": {
        "id": "BORDgt3k6z7J"
      },
      "execution_count": null,
      "outputs": []
    },
    {
      "cell_type": "code",
      "source": [
        "list_shelf()"
      ],
      "metadata": {
        "colab": {
          "base_uri": "https://localhost:8080/",
          "height": 36
        },
        "id": "W3SYa0R89a4R",
        "outputId": "32a7ac45-78ee-4d76-99e7-f1c364413511"
      },
      "execution_count": null,
      "outputs": [
        {
          "output_type": "execute_result",
          "data": {
            "text/plain": [
              "'1, 2, 3'"
            ],
            "application/vnd.google.colaboratory.intrinsic+json": {
              "type": "string"
            }
          },
          "metadata": {},
          "execution_count": 7
        }
      ]
    },
    {
      "cell_type": "code",
      "source": [
        "#4. `ads` - добавить новую полку\n",
        "def add_shelf():\n",
        "  shelf_num = input('Введите номер полки: ')\n",
        "  #for item, values in directories.items():\n",
        "  if shelf_num in directories.keys():\n",
        "      print('Такая полка уже существует. Текуший список полок: ' + list_shelf())\n",
        "  else:\n",
        "      directories[shelf_num]=[]\n",
        "      print(f'Полка добавлена. Текущий перечень полок: '+ list_shelf())\n",
        "\n",
        "add_shelf()"
      ],
      "metadata": {
        "id": "_l2jW77k-oUg",
        "colab": {
          "base_uri": "https://localhost:8080/"
        },
        "outputId": "95cc01aa-624b-40bb-eb2e-634c08edf12f"
      },
      "execution_count": null,
      "outputs": [
        {
          "output_type": "stream",
          "name": "stdout",
          "text": [
            "Введите номер полки: 2\n",
            "Такая полка уже существует. Текуший список полок: 1, 2, 3\n"
          ]
        }
      ]
    },
    {
      "cell_type": "code",
      "source": [
        "#5. `ds` - удалить существующую полку из данных, только если она пустая.\n",
        "def del_shelf():\n",
        "  shelf_num = input('Введите номер полки: ')\n",
        "  #for item, values in directories.items():\n",
        "  if shelf_num in directories.keys() and directories[shelf_num] == []:\n",
        "    del directories[shelf_num]\n",
        "    print('Полка удалена. Текущий перечень полок: '+ list_shelf())\n",
        "  elif shelf_num in directories.keys() and directories[shelf_num] != []:\n",
        "    print('На полке есть документа, удалите их перед удалением полки. Текущий перечень полок: ' + list_shelf())\n",
        "  else:\n",
        "    print(f'Такая полка не существует. Текущий перечень полок: ' + list_shelf())\n",
        "\n",
        "del_shelf()"
      ],
      "metadata": {
        "id": "NpwQzBfv-t97",
        "colab": {
          "base_uri": "https://localhost:8080/"
        },
        "outputId": "9b6d2877-5185-4302-ba11-e48c0bbb41d6"
      },
      "execution_count": null,
      "outputs": [
        {
          "output_type": "stream",
          "name": "stdout",
          "text": [
            "Введите номер полки: 4\n",
            "Полка удалена. Текущий перечень полок: 1, 2, 3\n"
          ]
        }
      ]
    },
    {
      "cell_type": "code",
      "source": [
        "#`p` - узнать владельца по номеру.\n",
        "#`s` - узнать на какой полке хранится документ\n",
        "#`l` - увидеть полную информацию по всем документам\n",
        "#`ads` - добавить новую полку\n",
        "#`ds` - удалить существующую полку из данных, только если она пустая.\n",
        "#`q` - выход\n",
        "\n",
        "def main():\n",
        "\n",
        "  command = 0\n",
        "  while command != 'q':\n",
        "    command = input('Введите команду: ')\n",
        "    match command:\n",
        "      case 'p': print(owner())\n",
        "      case 's': print(doc_dir())\n",
        "      case 'l': print(list_doc())\n",
        "      case 'ads': print(add_shelf())\n",
        "      case 'ds': print(del_shelf())\n",
        "      case 'q': print('Работа завершена')\n",
        "\n",
        "\n",
        "main()"
      ],
      "metadata": {
        "id": "XUvVHweS-xeG",
        "colab": {
          "base_uri": "https://localhost:8080/"
        },
        "outputId": "d80ddb81-e230-43e0-cf31-115bbd7f4601"
      },
      "execution_count": null,
      "outputs": [
        {
          "output_type": "stream",
          "name": "stdout",
          "text": [
            "Введите команду: p\n",
            "Введите номер документа: 11-2\n",
            "Владелец документа: Геннадий Покемонов\n",
            "Введите команду: s\n",
            "Введите номер документа: 11-2\n",
            "Документ хранится на полке: 1\n",
            "Введите команду: l\n",
            "№ 2207 876234, тип: passport, владелец: Василий Гупкин, полка хранения: 1\n",
            "№ 11-2, тип: invoice, владелец: Геннадий Покемонов, полка хранения: 1\n",
            "№ 10006, тип: insurance, владелец: Аристарх Павлов, полка хранения: 2\n",
            "None\n",
            "Введите команду: ads\n",
            "Введите номер полки: 4\n",
            "Полка добавлена. Текущий перечень полок: 1, 2, 3, 4\n",
            "None\n",
            "Введите команду: ds\n",
            "Введите номер полки: 4\n",
            "Полка удалена. Текущий перечень полок: 1, 2, 3\n",
            "None\n",
            "Введите команду: q\n",
            "Работа завершена\n"
          ]
        }
      ]
    }
  ]
}