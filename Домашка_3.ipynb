{
  "nbformat": 4,
  "nbformat_minor": 0,
  "metadata": {
    "colab": {
      "provenance": [],
      "authorship_tag": "ABX9TyMdVgIePrWYJuVPOKJv4YVG",
      "include_colab_link": true
    },
    "kernelspec": {
      "name": "python3",
      "display_name": "Python 3"
    },
    "language_info": {
      "name": "python"
    }
  },
  "cells": [
    {
      "cell_type": "markdown",
      "metadata": {
        "id": "view-in-github",
        "colab_type": "text"
      },
      "source": [
        "<a href=\"https://colab.research.google.com/github/BirukovAlex/neto_Python/blob/main/%D0%94%D0%BE%D0%BC%D0%B0%D1%88%D0%BA%D0%B0_3.ipynb\" target=\"_parent\"><img src=\"https://colab.research.google.com/assets/colab-badge.svg\" alt=\"Open In Colab\"/></a>"
      ]
    },
    {
      "cell_type": "markdown",
      "source": [
        "**Задание 1**\n",
        "\n",
        "Дана переменная, в которой хранится словарь, содержащий гео-метки для каждого пользователя (пример структуры данных приведен ниже). Вам необходимо написать программу, которая выведет на экран множество уникальных гео-меток всех пользователей.\n",
        "\n",
        "Пример работы программы:\n",
        "\n",
        "ids = {'user1': [213, 213, 213, 15, 213],\n",
        "       'user2': [54, 54, 119, 119, 119],\n",
        "       'user3': [213, 98, 98, 35]}\n",
        "Результат: {98, 35, 15, 213, 54, 119}"
      ],
      "metadata": {
        "id": "KOa2-JJo_ZbV"
      }
    },
    {
      "cell_type": "code",
      "execution_count": null,
      "metadata": {
        "colab": {
          "base_uri": "https://localhost:8080/"
        },
        "id": "jbXIcTJX_WAQ",
        "outputId": "3ef2561d-20b4-47e5-9365-18584e74258a"
      },
      "outputs": [
        {
          "output_type": "stream",
          "name": "stdout",
          "text": [
            "{98, 35, 213, 54, 119, 15}\n"
          ]
        }
      ],
      "source": [
        "ids = {'user1': [213, 213, 213, 15, 213],\n",
        "       'user2': [54, 54, 119, 119, 119],\n",
        "       'user3': [213, 98, 98, 35]}\n",
        "\n",
        "ids_geo = set() #определяем уникальные значения в словаре\n",
        "for geo in ids.values():\n",
        "    ids_geo = ids_geo.union(set(geo)) #объединяем уникальыне значения в строку, без упорядочивания\n",
        "\n",
        "print(ids_geo)"
      ]
    },
    {
      "cell_type": "markdown",
      "source": [
        "**Задание 2**\n",
        "\n",
        "Дана переменная, в которой хранится список поисковых запросов пользователя (пример структуры данных приведен ниже, но запросы потенциально могут быть любые). Вам необходимо написать программу, которая выведет на экран распределение количества слов в запросах в требуемом виде.\n",
        "\n",
        "Пример работы программы:\n",
        "\n",
        "queries = [\n",
        "    'смотреть сериалы онлайн',\n",
        "    'новости спорта',\n",
        "    'афиша кино',\n",
        "    'курс доллара',\n",
        "    'сериалы этим летом',\n",
        "    'курс по питону',\n",
        "    'сериалы про спорт',\n",
        "]\n",
        "Результат:\n",
        "\n",
        "Поисковых запросов, содержащих 2 слов(а): 42.86%\n",
        "Поисковых запросов, содержащих 3 слов(а): 57.14%"
      ],
      "metadata": {
        "id": "-RvTd5V7_kWl"
      }
    },
    {
      "cell_type": "code",
      "source": [
        "queries = ['смотреть сериалы онлайн','новости спорта','афиша кино','курс доллара','сериалы этим летом','курс по питону','сериалы про спорт']\n",
        "#посчитать слова в запросе. сколько запросов с количеством i по отношению к общему количеству запросов в новом списке. работаем с кол-вом слов, новый список.\n",
        "#Список не окончательный, значит нужен счётчик и while\n",
        "zapros = []\n",
        "\n",
        "for item in queries:\n",
        "    zapros.append(len(item.split())) #в новый список записываем количество слов в каждом значении queries\n",
        "\n",
        "i = 1\n",
        "\n",
        "while i <= max(zapros):\n",
        "    if zapros.count(i) >0:\n",
        "        print('Поисковых запросов, содержащих', i ,'слов:', round(zapros.count(i)*100/len(zapros),2),'%')\n",
        "    i += 1"
      ],
      "metadata": {
        "colab": {
          "base_uri": "https://localhost:8080/"
        },
        "id": "zGNic4Llb1W0",
        "outputId": "7e4de09a-b1c4-400f-b947-9b40d1d4b6a0"
      },
      "execution_count": null,
      "outputs": [
        {
          "output_type": "stream",
          "name": "stdout",
          "text": [
            "Поисковых запросов, содержащих 2 слов: 42.86 %\n",
            "Поисковых запросов, содержащих 3 слов: 57.14 %\n"
          ]
        }
      ]
    },
    {
      "cell_type": "markdown",
      "source": [
        "**коммент эксперта:** использоваь list comprehension\n",
        "\n",
        "for i in set([len(i.split())\n",
        "\n",
        "for i in queries]):\n",
        "\n",
        "\t\tprint(f'Поисковых запросов, содержащих {i} слов(а): {len([s for s in queries if len(s.split()) == i ]) / len(queries) :.2%}')\n",
        "\n",
        "Синтаксис list comprehension.\n",
        "new_list = [expression(element) for element in some_obj if condition]"
      ],
      "metadata": {
        "id": "knGwDFPwIJH7"
      }
    },
    {
      "cell_type": "markdown",
      "source": [
        "**Задание 3**\n",
        "\n",
        "Дана переменная, в которой хранится информация о затратах и доходе рекламных кампаний по различным источникам. Необходимо дополнить исходную структуру показателем ROI, который рассчитаем по формуле: ((revenue / cost) - 1) * 100\n",
        "\n",
        "Пример работы программы:\n",
        "\n",
        "results = {\n",
        "    'vk': {'revenue': 103, 'cost': 98},\n",
        "    'yandex': {'revenue': 179, 'cost': 153},\n",
        "    'facebook': {'revenue': 103, 'cost': 110},\n",
        "    'adwords': {'revenue': 35, 'cost': 34},\n",
        "    'twitter': {'revenue': 11, 'cost': 24},\n",
        "}\n",
        "Результат:\n",
        "\n",
        "{'adwords': {'revenue': 35, 'cost': 34, 'ROI': 2.94},\n",
        " 'facebook': {'revenue': 103, 'cost': 110, 'ROI': -6.36},\n",
        " 'twitter': {'revenue': 11, 'cost': 24, 'ROI': -54.17},\n",
        " 'vk': {'revenue': 103, 'cost': 98, 'ROI': 5.1},\n",
        " 'yandex': {'revenue': 179, 'cost': 153, 'ROI': 16.99}}"
      ],
      "metadata": {
        "id": "Q7qeB5db_sEV"
      }
    },
    {
      "cell_type": "code",
      "source": [
        "results = {\n",
        "    'vk': {'revenue': 103, 'cost': 98},\n",
        "    'yandex': {'revenue': 179, 'cost': 153},\n",
        "    'facebook': {'revenue': 103, 'cost': 110},\n",
        "    'adwords': {'revenue': 35, 'cost': 34},\n",
        "    'twitter': {'revenue': 11, 'cost': 24},\n",
        "    }\n",
        "#нам надо дополнить словарь показателм ROI. для этого используем метод update. всё то же самое + ROI\n",
        "for row, values in results.items():\n",
        "  results.update({row:{'revenue':values['revenue'], 'cost':values['cost'], 'ROI':round((values['revenue'] / values['cost'] - 1) * 100, 2)}})\n",
        "results"
      ],
      "metadata": {
        "colab": {
          "base_uri": "https://localhost:8080/"
        },
        "id": "KHyFnpbfj1SC",
        "outputId": "0c840944-ae01-4e34-aa55-a29a6d57d6d8"
      },
      "execution_count": null,
      "outputs": [
        {
          "output_type": "execute_result",
          "data": {
            "text/plain": [
              "{'vk': {'revenue': 103, 'cost': 98, 'ROI': 5.1},\n",
              " 'yandex': {'revenue': 179, 'cost': 153, 'ROI': 16.99},\n",
              " 'facebook': {'revenue': 103, 'cost': 110, 'ROI': -6.36},\n",
              " 'adwords': {'revenue': 35, 'cost': 34, 'ROI': 2.94},\n",
              " 'twitter': {'revenue': 11, 'cost': 24, 'ROI': -54.17}}"
            ]
          },
          "metadata": {},
          "execution_count": 62
        }
      ]
    },
    {
      "cell_type": "markdown",
      "source": [
        "**Задание 4**\n",
        "\n",
        "Дана переменная, в которой хранится статистика рекламных каналов по объемам продаж (пример структуры данных приведен ниже). Напишите программу, которая возвращает название канала с максимальным объемом продаж.\n",
        "\n",
        "Пример работы программы:\n",
        "\n",
        "stats = {'facebook': 55, 'yandex': 115, 'vk': 120, 'google': 99, 'email': 42, 'ok': 98}\n",
        "\n",
        "Результат: Максимальный объем продаж на рекламном канале: vk"
      ],
      "metadata": {
        "id": "Zm-P5v_M_zNs"
      }
    },
    {
      "cell_type": "code",
      "source": [
        "stats = {\n",
        "    'facebook': 55,\n",
        "    'yandex': 115,\n",
        "    'vk': 120,\n",
        "    'google': 99,\n",
        "    'email': 42,\n",
        "    'ok': 98\n",
        "    }\n",
        "#посчитать максимум по значению и вернуть имя строки (ключ?)\n",
        "for channel, sales in stats.items():\n",
        "  if sales == max(list(stats.values())):\n",
        "    print('Максимальный объем продаж на рекламном канале: ', channel)"
      ],
      "metadata": {
        "colab": {
          "base_uri": "https://localhost:8080/"
        },
        "id": "PaLlH5fskOPq",
        "outputId": "bacba1c6-3370-4e54-d434-6bb0e503215c"
      },
      "execution_count": null,
      "outputs": [
        {
          "output_type": "stream",
          "name": "stdout",
          "text": [
            "Максимальный объем продаж на рекламном канале:  vk\n"
          ]
        }
      ]
    }
  ]
}