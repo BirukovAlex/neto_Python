{
  "nbformat": 4,
  "nbformat_minor": 0,
  "metadata": {
    "colab": {
      "provenance": [],
      "toc_visible": true,
      "authorship_tag": "ABX9TyNYJbRJVUfBhNglriX9/GJD",
      "include_colab_link": true
    },
    "kernelspec": {
      "name": "python3",
      "display_name": "Python 3"
    },
    "language_info": {
      "name": "python"
    }
  },
  "cells": [
    {
      "cell_type": "markdown",
      "metadata": {
        "id": "view-in-github",
        "colab_type": "text"
      },
      "source": [
        "<a href=\"https://colab.research.google.com/github/BirukovAlex/neto_Python/blob/main/%D0%98%D1%82%D0%BE%D0%B3%D0%BE%D0%B2%D1%8B%D0%B9_%D0%BF%D1%80%D0%BE%D0%B5%D0%BA%D1%82_%D0%BF%D0%BE_%D0%BA%D1%83%D1%80%D1%81%D1%83_%D0%9C%D0%B0%D1%82%D0%B5%D0%BC%D0%B0%D1%82%D0%B8%D0%BA%D0%B0_%D0%B4%D0%BB%D1%8F_Data_Science.ipynb\" target=\"_parent\"><img src=\"https://colab.research.google.com/assets/colab-badge.svg\" alt=\"Open In Colab\"/></a>"
      ]
    },
    {
      "cell_type": "markdown",
      "source": [],
      "metadata": {
        "id": "JQSwHmCF9AYA"
      }
    },
    {
      "cell_type": "code",
      "execution_count": null,
      "metadata": {
        "id": "_odaVU9t803E"
      },
      "outputs": [],
      "source": [
        "import matplotlib.pyplot as plt\n",
        "import numpy as np\n",
        "\n",
        "from scipy.optimize import differential_evolution\n",
        "from scipy.optimize import minimize\n",
        "from scipy.stats import norm\n",
        "%matplotlib inline"
      ]
    },
    {
      "cell_type": "markdown",
      "source": [
        "# Задание 1\n",
        "tg^2(sin(x) + cos(2x+3))\n",
        "Вычислите производную функции в точке x_0=1"
      ],
      "metadata": {
        "id": "OS1X7XoT9GHF"
      }
    },
    {
      "cell_type": "code",
      "source": [
        "# решение"
      ],
      "metadata": {
        "id": "mAffHa7h-OqO"
      },
      "execution_count": null,
      "outputs": []
    },
    {
      "cell_type": "code",
      "source": [
        "def func(x):\n",
        "  return np.tan(np.sin(x) + np.cos(2*x+3))**2"
      ],
      "metadata": {
        "id": "pTkhkcLBod-A"
      },
      "execution_count": null,
      "outputs": []
    },
    {
      "cell_type": "code",
      "source": [
        "func(1)"
      ],
      "metadata": {
        "colab": {
          "base_uri": "https://localhost:8080/"
        },
        "id": "9pmPOsu8hY9E",
        "outputId": "32d8fd4b-c2b5-4f65-9d6b-576e9385a54c"
      },
      "execution_count": null,
      "outputs": [
        {
          "output_type": "execute_result",
          "data": {
            "text/plain": [
              "4.381853728061273"
            ]
          },
          "metadata": {},
          "execution_count": 112
        }
      ]
    },
    {
      "cell_type": "markdown",
      "source": [
        "# Задание 2\n",
        "Дан объект в 2D пространстве"
      ],
      "metadata": {
        "id": "ep3abEOK_tIl"
      }
    },
    {
      "cell_type": "code",
      "source": [
        "A = [\n",
        "[-100, -100, 1],\n",
        "[0, 100, 1],\n",
        "[100, -100, 1],\n",
        "[-100, -100, 1]\n",
        "]\n",
        "\n",
        "A = np.array(A)\n",
        "\n",
        "x = A[:,0]\n",
        "y = A[:,1]\n",
        "plt.plot(x, y)\n",
        "plt.ylim([-200, 200])\n",
        "plt.xlim([-200, 200])"
      ],
      "metadata": {
        "colab": {
          "base_uri": "https://localhost:8080/",
          "height": 452
        },
        "id": "7NxTNACU_3Us",
        "outputId": "2b08272c-65c4-48c7-9aab-69177c90c268"
      },
      "execution_count": null,
      "outputs": [
        {
          "output_type": "execute_result",
          "data": {
            "text/plain": [
              "(-200.0, 200.0)"
            ]
          },
          "metadata": {},
          "execution_count": 40
        },
        {
          "output_type": "display_data",
          "data": {
            "text/plain": [
              "<Figure size 640x480 with 1 Axes>"
            ],
            "image/png": "[encoded data removed]"
          },
          "metadata": {}
        }
      ]
    },
    {
      "cell_type": "markdown",
      "source": [
        "При помощи матричных операций выполните: Масштабирование и смещение объекта (применить 2 матрицы трансформаций).\n",
        "Масштабирование на (0.5, 1.2) и смещение на (200, 300)"
      ],
      "metadata": {
        "id": "RmxoyJ1KAAAy"
      }
    },
    {
      "cell_type": "code",
      "source": [
        "# масштабирование\n",
        "B = np.array([\n",
        "    [0.5,0,0],\n",
        "    [0,1.2,0],\n",
        "    [0.5,1.2,1]])\n",
        "B"
      ],
      "metadata": {
        "colab": {
          "base_uri": "https://localhost:8080/"
        },
        "id": "4UaYdkzwAGoP",
        "outputId": "24d42fa2-44d3-4fa4-8353-e3e5276e1793"
      },
      "execution_count": null,
      "outputs": [
        {
          "output_type": "execute_result",
          "data": {
            "text/plain": [
              "array([[0.5, 0. , 0. ],\n",
              "       [0. , 1.2, 0. ],\n",
              "       [0.5, 1.2, 1. ]])"
            ]
          },
          "metadata": {},
          "execution_count": 39
        }
      ]
    },
    {
      "cell_type": "code",
      "source": [
        "res = np.dot(A,B)\n",
        "res"
      ],
      "metadata": {
        "colab": {
          "base_uri": "https://localhost:8080/"
        },
        "id": "wAx-K_R9DVFw",
        "outputId": "db0dbd03-b33b-4f2c-c878-486361739f6f"
      },
      "execution_count": null,
      "outputs": [
        {
          "output_type": "execute_result",
          "data": {
            "text/plain": [
              "array([[ -49.5, -118.8,    1. ],\n",
              "       [   0.5,  121.2,    1. ],\n",
              "       [  50.5, -118.8,    1. ],\n",
              "       [ -49.5, -118.8,    1. ]])"
            ]
          },
          "metadata": {},
          "execution_count": 41
        }
      ]
    },
    {
      "cell_type": "code",
      "source": [
        "A1 = np.array(res)\n",
        "\n",
        "x = A1[:,0]\n",
        "y = A1[:,1]\n",
        "plt.plot(x, y)\n",
        "plt.ylim([-200, 200])\n",
        "plt.xlim([-200, 200])"
      ],
      "metadata": {
        "colab": {
          "base_uri": "https://localhost:8080/",
          "height": 452
        },
        "id": "aKU7qM2GFt6Z",
        "outputId": "b03d8ea3-8382-4099-b7a8-85183dbfc582"
      },
      "execution_count": null,
      "outputs": [
        {
          "output_type": "execute_result",
          "data": {
            "text/plain": [
              "(-200.0, 200.0)"
            ]
          },
          "metadata": {},
          "execution_count": 46
        },
        {
          "output_type": "display_data",
          "data": {
            "text/plain": [
              "<Figure size 640x480 with 1 Axes>"
            ],
            "image/png": "[encoded data removed]"
          },
          "metadata": {}
        }
      ]
    },
    {
      "cell_type": "code",
      "source": [
        "# смещение\n",
        "B1 = np.array([\n",
        "    [200,300,1],\n",
        "    [200,300,1],\n",
        "    [200,300,1],\n",
        "    [200,300,1]])\n",
        "B1"
      ],
      "metadata": {
        "colab": {
          "base_uri": "https://localhost:8080/"
        },
        "outputId": "bd3318cf-7682-4766-9dea-dee53e04ca49",
        "id": "GwuWrjHrTxww"
      },
      "execution_count": null,
      "outputs": [
        {
          "output_type": "execute_result",
          "data": {
            "text/plain": [
              "array([[200, 300,   1],\n",
              "       [200, 300,   1],\n",
              "       [200, 300,   1],\n",
              "       [200, 300,   1]])"
            ]
          },
          "metadata": {},
          "execution_count": 67
        }
      ]
    },
    {
      "cell_type": "code",
      "source": [
        "res2=np.add(A1,B1)\n",
        "res2"
      ],
      "metadata": {
        "colab": {
          "base_uri": "https://localhost:8080/"
        },
        "id": "6TcVN-egdxh4",
        "outputId": "d85aa2b1-ddb7-475c-ee5a-14b7651ec233"
      },
      "execution_count": null,
      "outputs": [
        {
          "output_type": "execute_result",
          "data": {
            "text/plain": [
              "array([[150.5, 181.2,   2. ],\n",
              "       [200.5, 421.2,   2. ],\n",
              "       [250.5, 181.2,   2. ],\n",
              "       [150.5, 181.2,   2. ]])"
            ]
          },
          "metadata": {},
          "execution_count": 68
        }
      ]
    },
    {
      "cell_type": "code",
      "source": [
        "A2 = np.array(res2)\n",
        "\n",
        "x = A2[:,0]\n",
        "y = A2[:,1]\n",
        "plt.plot(x, y)\n",
        "plt.ylim([-200, 200])\n",
        "plt.xlim([-200, 200])"
      ],
      "metadata": {
        "colab": {
          "base_uri": "https://localhost:8080/",
          "height": 452
        },
        "id": "gxNL9iTcd_PF",
        "outputId": "403c86c5-ec90-4240-8d2f-1fde686b1fec"
      },
      "execution_count": null,
      "outputs": [
        {
          "output_type": "execute_result",
          "data": {
            "text/plain": [
              "(-200.0, 200.0)"
            ]
          },
          "metadata": {},
          "execution_count": 69
        },
        {
          "output_type": "display_data",
          "data": {
            "text/plain": [
              "<Figure size 640x480 with 1 Axes>"
            ],
            "image/png": "[encoded data removed]"
          },
          "metadata": {}
        }
      ]
    },
    {
      "cell_type": "markdown",
      "source": [
        "# Задание 3\n",
        "Найдите собственные значения и собственные вектора матрицы:"
      ],
      "metadata": {
        "id": "PyXLOFwkAHBa"
      }
    },
    {
      "cell_type": "code",
      "source": [
        "m = np.array([[1, 4],\n",
        "              [1, 1]])\n",
        "print(m)"
      ],
      "metadata": {
        "colab": {
          "base_uri": "https://localhost:8080/"
        },
        "id": "XRcA5vKaAXeF",
        "outputId": "bc31c237-e08f-417e-abd9-bff1e1202d91"
      },
      "execution_count": null,
      "outputs": [
        {
          "output_type": "stream",
          "name": "stdout",
          "text": [
            "[[1 4]\n",
            " [1 1]]\n"
          ]
        }
      ]
    },
    {
      "cell_type": "code",
      "source": [
        "# решение\n",
        "np.linalg.eig(m)"
      ],
      "metadata": {
        "colab": {
          "base_uri": "https://localhost:8080/"
        },
        "id": "Ac1ou8QDAZQm",
        "outputId": "9dd44405-8e5f-4dfc-b8c9-1dd35f4de417"
      },
      "execution_count": null,
      "outputs": [
        {
          "output_type": "execute_result",
          "data": {
            "text/plain": [
              "EigResult(eigenvalues=array([ 3., -1.]), eigenvectors=array([[ 0.89442719, -0.89442719],\n",
              "       [ 0.4472136 ,  0.4472136 ]]))"
            ]
          },
          "metadata": {},
          "execution_count": 9
        }
      ]
    },
    {
      "cell_type": "markdown",
      "source": [
        "# Задание 4\n",
        "Дана функция с неизвестными параметрами a и b, вам также известны значения функции fx в точках x.\n",
        "\n",
        "Найдите оптимальные параметры a, b, минимизирующие абсолютную ошибку error."
      ],
      "metadata": {
        "id": "uWv2OuowAboF"
      }
    },
    {
      "cell_type": "code",
      "source": [
        "def f(x, a, b):\n",
        "    return np.e**a * np.sin(b*x) + x"
      ],
      "metadata": {
        "id": "fZ9Pvh30Ao1M"
      },
      "execution_count": null,
      "outputs": []
    },
    {
      "cell_type": "code",
      "source": [
        "x = np.array([0.        , 0.26315789, 0.52631579, 0.78947368, 1.05263158,\n",
        "              1.31578947, 1.57894737, 1.84210526, 2.10526316, 2.36842105,\n",
        "              2.63157895, 2.89473684, 3.15789474, 3.42105263, 3.68421053,\n",
        "              3.94736842, 4.21052632, 4.47368421, 4.73684211, 5.        ])\n",
        "\n",
        "fx = np.array([  0.        , -12.01819092, -18.90968634, -17.68786571,\n",
        "                -8.7529108 ,   4.27524517,  16.06801336,  21.81250213,\n",
        "                19.22059845,   9.48411207,  -3.22273056, -13.48576488,\n",
        "               -16.91096359, -11.95866834,  -0.58630088,  12.56873816,\n",
        "                22.12489421,  24.20292139,  18.04522521,   6.33211092])"
      ],
      "metadata": {
        "id": "KZkxWPYYAp3j"
      },
      "execution_count": null,
      "outputs": []
    },
    {
      "cell_type": "code",
      "source": [
        "plt.plot(x, fx)\n",
        "plt.show()"
      ],
      "metadata": {
        "colab": {
          "base_uri": "https://localhost:8080/",
          "height": 430
        },
        "collapsed": true,
        "id": "Cg3U4YD8Avzp",
        "outputId": "9ff4a7d1-2339-44ab-a62f-066b5934eb4e"
      },
      "execution_count": null,
      "outputs": [
        {
          "output_type": "display_data",
          "data": {
            "text/plain": [
              "<Figure size 640x480 with 1 Axes>"
            ],
            "image/png": "[encoded data removed]"
          },
          "metadata": {}
        }
      ]
    },
    {
      "cell_type": "code",
      "source": [
        "def error(params):\n",
        "    return np.sum(np.abs(fx - f(x, params[0], params[1])))"
      ],
      "metadata": {
        "id": "1YIZ0VYKAzfN"
      },
      "execution_count": null,
      "outputs": []
    },
    {
      "cell_type": "code",
      "source": [
        "# решение\n",
        "x0=(10,10)\n",
        "res = minimize(error, x0, method='nelder-mead', options={'xtol': 1e-8, 'disp': True})\n",
        "res.x"
      ],
      "metadata": {
        "colab": {
          "base_uri": "https://localhost:8080/"
        },
        "id": "x9lJJUfoBT1I",
        "outputId": "57e21ad5-4070-4c0d-fb52-2a7501963e01"
      },
      "execution_count": null,
      "outputs": [
        {
          "output_type": "stream",
          "name": "stdout",
          "text": [
            "Optimization terminated successfully.\n",
            "         Current function value: 0.000102\n",
            "         Iterations: 67\n",
            "         Function evaluations: 135\n"
          ]
        },
        {
          "output_type": "stream",
          "name": "stderr",
          "text": [
            "<ipython-input-89-8cd69acf7b4f>:3: OptimizeWarning: Unknown solver options: xtol\n",
            "  res = minimize(error, x0, method='nelder-mead', options={'xtol': 1e-8, 'disp': True})\n"
          ]
        },
        {
          "output_type": "execute_result",
          "data": {
            "text/plain": [
              "array([ 2.99999993, 21.37610432])"
            ]
          },
          "metadata": {},
          "execution_count": 89
        }
      ]
    },
    {
      "cell_type": "code",
      "source": [
        "# ответ: a - 2.99999993, b - 21.37610432"
      ],
      "metadata": {
        "id": "PM02Yz8knKT2"
      },
      "execution_count": null,
      "outputs": []
    },
    {
      "cell_type": "markdown",
      "source": [
        "# Задание 5\n",
        "Дана матрица рейтингов фильмов (строки - пользователи (10 человек), столбцы - фильмы (15 фильмов)).\n",
        "\n",
        "Необходимо найти наиболее похожего пользователя по косинусной метрике для каждого из пользователей (ответ: 10 пар вида (x, y), где y - наиболее похожий пользователь на пользователя x)."
      ],
      "metadata": {
        "id": "r-xh4W2FA4LP"
      }
    },
    {
      "cell_type": "code",
      "source": [
        "raitings = np.array([[ 4,  4,  9,  4,  1,  6, 10,  7,  9,  6,  9,  2,  8,  6,  6],\n",
        "                     [ 9,  2,  5, 10,  7,  8, 10,  5,  6,  2,  1,  6,  8,  9,  7],\n",
        "                     [ 1,  6,  8,  8,  4,  9,  3,  8, 10,  5,  2,  6,  8,  1,  6],\n",
        "                     [ 6,  1,  9,  7,  7,  9,  2,  3,  5,  1,  6,  6,  3,  2,  7],\n",
        "                     [ 3,  7,  3,  5,  7,  9,  9,  6,  2,  9,  1,  2,  8, 10,  6],\n",
        "                     [ 8,  3,  7,  3,  8,  6,  1,  8,  8,  6,  1,  9,  4, 10,  1],\n",
        "                     [ 9,  8,  4,  8,  8, 10,  6,  1,  1,  2,  9,  5,  2,  7,  2],\n",
        "                     [ 4,  1,  6,  4,  3, 10,  4,  4,  2,  8,  7,  9,  3,  8,  3],\n",
        "                     [ 2,  7,  7,  6, 10,  6,  8,  9,  8,  6, 10,  1,  7, 10,  4],\n",
        "                     [ 5, 10,  8,  8,  9,  7,  2,  9,  9, 10,  8,  8,  8,  6, 10]])"
      ],
      "metadata": {
        "id": "y1E_fkfaBDkj"
      },
      "execution_count": null,
      "outputs": []
    },
    {
      "cell_type": "code",
      "source": [
        "# решение\n",
        "def cosine (x,y):\n",
        "  x_len=np.linalg.norm(x)\n",
        "  y_len=np.linalg.norm(y)\n",
        "  return np.dot(x,y) / (x_len*y_len)"
      ],
      "metadata": {
        "id": "19L5P_s-BWhV"
      },
      "execution_count": null,
      "outputs": []
    },
    {
      "cell_type": "code",
      "source": [
        "cosine_dst=np.zeros ((10,10))\n",
        "cosine_dst"
      ],
      "metadata": {
        "colab": {
          "base_uri": "https://localhost:8080/"
        },
        "collapsed": true,
        "id": "_uPw0hLHt4wH",
        "outputId": "d5a258cc-0eaa-4b73-8355-2325d4611d7f"
      },
      "execution_count": null,
      "outputs": [
        {
          "output_type": "execute_result",
          "data": {
            "text/plain": [
              "array([[0., 0., 0., 0., 0., 0., 0., 0., 0., 0.],\n",
              "       [0., 0., 0., 0., 0., 0., 0., 0., 0., 0.],\n",
              "       [0., 0., 0., 0., 0., 0., 0., 0., 0., 0.],\n",
              "       [0., 0., 0., 0., 0., 0., 0., 0., 0., 0.],\n",
              "       [0., 0., 0., 0., 0., 0., 0., 0., 0., 0.],\n",
              "       [0., 0., 0., 0., 0., 0., 0., 0., 0., 0.],\n",
              "       [0., 0., 0., 0., 0., 0., 0., 0., 0., 0.],\n",
              "       [0., 0., 0., 0., 0., 0., 0., 0., 0., 0.],\n",
              "       [0., 0., 0., 0., 0., 0., 0., 0., 0., 0.],\n",
              "       [0., 0., 0., 0., 0., 0., 0., 0., 0., 0.]])"
            ]
          },
          "metadata": {},
          "execution_count": 120
        }
      ]
    },
    {
      "cell_type": "code",
      "source": [
        "for i in range(len(raitings)):\n",
        "  vct_x = raitings[i]\n",
        "  for j in range(len(raitings)):\n",
        "        vct_y = raitings[j]\n",
        "        cosine_=cosine(vct_x,vct_y)\n",
        "        if i==j:\n",
        "          cosine_= 0\n",
        "        cosine_dst[i][j]=cosine_\n",
        "\n",
        "cosine_dst"
      ],
      "metadata": {
        "colab": {
          "base_uri": "https://localhost:8080/"
        },
        "id": "8PVznbFLuTzM",
        "outputId": "f93e2d85-d02e-48b5-ae66-b7754be46491"
      },
      "execution_count": null,
      "outputs": [
        {
          "output_type": "execute_result",
          "data": {
            "text/plain": [
              "array([[0.        , 0.82602919, 0.84921529, 0.78340116, 0.81917632,\n",
              "        0.74118548, 0.72735828, 0.80967522, 0.91065982, 0.86010776],\n",
              "       [0.82602919, 0.        , 0.81234325, 0.84635337, 0.87138052,\n",
              "        0.82713107, 0.82629684, 0.80026003, 0.82526308, 0.81968127],\n",
              "       [0.84921529, 0.81234325, 0.        , 0.84669374, 0.78394299,\n",
              "        0.79097985, 0.67616223, 0.76289552, 0.82112077, 0.91873051],\n",
              "       [0.78340116, 0.84635337, 0.84669374, 0.        , 0.69153409,\n",
              "        0.78665792, 0.83274211, 0.82934667, 0.7770666 , 0.8588687 ],\n",
              "       [0.81917632, 0.87138052, 0.78394299, 0.69153409, 0.        ,\n",
              "        0.7764434 , 0.78200468, 0.81236869, 0.87948477, 0.84574789],\n",
              "       [0.74118548, 0.82713107, 0.79097985, 0.78665792, 0.7764434 ,\n",
              "        0.        , 0.74011801, 0.84451685, 0.80622876, 0.85514908],\n",
              "       [0.72735828, 0.82629684, 0.67616223, 0.83274211, 0.78200468,\n",
              "        0.74011801, 0.        , 0.82669174, 0.81130044, 0.79154718],\n",
              "       [0.80967522, 0.80026003, 0.76289552, 0.82934667, 0.81236869,\n",
              "        0.84451685, 0.82669174, 0.        , 0.7981276 , 0.83682229],\n",
              "       [0.91065982, 0.82526308, 0.82112077, 0.7770666 , 0.87948477,\n",
              "        0.80622876, 0.81130044, 0.7981276 , 0.        , 0.90093797],\n",
              "       [0.86010776, 0.81968127, 0.91873051, 0.8588687 , 0.84574789,\n",
              "        0.85514908, 0.79154718, 0.83682229, 0.90093797, 0.        ]])"
            ]
          },
          "metadata": {},
          "execution_count": 122
        }
      ]
    },
    {
      "cell_type": "code",
      "source": [
        "for i in range(len(cosine_dst)):\n",
        "    print('Польз №',np.argmax(cosine_dst[i])+1, 'похож на №', i+1)"
      ],
      "metadata": {
        "colab": {
          "base_uri": "https://localhost:8080/"
        },
        "id": "SBxypzJCwHCu",
        "outputId": "e8dad24f-61a7-416f-c55b-542c16310b43"
      },
      "execution_count": null,
      "outputs": [
        {
          "output_type": "stream",
          "name": "stdout",
          "text": [
            "Польз № 9 похож на № 1\n",
            "Польз № 5 похож на № 2\n",
            "Польз № 10 похож на № 3\n",
            "Польз № 10 похож на № 4\n",
            "Польз № 9 похож на № 5\n",
            "Польз № 10 похож на № 6\n",
            "Польз № 4 похож на № 7\n",
            "Польз № 6 похож на № 8\n",
            "Польз № 1 похож на № 9\n",
            "Польз № 3 похож на № 10\n"
          ]
        }
      ]
    }
  ]
}