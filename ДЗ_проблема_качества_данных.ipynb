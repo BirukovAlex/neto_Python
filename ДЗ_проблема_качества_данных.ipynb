{
  "nbformat": 4,
  "nbformat_minor": 0,
  "metadata": {
    "colab": {
      "provenance": [],
      "toc_visible": true,
      "authorship_tag": "ABX9TyNM9Ay8nXXD5sVPTtgk0GHX",
      "include_colab_link": true
    },
    "kernelspec": {
      "name": "python3",
      "display_name": "Python 3"
    },
    "language_info": {
      "name": "python"
    }
  },
  "cells": [
    {
      "cell_type": "markdown",
      "metadata": {
        "id": "view-in-github",
        "colab_type": "text"
      },
      "source": [
        "<a href=\"https://colab.research.google.com/github/BirukovAlex/neto_Python/blob/main/%D0%94%D0%97_%D0%BF%D1%80%D0%BE%D0%B1%D0%BB%D0%B5%D0%BC%D0%B0_%D0%BA%D0%B0%D1%87%D0%B5%D1%81%D1%82%D0%B2%D0%B0_%D0%B4%D0%B0%D0%BD%D0%BD%D1%8B%D1%85.ipynb\" target=\"_parent\"><img src=\"https://colab.research.google.com/assets/colab-badge.svg\" alt=\"Open In Colab\"/></a>"
      ]
    },
    {
      "cell_type": "markdown",
      "source": [
        "**Домашнее задание «Проблема качества данных»**\n",
        "\n",
        "- Проведите очистку данных на примере датасета с информацией о пассажирах корабля Титаник.\n",
        "- Данные можно скачать по ссылке или найти в материалах к уроку.\n",
        "- На полученных данных обучите модель классификации, с целевым признаком Survived (1 – пассажир выжил, 0 – погиб).\n",
        "- Обучите модель на необработанных данных и посчитайте метрику качества.\n",
        "- Проведите очистку данных.\n",
        "- Обучите модель на данных после обработки, посчитайте метрику качества.\n",
        "- Сравнить полученные результаты. Значение метрики должно улучшиться."
      ],
      "metadata": {
        "id": "kfJHdSUwwBnJ"
      }
    },
    {
      "cell_type": "markdown",
      "source": [
        "Описание датасета (train)\n",
        "\n",
        "- PassengerId — уникальный идентификатор пассажира;\n",
        "-Survived — факт выживания (1 = выжил, 0 = погиб);\n",
        "-Pclass — класс билета/социально-экономический статус (1 = высший, 2 = средний, 3 = низший);\n",
        "-Name — имя и фамилия пассажира;\n",
        "-Sex — пол пассажира;\n",
        "-Age — возраст пассажира (часть значений отсутствует);\n",
        "-SibSp — число родных братьев/сестёр или супругов на борту;\n",
        "-Parch — число родителей/детей на борту;\n",
        "-Ticket — номер билета;\n",
        "-Fare — стоимость проезда;\n",
        "-Cabin — номер каюты (значительная часть значений отсутствует);\n",
        "-Embarked — порт посадки (С = Шербург, Q = Куинстаун, S = Саутгемптон)."
      ],
      "metadata": {
        "id": "BBp58oy-UR5u"
      }
    },
    {
      "cell_type": "markdown",
      "source": [
        "# 1. Получите и загрузите данные."
      ],
      "metadata": {
        "id": "zwgaZDW367ms"
      }
    },
    {
      "cell_type": "code",
      "source": [
        "import numpy as np\n",
        "import pandas as pd\n",
        "import seaborn as sns\n",
        "import matplotlib.pyplot as plt\n",
        "from sklearn.linear_model import LinearRegression\n",
        "from sklearn.model_selection import train_test_split\n",
        "from sklearn.preprocessing import PolynomialFeatures, StandardScaler, LabelEncoder\n",
        "from sklearn.metrics import mean_absolute_error, recall_score, precision_score, accuracy_score, roc_curve, roc_auc_score, auc, precision_recall_curve\n"
      ],
      "metadata": {
        "id": "sdpywLht-HRQ"
      },
      "execution_count": 2,
      "outputs": []
    },
    {
      "cell_type": "code",
      "source": [
        "df = pd.read_csv('train.csv')"
      ],
      "metadata": {
        "id": "1n-FA8XkDj9d"
      },
      "execution_count": 58,
      "outputs": []
    },
    {
      "cell_type": "code",
      "source": [
        "df.info()"
      ],
      "metadata": {
        "colab": {
          "base_uri": "https://localhost:8080/"
        },
        "id": "jQ9dn2EbEwaH",
        "outputId": "7f6b5fad-c817-4405-ea30-1f1b80163c86"
      },
      "execution_count": 59,
      "outputs": [
        {
          "output_type": "stream",
          "name": "stdout",
          "text": [
            "<class 'pandas.core.frame.DataFrame'>\n",
            "RangeIndex: 891 entries, 0 to 890\n",
            "Data columns (total 12 columns):\n",
            " #   Column       Non-Null Count  Dtype  \n",
            "---  ------       --------------  -----  \n",
            " 0   PassengerId  891 non-null    int64  \n",
            " 1   Survived     891 non-null    int64  \n",
            " 2   Pclass       891 non-null    int64  \n",
            " 3   Name         891 non-null    object \n",
            " 4   Sex          891 non-null    object \n",
            " 5   Age          714 non-null    float64\n",
            " 6   SibSp        891 non-null    int64  \n",
            " 7   Parch        891 non-null    int64  \n",
            " 8   Ticket       891 non-null    object \n",
            " 9   Fare         891 non-null    float64\n",
            " 10  Cabin        204 non-null    object \n",
            " 11  Embarked     889 non-null    object \n",
            "dtypes: float64(2), int64(5), object(5)\n",
            "memory usage: 83.7+ KB\n"
          ]
        }
      ]
    },
    {
      "cell_type": "markdown",
      "source": [
        "Рассуждаем о том, что видим:\n",
        "- пропуски в age, cabin и embarked.\n",
        "- категориальные признаки name, sex, ticket, cabin, embarked.  \n",
        "    \n",
        "    *Наша задача состоит в том, чтобы  модель предсказала выживаемость пассажира и нужно определиться с коррелирующими признаками*\n",
        "\n",
        "мы видим, что:\n",
        "- целевая переменная survived - целочисленная, без пропусков (+)\n",
        "- признак \"пол\" важен для анализа, преобразовываем в 0,1 (labelEncoder).\n",
        "- категориальные признаки name, ticket, Cabin, Embarked неважны (проверка на корелляцию).\n",
        "- **важный признак - возраст, имеет существенно много пропусков (177 | 19%)**  \n"
      ],
      "metadata": {
        "id": "3XO64M60YYxG"
      }
    },
    {
      "cell_type": "markdown",
      "source": [
        "**В первую очередь обработаем пропуски Age** следующим образом: добавим новый признак \"Взрослые\" (если да - 1, если нет - 0). В категорию детей будем добавлять по следующему признаку: возраст пассажира <=12, если Age == Nan и Parch != 0 (на борту есть родители) и в Name содержится обращение к пассажиру Master (по правилам 1912 года так обращались к мальчикам 12 лет).\n",
        "Если в Age == Nan и Parch != 0 и в Name содержится обращение к пассажиру Miss - то оставляем Nan, потому что обращение Miss было ко всем девочкам и женщинам вне зависимости от возраста."
      ],
      "metadata": {
        "id": "ml7TDlLGa8yc"
      }
    },
    {
      "cell_type": "code",
      "source": [
        "# Создание колонки Adult\n",
        "df['Adult'] = 1  # По умолчанию все взрослые (1)\n",
        "\n",
        "# Определение детей (0) по возрасту <=12\n",
        "df.loc[df['Age'] <= 12, 'Adult'] = 0\n",
        "# Обработка случаев с пропущенным возрастом\n",
        "mask = (\n",
        "    df['Age'].isna() &\n",
        "    (df['Parch'] != 0) &\n",
        "    df['Name'].str.contains('Master')\n",
        ")\n",
        "df.loc[mask, 'Adult'] = 0\n",
        "# Обработка случаев с Miss - оставляем NaN\n",
        "miss_mask = (\n",
        "    df['Age'].isna() &\n",
        "    (df['Parch'] != 0) &\n",
        "    df['Name'].str.contains('Miss')\n",
        ")\n",
        "df.loc[miss_mask, 'Adult'] = np.nan\n",
        "# Преобразование в int64 (где возможно)\n",
        "df['Adult'] = df['Adult'].astype('Int64')  # Используем pandas' Int64 для поддержки NaN"
      ],
      "metadata": {
        "id": "0TiOYdPDYAxe"
      },
      "execution_count": 60,
      "outputs": []
    },
    {
      "cell_type": "code",
      "source": [
        "df.info()"
      ],
      "metadata": {
        "colab": {
          "base_uri": "https://localhost:8080/"
        },
        "id": "DCTwZk6gaRTe",
        "outputId": "ea389eeb-c92e-4d79-d9a5-8096c3d0e94e"
      },
      "execution_count": 61,
      "outputs": [
        {
          "output_type": "stream",
          "name": "stdout",
          "text": [
            "<class 'pandas.core.frame.DataFrame'>\n",
            "RangeIndex: 891 entries, 0 to 890\n",
            "Data columns (total 13 columns):\n",
            " #   Column       Non-Null Count  Dtype  \n",
            "---  ------       --------------  -----  \n",
            " 0   PassengerId  891 non-null    int64  \n",
            " 1   Survived     891 non-null    int64  \n",
            " 2   Pclass       891 non-null    int64  \n",
            " 3   Name         891 non-null    object \n",
            " 4   Sex          891 non-null    object \n",
            " 5   Age          714 non-null    float64\n",
            " 6   SibSp        891 non-null    int64  \n",
            " 7   Parch        891 non-null    int64  \n",
            " 8   Ticket       891 non-null    object \n",
            " 9   Fare         891 non-null    float64\n",
            " 10  Cabin        204 non-null    object \n",
            " 11  Embarked     889 non-null    object \n",
            " 12  Adult        882 non-null    Int64  \n",
            "dtypes: Int64(1), float64(2), int64(5), object(5)\n",
            "memory usage: 91.5+ KB\n"
          ]
        }
      ]
    },
    {
      "cell_type": "code",
      "source": [
        "#сравним корреляции\n",
        "df.Survived.corr(df.Age), df.Survived.corr(df.Adult)"
      ],
      "metadata": {
        "colab": {
          "base_uri": "https://localhost:8080/"
        },
        "id": "hpyv6HySdoHb",
        "outputId": "f833f67b-6f9a-4cc3-cd2f-23c97ee52ea8"
      },
      "execution_count": 62,
      "outputs": [
        {
          "output_type": "execute_result",
          "data": {
            "text/plain": [
              "(np.float64(-0.07722109457217768), np.float64(-0.11641273909691441))"
            ]
          },
          "metadata": {},
          "execution_count": 62
        }
      ]
    },
    {
      "cell_type": "code",
      "source": [
        "# График выживаемости по Age\n",
        "plt.figure(figsize=(12, 5))\n",
        "plt.subplot(1, 2, 1)\n",
        "sns.boxplot(x='Survived', y='Age', data=df)\n",
        "plt.title(\"Survived ~ Age\")\n",
        "\n",
        "# График выживаемости по Adult\n",
        "plt.subplot(1, 2, 2)\n",
        "sns.barplot(x='Adult', y='Survived', data=df, ci=None)\n",
        "plt.title(\"Survived ~ Adult\")\n",
        "plt.show()"
      ],
      "metadata": {
        "colab": {
          "base_uri": "https://localhost:8080/",
          "height": 483
        },
        "id": "fxBcQy_yfSSV",
        "outputId": "361fa8bc-9b0d-4ce8-acec-77f8a1318395"
      },
      "execution_count": 63,
      "outputs": [
        {
          "output_type": "stream",
          "name": "stderr",
          "text": [
            "/tmp/ipython-input-63-3566709190.py:9: FutureWarning: \n",
            "\n",
            "The `ci` parameter is deprecated. Use `errorbar=None` for the same effect.\n",
            "\n",
            "  sns.barplot(x='Adult', y='Survived', data=df, ci=None)\n"
          ]
        },
        {
          "output_type": "display_data",
          "data": {
            "text/plain": [
              "<Figure size 1200x500 with 2 Axes>"
            ],
            "image/png": "[encoded data removed]"
          },
          "metadata": {}
        }
      ]
    },
    {
      "cell_type": "markdown",
      "source": [
        "# 2. Удалите все пропущенные значения и категориальные переменные. Обучите модель. Выберете и посчитайте метрику качества."
      ],
      "metadata": {
        "id": "SOIbWi0t7jvq"
      }
    },
    {
      "cell_type": "markdown",
      "source": [
        "# 3. Снова загрузите полные данные."
      ],
      "metadata": {
        "id": "Z9T5eo7n7rNq"
      }
    },
    {
      "cell_type": "markdown",
      "source": [
        "# 4. Удалите признаки, которые логически не нужны для построения модели. Обоснуйте."
      ],
      "metadata": {
        "id": "-waIGyq-7vsX"
      }
    },
    {
      "cell_type": "markdown",
      "source": [
        "# 5. Проверьте данные на наличие пропущенных значений.\n",
        "a) Посчитайте, какой процент данных будет потерян, если просто удалить пропуски.\n",
        "\n",
        "b) Заполните пропуски: средним значением; константой; классом, указывающим на то, что значение было пропущено; случайным числом. Для разных признаков используйте подходящий метод. Можно не использовать все перечисленные методы."
      ],
      "metadata": {
        "id": "bt-yneWz72lg"
      }
    },
    {
      "cell_type": "markdown",
      "source": [
        "# 6. Категориальные переменные переведите в цифровые значения. Можно использовать pd.get_dummies, preprocessing.LabelEncoder. Старайтесь не использовать для этой задачи циклы."
      ],
      "metadata": {
        "id": "kuy10Ijm8D92"
      }
    },
    {
      "cell_type": "markdown",
      "source": [
        "# 7. Проверьте данные на наличие выбросов.\n",
        "a) Удалите выбросы, если считаете это целесообразным. Обоснуйте."
      ],
      "metadata": {
        "id": "jyXAx3x88H_f"
      }
    },
    {
      "cell_type": "markdown",
      "source": [
        "# 8. *Постройте 1-2 графика на выбор. Визуализация должна быть основана на исследуемых данных и быть полезной (из графика можно сделать вывод об особенностях датасета/класса/признака)"
      ],
      "metadata": {
        "id": "vr8q9mVv8NRs"
      }
    },
    {
      "cell_type": "markdown",
      "source": [
        "# 9. *Попробуйте математически преобразовать признак Age."
      ],
      "metadata": {
        "id": "gPKLA8ji8SUr"
      }
    },
    {
      "cell_type": "markdown",
      "source": [
        "# 10. Обучите ту же модель, что в п. 2 на преобразованных данных. Посчитайте ту же, что в п. 2 метрику."
      ],
      "metadata": {
        "id": "1mIUWUfg8XeD"
      }
    },
    {
      "cell_type": "markdown",
      "source": [
        "# 11. Выводы\n",
        "**a) какие преобразования были сделаны и почему.**\n",
        "\n",
        "**b) метрики моделей из п. 2 и п. 10.**\n",
        "\n",
        "**c) мнение о целесообразности работы с данными при построении моделей машинного обучения.**\n",
        "\n",
        "**Нужно ли аналогичным образом исследовать и дополнять действительно большие данные?**\n",
        "\n",
        "Нужно, потому что от масштаба датасета это не зависит. В PySpark возможно преобразовать любые большие данные до ограниченного количества категорий и затем обработать встроенными библиотеками.  "
      ],
      "metadata": {
        "id": "aBssW2Ab8eyy"
      }
    }
  ]
}