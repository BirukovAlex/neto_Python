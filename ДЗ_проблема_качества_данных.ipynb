{
  "nbformat": 4,
  "nbformat_minor": 0,
  "metadata": {
    "colab": {
      "provenance": [],
      "authorship_tag": "ABX9TyMHdlPlw0sTAldbZQ6+hrJ4",
      "include_colab_link": true
    },
    "kernelspec": {
      "name": "python3",
      "display_name": "Python 3"
    },
    "language_info": {
      "name": "python"
    }
  },
  "cells": [
    {
      "cell_type": "markdown",
      "metadata": {
        "id": "view-in-github",
        "colab_type": "text"
      },
      "source": [
        "<a href=\"https://colab.research.google.com/github/BirukovAlex/neto_Python/blob/main/%D0%94%D0%97_%D0%BF%D1%80%D0%BE%D0%B1%D0%BB%D0%B5%D0%BC%D0%B0_%D0%BA%D0%B0%D1%87%D0%B5%D1%81%D1%82%D0%B2%D0%B0_%D0%B4%D0%B0%D0%BD%D0%BD%D1%8B%D1%85.ipynb\" target=\"_parent\"><img src=\"https://colab.research.google.com/assets/colab-badge.svg\" alt=\"Open In Colab\"/></a>"
      ]
    },
    {
      "cell_type": "markdown",
      "source": [
        "**Домашнее задание «Проблема качества данных»**\n",
        "\n",
        "- Проведите очистку данных на примере датасета с информацией о пассажирах корабля Титаник.\n",
        "- Данные можно скачать по ссылке или найти в материалах к уроку.\n",
        "- На полученных данных обучите модель классификации, с целевым признаком Survived (1 – пассажир выжил, 0 – погиб).\n",
        "- Обучите модель на необработанных данных и посчитайте метрику качества.\n",
        "- Проведите очистку данных.\n",
        "- Обучите модель на данных после обработки, посчитайте метрику качества.\n",
        "- Сравнить полученные результаты. Значение метрики должно улучшиться."
      ],
      "metadata": {
        "id": "kfJHdSUwwBnJ"
      }
    },
    {
      "cell_type": "markdown",
      "source": [
        "# 1. Получите и загрузите данные."
      ],
      "metadata": {
        "id": "zwgaZDW367ms"
      }
    },
    {
      "cell_type": "code",
      "source": [
        "import numpy as np\n",
        "import pandas as pd\n",
        "import seaborn as sns\n",
        "import matplotlib.pyplot as plt\n",
        "from sklearn.linear_model import LinearRegression\n",
        "from sklearn.model_selection import train_test_split\n",
        "from sklearn.preprocessing import PolynomialFeatures, StandardScaler, LabelEncoder\n",
        "from sklearn.metrics import mean_absolute_error, recall_score, precision_score, accuracy_score, roc_curve, roc_auc_score, auc, precision_recall_curve\n"
      ],
      "metadata": {
        "id": "sdpywLht-HRQ"
      },
      "execution_count": 1,
      "outputs": []
    },
    {
      "cell_type": "code",
      "source": [
        "data = pd.read_csv('test.csv')"
      ],
      "metadata": {
        "id": "1n-FA8XkDj9d"
      },
      "execution_count": 2,
      "outputs": []
    },
    {
      "cell_type": "code",
      "source": [
        "data.info()"
      ],
      "metadata": {
        "colab": {
          "base_uri": "https://localhost:8080/"
        },
        "id": "jQ9dn2EbEwaH",
        "outputId": "a035cb20-5cb9-484b-efb1-68078f8b49d3"
      },
      "execution_count": 3,
      "outputs": [
        {
          "output_type": "stream",
          "name": "stdout",
          "text": [
            "<class 'pandas.core.frame.DataFrame'>\n",
            "RangeIndex: 418 entries, 0 to 417\n",
            "Data columns (total 11 columns):\n",
            " #   Column       Non-Null Count  Dtype  \n",
            "---  ------       --------------  -----  \n",
            " 0   PassengerId  418 non-null    int64  \n",
            " 1   Pclass       418 non-null    int64  \n",
            " 2   Name         418 non-null    object \n",
            " 3   Sex          418 non-null    object \n",
            " 4   Age          332 non-null    float64\n",
            " 5   SibSp        418 non-null    int64  \n",
            " 6   Parch        418 non-null    int64  \n",
            " 7   Ticket       418 non-null    object \n",
            " 8   Fare         417 non-null    float64\n",
            " 9   Cabin        91 non-null     object \n",
            " 10  Embarked     418 non-null    object \n",
            "dtypes: float64(2), int64(4), object(5)\n",
            "memory usage: 36.1+ KB\n"
          ]
        }
      ]
    },
    {
      "cell_type": "markdown",
      "source": [
        "# 2. Удалите все пропущенные значения и категориальные переменные. Обучите модель. Выберете и посчитайте метрику качества."
      ],
      "metadata": {
        "id": "SOIbWi0t7jvq"
      }
    },
    {
      "cell_type": "markdown",
      "source": [
        "# 3. Снова загрузите полные данные."
      ],
      "metadata": {
        "id": "Z9T5eo7n7rNq"
      }
    },
    {
      "cell_type": "markdown",
      "source": [
        "# 4. Удалите признаки, которые логически не нужны для построения модели. Обоснуйте."
      ],
      "metadata": {
        "id": "-waIGyq-7vsX"
      }
    },
    {
      "cell_type": "markdown",
      "source": [
        "# 5. Проверьте данные на наличие пропущенных значений.\n",
        "a) Посчитайте, какой процент данных будет потерян, если просто удалить пропуски.\n",
        "\n",
        "b) Заполните пропуски: средним значением; константой; классом, указывающим на то, что значение было пропущено; случайным числом. Для разных признаков используйте подходящий метод. Можно не использовать все перечисленные методы."
      ],
      "metadata": {
        "id": "bt-yneWz72lg"
      }
    },
    {
      "cell_type": "markdown",
      "source": [
        "# 6. Категориальные переменные переведите в цифровые значения. Можно использовать pd.get_dummies, preprocessing.LabelEncoder. Старайтесь не использовать для этой задачи циклы."
      ],
      "metadata": {
        "id": "kuy10Ijm8D92"
      }
    },
    {
      "cell_type": "markdown",
      "source": [
        "# 7. Проверьте данные на наличие выбросов.\n",
        "a) Удалите выбросы, если считаете это целесообразным. Обоснуйте."
      ],
      "metadata": {
        "id": "jyXAx3x88H_f"
      }
    },
    {
      "cell_type": "markdown",
      "source": [
        "# 8. *Постройте 1-2 графика на выбор. Визуализация должна быть основана на исследуемых данных и быть полезной (из графика можно сделать вывод об особенностях датасета/класса/признака)"
      ],
      "metadata": {
        "id": "vr8q9mVv8NRs"
      }
    },
    {
      "cell_type": "markdown",
      "source": [
        "# 9. *Попробуйте математически преобразовать признак Age."
      ],
      "metadata": {
        "id": "gPKLA8ji8SUr"
      }
    },
    {
      "cell_type": "markdown",
      "source": [
        "# 10. Обучите ту же модель, что в п. 2 на преобразованных данных. Посчитайте ту же, что в п. 2 метрику."
      ],
      "metadata": {
        "id": "1mIUWUfg8XeD"
      }
    },
    {
      "cell_type": "markdown",
      "source": [
        "# 11. Выводы\n",
        "**a) какие преобразования были сделаны и почему.**\n",
        "\n",
        "**b) метрики моделей из п. 2 и п. 10.**\n",
        "\n",
        "**c) мнение о целесообразности работы с данными при построении моделей машинного обучения.**\n",
        "\n",
        "**Нужно ли аналогичным образом исследовать и дополнять действительно большие данные?**\n",
        "\n",
        "Нужно, потому что от масштаба датасета это не зависит. В PySpark возможно преобразовать любые большие данные до ограниченного количества категорий и затем обработать встроенными библиотеками.  "
      ],
      "metadata": {
        "id": "aBssW2Ab8eyy"
      }
    }
  ]
}