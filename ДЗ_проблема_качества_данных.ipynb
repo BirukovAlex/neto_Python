{
  "nbformat": 4,
  "nbformat_minor": 0,
  "metadata": {
    "colab": {
      "provenance": [],
      "toc_visible": true,
      "authorship_tag": "ABX9TyOxMgpgO6qaKwRZC5eFL4Ng",
      "include_colab_link": true
    },
    "kernelspec": {
      "name": "python3",
      "display_name": "Python 3"
    },
    "language_info": {
      "name": "python"
    }
  },
  "cells": [
    {
      "cell_type": "markdown",
      "metadata": {
        "id": "view-in-github",
        "colab_type": "text"
      },
      "source": [
        "<a href=\"https://colab.research.google.com/github/BirukovAlex/neto_Python/blob/main/%D0%94%D0%97_%D0%BF%D1%80%D0%BE%D0%B1%D0%BB%D0%B5%D0%BC%D0%B0_%D0%BA%D0%B0%D1%87%D0%B5%D1%81%D1%82%D0%B2%D0%B0_%D0%B4%D0%B0%D0%BD%D0%BD%D1%8B%D1%85.ipynb\" target=\"_parent\"><img src=\"https://colab.research.google.com/assets/colab-badge.svg\" alt=\"Open In Colab\"/></a>"
      ]
    },
    {
      "cell_type": "markdown",
      "source": [
        "**Домашнее задание «Проблема качества данных»**\n",
        "\n",
        "- Проведите очистку данных на примере датасета с информацией о пассажирах корабля Титаник.\n",
        "- Данные можно скачать по ссылке или найти в материалах к уроку.\n",
        "- На полученных данных обучите модель классификации, с целевым признаком Survived (1 – пассажир выжил, 0 – погиб).\n",
        "- Обучите модель на необработанных данных и посчитайте метрику качества.\n",
        "- Проведите очистку данных.\n",
        "- Обучите модель на данных после обработки, посчитайте метрику качества.\n",
        "- Сравнить полученные результаты. Значение метрики должно улучшиться."
      ],
      "metadata": {
        "id": "kfJHdSUwwBnJ"
      }
    },
    {
      "cell_type": "markdown",
      "source": [
        "Описание датасета (train)\n",
        "\n",
        "- PassengerId — уникальный идентификатор пассажира;\n",
        "-Survived — факт выживания (1 = выжил, 0 = погиб);\n",
        "-Pclass — класс билета/социально-экономический статус (1 = высший, 2 = средний, 3 = низший);\n",
        "-Name — имя и фамилия пассажира;\n",
        "-Sex — пол пассажира;\n",
        "-Age — возраст пассажира (часть значений отсутствует);\n",
        "-SibSp — число родных братьев/сестёр или супругов на борту;\n",
        "-Parch — число родителей/детей на борту;\n",
        "-Ticket — номер билета;\n",
        "-Fare — стоимость проезда;\n",
        "-Cabin — номер каюты (значительная часть значений отсутствует);\n",
        "-Embarked — порт посадки (С = Шербург, Q = Куинстаун, S = Саутгемптон)."
      ],
      "metadata": {
        "id": "BBp58oy-UR5u"
      }
    },
    {
      "cell_type": "code",
      "source": [
        "import numpy as np\n",
        "import pandas as pd\n",
        "import seaborn as sns\n",
        "import matplotlib.pyplot as plt\n",
        "from sklearn.linear_model import LinearRegression\n",
        "from sklearn.model_selection import train_test_split\n",
        "from sklearn.preprocessing import PolynomialFeatures, StandardScaler, LabelEncoder\n",
        "from sklearn.metrics import mean_absolute_error, recall_score, precision_score, accuracy_score, roc_curve, roc_auc_score, auc, precision_recall_curve\n"
      ],
      "metadata": {
        "id": "sdpywLht-HRQ"
      },
      "execution_count": 91,
      "outputs": []
    },
    {
      "cell_type": "code",
      "source": [
        "df = pd.read_csv('train.csv')"
      ],
      "metadata": {
        "id": "1n-FA8XkDj9d"
      },
      "execution_count": 92,
      "outputs": []
    },
    {
      "cell_type": "code",
      "source": [
        "df.info()"
      ],
      "metadata": {
        "colab": {
          "base_uri": "https://localhost:8080/"
        },
        "id": "jQ9dn2EbEwaH",
        "outputId": "c4ed6138-0b32-49ea-8965-5779e390d4ac"
      },
      "execution_count": 93,
      "outputs": [
        {
          "output_type": "stream",
          "name": "stdout",
          "text": [
            "<class 'pandas.core.frame.DataFrame'>\n",
            "RangeIndex: 891 entries, 0 to 890\n",
            "Data columns (total 12 columns):\n",
            " #   Column       Non-Null Count  Dtype  \n",
            "---  ------       --------------  -----  \n",
            " 0   PassengerId  891 non-null    int64  \n",
            " 1   Survived     891 non-null    int64  \n",
            " 2   Pclass       891 non-null    int64  \n",
            " 3   Name         891 non-null    object \n",
            " 4   Sex          891 non-null    object \n",
            " 5   Age          714 non-null    float64\n",
            " 6   SibSp        891 non-null    int64  \n",
            " 7   Parch        891 non-null    int64  \n",
            " 8   Ticket       891 non-null    object \n",
            " 9   Fare         891 non-null    float64\n",
            " 10  Cabin        204 non-null    object \n",
            " 11  Embarked     889 non-null    object \n",
            "dtypes: float64(2), int64(5), object(5)\n",
            "memory usage: 83.7+ KB\n"
          ]
        }
      ]
    },
    {
      "cell_type": "markdown",
      "source": [
        "Рассуждаем о том, что видим:\n",
        "- пропуски в age, cabin и embarked.\n",
        "- категориальные признаки name, sex, ticket, cabin, embarked.  \n",
        "    \n",
        "    *Наша задача состоит в том, чтобы  модель предсказала выживаемость пассажира и нужно определиться с коррелирующими признаками*\n",
        "\n",
        "мы видим, что:\n",
        "- целевая переменная survived - целочисленная, без пропусков (+)\n",
        "- признак \"пол\" важен для анализа, преобразовываем в 0,1 (labelEncoder).\n",
        "- категориальные признаки name, ticket, Cabin, Embarked неважны (выживаемость не зависит).\n",
        "- **важный признак - возраст, имеет существенно много пропусков (177 | 19%)**  \n"
      ],
      "metadata": {
        "id": "3XO64M60YYxG"
      }
    },
    {
      "cell_type": "markdown",
      "source": [
        "**В первую очередь обработаем пропуски Age** следующим образом: добавим новый признак \"Взрослые\" (если да - 1, если нет - 0). В категорию детей будем добавлять по следующему признаку: возраст пассажира <=12, если Age == Nan и Parch != 0 (на борту есть родители) и в Name содержится обращение к пассажиру Master (по правилам 1912 года так обращались к мальчикам 12 лет).\n",
        "Если в Age == Nan и Parch != 0 и в Name содержится обращение к пассажиру Miss - то оставляем Nan, потому что обращение Miss было ко всем девочкам и женщинам вне зависимости от возраста."
      ],
      "metadata": {
        "id": "ml7TDlLGa8yc"
      }
    },
    {
      "cell_type": "code",
      "source": [
        "# Создание колонки Adult\n",
        "df['Adult'] = 1  # По умолчанию все взрослые (1)\n",
        "\n",
        "# Определение детей (0) по возрасту <=12\n",
        "df.loc[df['Age'] <= 12, 'Adult'] = 0\n",
        "# Обработка случаев с пропущенным возрастом\n",
        "mask = (\n",
        "    df['Age'].isna() &\n",
        "    (df['Parch'] != 0) &\n",
        "    df['Name'].str.contains('Master')\n",
        ")\n",
        "df.loc[mask, 'Adult'] = 0\n",
        "# Обработка случаев с Miss - оставляем NaN\n",
        "miss_mask = (\n",
        "    df['Age'].isna() &\n",
        "    (df['Parch'] != 0) &\n",
        "    df['Name'].str.contains('Miss')\n",
        ")\n",
        "df.loc[miss_mask, 'Adult'] = np.nan\n",
        "# Преобразование в int64 (где возможно)\n",
        "df['Adult'] = df['Adult'].astype('Int64')  # Используем pandas' Int64 для поддержки NaN"
      ],
      "metadata": {
        "id": "0TiOYdPDYAxe"
      },
      "execution_count": 94,
      "outputs": []
    },
    {
      "cell_type": "code",
      "source": [
        "# Вычисление корреляций\n",
        "corr_age = df['Survived'].corr(df['Age'].fillna(df['Age'].median()))\n",
        "corr_adult = df['Survived'].corr(df['Adult'].fillna(1))  # Заменяем NaN для Miss на 1 (взрослый)\n",
        "\n",
        "print(f\"Корреляция Survived-Age: {corr_age:.3f}\")\n",
        "print(f\"Корреляция Survived-Adult: {corr_adult:.3f}\")\n",
        "\n",
        "# Визуализация\n",
        "plt.figure(figsize=(12, 5))\n",
        "\n",
        "# График 1: Survived vs Age\n",
        "plt.subplot(1, 2, 1)\n",
        "sns.boxplot(x='Survived', y='Age', data=df)\n",
        "plt.title(f'Survived vs Age\\nКорреляция: {corr_age:.3f}')\n",
        "plt.xlabel('Выжил (0=Нет, 1=Да)')\n",
        "plt.ylabel('Возраст')\n",
        "\n",
        "# График 2: Survived vs Adult\n",
        "plt.subplot(1, 2, 2)\n",
        "sns.countplot(x='Adult', hue='Survived', data=df)\n",
        "plt.title(f'Survived vs Adult\\nКорреляция: {corr_adult:.3f}')\n",
        "plt.xlabel('Ребенок (0=Да, 1=Нет)')\n",
        "plt.ylabel('Количество пассажиров')\n",
        "plt.legend(title='Выжил', labels=['Нет', 'Да'])\n",
        "\n",
        "plt.tight_layout()\n",
        "plt.show()"
      ],
      "metadata": {
        "colab": {
          "base_uri": "https://localhost:8080/",
          "height": 383
        },
        "id": "hpyv6HySdoHb",
        "outputId": "b2b10b77-8e8c-4312-e904-8f2813d9e10a"
      },
      "execution_count": 95,
      "outputs": [
        {
          "output_type": "stream",
          "name": "stdout",
          "text": [
            "Корреляция Survived-Age: -0.065\n",
            "Корреляция Survived-Adult: -0.118\n"
          ]
        },
        {
          "output_type": "display_data",
          "data": {
            "text/plain": [
              "<Figure size 1200x500 with 2 Axes>"
            ],
            "image/png": "[encoded data removed]"
          },
          "metadata": {}
        }
      ]
    },
    {
      "cell_type": "markdown",
      "source": [
        "Корреляция от нового признака Adult -0,118 чуть сильнее, чем на неочищенных данных Age - 0,065. В обоих случаях корреляция обратно-пропорциональная (чем меньше лет, тем больше шансов, боксплот с выжившими чуть ниже по возрастной шкале)\n",
        "\n",
        "**Теперь проверим что будет если пропуски по Age игнорировать**"
      ],
      "metadata": {
        "id": "xRPDge6-j4zP"
      }
    },
    {
      "cell_type": "code",
      "source": [
        "# Создаем df_corr, удаляя записи с Age == NaN\n",
        "df_corr = df.dropna(subset=['Age']).copy()\n",
        "# Вычисляем корреляции\n",
        "corr_matrix = df_corr[['Survived', 'Age']].corr()\n",
        "\n",
        "#Сравнение\n",
        "\n",
        "print(f\"\\nРазмер df_corr после удаления NaN в Age: {len(df_corr)} записей, потеряно {len(df) - len(df_corr)} или {(len(df) - len(df_corr)) / len(df) * 100:.1f}% записей. существенно \")\n",
        "print(f\"Корреляция Survived-Age без Nan: {corr_matrix.loc['Survived', 'Age']:.3f}\")\n",
        "print(f\"Корреляция Survived-Age неочищенная: {corr_age:.3f}\")\n",
        "print(f\"Корреляция Survived-Adult с признаком Взрослый / ребенок: {corr_adult:.3f}\")"
      ],
      "metadata": {
        "colab": {
          "base_uri": "https://localhost:8080/"
        },
        "id": "Wfx7tgB-oUt9",
        "outputId": "74dd48e1-0d50-4eda-bda9-f7b0e521f102"
      },
      "execution_count": 110,
      "outputs": [
        {
          "output_type": "stream",
          "name": "stdout",
          "text": [
            "\n",
            "Размер df_corr после удаления NaN в Age: 714 записей, потеряно 177 или 19.9% записей. существенно \n",
            "Корреляция Survived-Age без Nan: -0.077\n",
            "Корреляция Survived-Age неочищенная: -0.065\n",
            "Корреляция Survived-Adult с признаком Взрослый / ребенок: -0.118\n"
          ]
        }
      ]
    },
    {
      "cell_type": "markdown",
      "source": [
        "как видим, при удалении пропусков по Age корреляция не сильно лучше неочищенного датасета\n",
        "\n",
        "Следующим шагом:\n",
        "- уберем все ненужные категориальные признаки name, ticket, Cabin, Embarked\n",
        "- вместо Age, испоьзуем Adult\n",
        "- пропуски с обращением Miss заполним категорией взрослых (1)\n",
        "- преобразуем пол из категориального в целочисленный бинарный (male - 1, female - 0) с помощью LabelEncoder"
      ],
      "metadata": {
        "id": "xaBGj8eHs5jB"
      }
    },
    {
      "cell_type": "code",
      "source": [
        "# Удаление ненужных столбцов\n",
        "columns_to_drop = ['Name', 'Ticket', 'Cabin', 'Embarked', 'Age']\n",
        "df_clean = df.drop(columns=columns_to_drop)\n",
        "# Преобразование признака 'Sex' в числовой бинарный (0, 1)\n",
        "label_encoder = LabelEncoder()\n",
        "df_clean['Sex'] = label_encoder.fit_transform(df_clean['Sex'])"
      ],
      "metadata": {
        "id": "ApOkVJt0uw4w"
      },
      "execution_count": 97,
      "outputs": []
    },
    {
      "cell_type": "code",
      "source": [
        "df_clean['Adult'] = df_clean['Adult'].fillna(1)"
      ],
      "metadata": {
        "id": "T1GqCCeG2cHO"
      },
      "execution_count": 102,
      "outputs": []
    },
    {
      "cell_type": "code",
      "source": [
        "df_clean.info()"
      ],
      "metadata": {
        "colab": {
          "base_uri": "https://localhost:8080/"
        },
        "id": "62h4BA7vxQyK",
        "outputId": "c4bda7ee-ce4f-4d79-c859-9ebdff136bab"
      },
      "execution_count": 103,
      "outputs": [
        {
          "output_type": "stream",
          "name": "stdout",
          "text": [
            "<class 'pandas.core.frame.DataFrame'>\n",
            "RangeIndex: 891 entries, 0 to 890\n",
            "Data columns (total 8 columns):\n",
            " #   Column       Non-Null Count  Dtype  \n",
            "---  ------       --------------  -----  \n",
            " 0   PassengerId  891 non-null    int64  \n",
            " 1   Survived     891 non-null    int64  \n",
            " 2   Pclass       891 non-null    int64  \n",
            " 3   Sex          891 non-null    int64  \n",
            " 4   SibSp        891 non-null    int64  \n",
            " 5   Parch        891 non-null    int64  \n",
            " 6   Fare         891 non-null    float64\n",
            " 7   Adult        891 non-null    Int64  \n",
            "dtypes: Int64(1), float64(1), int64(6)\n",
            "memory usage: 56.7 KB\n"
          ]
        }
      ]
    },
    {
      "cell_type": "markdown",
      "source": [
        "Датаcет готов для обучения"
      ],
      "metadata": {
        "id": "ngFj5VylxGVT"
      }
    },
    {
      "cell_type": "markdown",
      "source": [
        "# 5. Проверьте данные на наличие пропущенных значений.\n",
        "a) Посчитайте, какой процент данных будет потерян, если просто удалить пропуски.\n",
        "\n",
        "b) Заполните пропуски: средним значением; константой; классом, указывающим на то, что значение было пропущено; случайным числом. Для разных признаков используйте подходящий метод. Можно не использовать все перечисленные методы."
      ],
      "metadata": {
        "id": "bt-yneWz72lg"
      }
    },
    {
      "cell_type": "markdown",
      "source": [
        "# 7. Проверьте данные на наличие выбросов.\n",
        "a) Удалите выбросы, если считаете это целесообразным. Обоснуйте."
      ],
      "metadata": {
        "id": "jyXAx3x88H_f"
      }
    },
    {
      "cell_type": "markdown",
      "source": [
        "# 8. *Постройте 1-2 графика на выбор. Визуализация должна быть основана на исследуемых данных и быть полезной (из графика можно сделать вывод об особенностях датасета/класса/признака)"
      ],
      "metadata": {
        "id": "vr8q9mVv8NRs"
      }
    },
    {
      "cell_type": "markdown",
      "source": [
        "# 9. *Попробуйте математически преобразовать признак Age."
      ],
      "metadata": {
        "id": "gPKLA8ji8SUr"
      }
    },
    {
      "cell_type": "markdown",
      "source": [
        "# 10. Обучите ту же модель, что в п. 2 на преобразованных данных. Посчитайте ту же, что в п. 2 метрику."
      ],
      "metadata": {
        "id": "1mIUWUfg8XeD"
      }
    },
    {
      "cell_type": "markdown",
      "source": [
        "# 11. Выводы\n",
        "**a) какие преобразования были сделаны и почему.**\n",
        "\n",
        "**b) метрики моделей из п. 2 и п. 10.**\n",
        "\n",
        "**c) мнение о целесообразности работы с данными при построении моделей машинного обучения.**\n",
        "\n",
        "**Нужно ли аналогичным образом исследовать и дополнять действительно большие данные?**\n",
        "\n",
        "Нужно, потому что от масштаба датасета это не зависит. В PySpark возможно преобразовать любые большие данные до ограниченного количества категорий и затем обработать встроенными библиотеками.  "
      ],
      "metadata": {
        "id": "aBssW2Ab8eyy"
      }
    }
  ]
}