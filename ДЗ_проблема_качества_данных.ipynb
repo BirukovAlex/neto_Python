{
  "nbformat": 4,
  "nbformat_minor": 0,
  "metadata": {
    "colab": {
      "provenance": [],
      "authorship_tag": "ABX9TyMOXUDgKZTnAPszEJxdp89l",
      "include_colab_link": true
    },
    "kernelspec": {
      "name": "python3",
      "display_name": "Python 3"
    },
    "language_info": {
      "name": "python"
    }
  },
  "cells": [
    {
      "cell_type": "markdown",
      "metadata": {
        "id": "view-in-github",
        "colab_type": "text"
      },
      "source": [
        "<a href=\"https://colab.research.google.com/github/BirukovAlex/neto_Python/blob/main/%D0%94%D0%97_%D0%BF%D1%80%D0%BE%D0%B1%D0%BB%D0%B5%D0%BC%D0%B0_%D0%BA%D0%B0%D1%87%D0%B5%D1%81%D1%82%D0%B2%D0%B0_%D0%B4%D0%B0%D0%BD%D0%BD%D1%8B%D1%85.ipynb\" target=\"_parent\"><img src=\"https://colab.research.google.com/assets/colab-badge.svg\" alt=\"Open In Colab\"/></a>"
      ]
    },
    {
      "cell_type": "markdown",
      "source": [
        "**Домашнее задание «Проблема качества данных»**\n",
        "\n",
        "- Проведите очистку данных на примере датасета с информацией о пассажирах корабля Титаник.\n",
        "- Данные можно скачать по ссылке или найти в материалах к уроку.\n",
        "- На полученных данных обучите модель классификации, с целевым признаком Survived (1 – пассажир выжил, 0 – погиб).\n",
        "- Обучите модель на необработанных данных и посчитайте метрику качества.\n",
        "- Проведите очистку данных.\n",
        "- Обучите модель на данных после обработки, посчитайте метрику качества.\n",
        "- Сравнить полученные результаты. Значение метрики должно улучшиться."
      ],
      "metadata": {
        "id": "kfJHdSUwwBnJ"
      }
    },
    {
      "cell_type": "markdown",
      "source": [
        "Описание датасета (train)\n",
        "\n",
        "- PassengerId — уникальный идентификатор пассажира;\n",
        "-Survived — факт выживания (1 = выжил, 0 = погиб);\n",
        "-Pclass — класс билета/социально-экономический статус (1 = высший, 2 = средний, 3 = низший);\n",
        "-Name — имя и фамилия пассажира;\n",
        "-Sex — пол пассажира;\n",
        "-Age — возраст пассажира (часть значений отсутствует);\n",
        "-SibSp — число родных братьев/сестёр или супругов на борту;\n",
        "-Parch — число родителей/детей на борту;\n",
        "-Ticket — номер билета;\n",
        "-Fare — стоимость проезда;\n",
        "-Cabin — номер каюты (значительная часть значений отсутствует);\n",
        "-Embarked — порт посадки (С = Шербург, Q = Куинстаун, S = Саутгемптон)."
      ],
      "metadata": {
        "id": "BBp58oy-UR5u"
      }
    },
    {
      "cell_type": "code",
      "source": [
        "import numpy as np\n",
        "import pandas as pd\n",
        "import seaborn as sns\n",
        "import matplotlib.pyplot as plt\n",
        "from sklearn.linear_model import LogisticRegression\n",
        "from sklearn.model_selection import train_test_split\n",
        "from sklearn.preprocessing import PolynomialFeatures, StandardScaler, LabelEncoder\n",
        "from sklearn.metrics import mean_absolute_error, recall_score, precision_score, accuracy_score, roc_curve, roc_auc_score, auc, precision_recall_curve\n"
      ],
      "metadata": {
        "id": "sdpywLht-HRQ"
      },
      "execution_count": 58,
      "outputs": []
    },
    {
      "cell_type": "code",
      "source": [
        "df = pd.read_csv('train.csv')"
      ],
      "metadata": {
        "id": "1n-FA8XkDj9d"
      },
      "execution_count": 59,
      "outputs": []
    },
    {
      "cell_type": "code",
      "source": [
        "df.info()"
      ],
      "metadata": {
        "colab": {
          "base_uri": "https://localhost:8080/"
        },
        "id": "jQ9dn2EbEwaH",
        "outputId": "58f6aa82-8307-4f89-edb6-603303e6da9c"
      },
      "execution_count": 60,
      "outputs": [
        {
          "output_type": "stream",
          "name": "stdout",
          "text": [
            "<class 'pandas.core.frame.DataFrame'>\n",
            "RangeIndex: 891 entries, 0 to 890\n",
            "Data columns (total 12 columns):\n",
            " #   Column       Non-Null Count  Dtype  \n",
            "---  ------       --------------  -----  \n",
            " 0   PassengerId  891 non-null    int64  \n",
            " 1   Survived     891 non-null    int64  \n",
            " 2   Pclass       891 non-null    int64  \n",
            " 3   Name         891 non-null    object \n",
            " 4   Sex          891 non-null    object \n",
            " 5   Age          714 non-null    float64\n",
            " 6   SibSp        891 non-null    int64  \n",
            " 7   Parch        891 non-null    int64  \n",
            " 8   Ticket       891 non-null    object \n",
            " 9   Fare         891 non-null    float64\n",
            " 10  Cabin        204 non-null    object \n",
            " 11  Embarked     889 non-null    object \n",
            "dtypes: float64(2), int64(5), object(5)\n",
            "memory usage: 83.7+ KB\n"
          ]
        }
      ]
    },
    {
      "cell_type": "markdown",
      "source": [
        "Рассуждаем о том, что видим:\n",
        "- пропуски в age, cabin и embarked.\n",
        "- категориальные признаки name, sex, ticket, cabin, embarked.  \n",
        "    \n",
        "    *Наша задача состоит в том, чтобы  модель предсказала выживаемость пассажира и нужно определиться с коррелирующими признаками*\n",
        "\n",
        "мы видим, что:\n",
        "- целевая переменная survived - целочисленная, без пропусков (+)\n",
        "- признак \"пол\" важен для анализа, преобразовываем в 0,1 (labelEncoder).\n",
        "- категориальные признаки name, ticket, Cabin, Embarked неважны (выживаемость не зависит).\n",
        "- **важный признак - возраст, имеет существенно много пропусков (177 | 19%)**  \n"
      ],
      "metadata": {
        "id": "3XO64M60YYxG"
      }
    },
    {
      "cell_type": "markdown",
      "source": [
        "**В первую очередь обработаем пропуски Age** следующим образом: добавим новый признак \"Взрослые\" (если да - 1, если нет - 0). В категорию детей будем добавлять по следующему признаку: возраст пассажира <=12, если Age == Nan и Parch != 0 (на борту есть родители) и в Name содержится обращение к пассажиру Master (по правилам 1912 года так обращались к мальчикам 12 лет).\n",
        "Если в Age == Nan и Parch != 0 и в Name содержится обращение к пассажиру Miss - то оставляем Nan, потому что обращение Miss было ко всем девочкам и женщинам вне зависимости от возраста."
      ],
      "metadata": {
        "id": "ml7TDlLGa8yc"
      }
    },
    {
      "cell_type": "code",
      "source": [
        "# Создание колонки Adult\n",
        "df['Adult'] = 1  # По умолчанию все взрослые (1)\n",
        "\n",
        "# Определение детей (0) по возрасту <=12\n",
        "df.loc[df['Age'] <= 12, 'Adult'] = 0\n",
        "# Обработка случаев с пропущенным возрастом\n",
        "mask = (\n",
        "    df['Age'].isna() &\n",
        "    (df['Parch'] != 0) &\n",
        "    df['Name'].str.contains('Master')\n",
        ")\n",
        "df.loc[mask, 'Adult'] = 0\n",
        "# Обработка случаев с Miss - оставляем NaN\n",
        "miss_mask = (\n",
        "    df['Age'].isna() &\n",
        "    (df['Parch'] != 0) &\n",
        "    df['Name'].str.contains('Miss')\n",
        ")\n",
        "df.loc[miss_mask, 'Adult'] = np.nan\n",
        "# Преобразование в int64 (где возможно)\n",
        "df['Adult'] = df['Adult'].astype('Int64')  # Используем pandas' Int64 для поддержки NaN"
      ],
      "metadata": {
        "id": "0TiOYdPDYAxe"
      },
      "execution_count": 61,
      "outputs": []
    },
    {
      "cell_type": "code",
      "source": [
        "# Вычисление корреляций\n",
        "corr_age = df['Survived'].corr(df['Age'].fillna(df['Age'].median()))\n",
        "corr_adult = df['Survived'].corr(df['Adult'].fillna(1))  # Заменяем NaN для Miss на 1 (взрослый)\n",
        "\n",
        "print(f\"Корреляция Survived-Age: {corr_age:.3f}\")\n",
        "print(f\"Корреляция Survived-Adult: {corr_adult:.3f}\")\n",
        "\n",
        "# Визуализация\n",
        "plt.figure(figsize=(12, 5))\n",
        "\n",
        "# График 1: Survived vs Age\n",
        "plt.subplot(1, 2, 1)\n",
        "sns.boxplot(x='Survived', y='Age', data=df)\n",
        "plt.title(f'Survived vs Age\\nКорреляция: {corr_age:.3f}')\n",
        "plt.xlabel('Выжил (0=Нет, 1=Да)')\n",
        "plt.ylabel('Возраст')\n",
        "\n",
        "# График 2: Survived vs Adult\n",
        "plt.subplot(1, 2, 2)\n",
        "sns.countplot(x='Adult', hue='Survived', data=df)\n",
        "plt.title(f'Survived vs Adult\\nКорреляция: {corr_adult:.3f}')\n",
        "plt.xlabel('Ребенок (0=Да, 1=Нет)')\n",
        "plt.ylabel('Количество пассажиров')\n",
        "plt.legend(title='Выжил', labels=['Нет', 'Да'])\n",
        "\n",
        "plt.tight_layout()\n",
        "plt.show()"
      ],
      "metadata": {
        "colab": {
          "base_uri": "https://localhost:8080/",
          "height": 383
        },
        "id": "hpyv6HySdoHb",
        "outputId": "4654884c-090e-4aef-f4f5-1285176b3d24"
      },
      "execution_count": 62,
      "outputs": [
        {
          "output_type": "stream",
          "name": "stdout",
          "text": [
            "Корреляция Survived-Age: -0.065\n",
            "Корреляция Survived-Adult: -0.118\n"
          ]
        },
        {
          "output_type": "display_data",
          "data": {
            "text/plain": [
              "<Figure size 1200x500 with 2 Axes>"
            ],
            "image/png": "[encoded data removed]"
          },
          "metadata": {}
        }
      ]
    },
    {
      "cell_type": "markdown",
      "source": [
        "Корреляция от нового признака Adult -0,118 чуть сильнее, чем на неочищенных данных Age - 0,065. В обоих случаях корреляция обратно-пропорциональная (чем меньше лет, тем больше шансов, боксплот с выжившими чуть ниже по возрастной шкале)\n",
        "\n",
        "**Теперь проверим что будет если пропуски по Age игнорировать**"
      ],
      "metadata": {
        "id": "xRPDge6-j4zP"
      }
    },
    {
      "cell_type": "code",
      "source": [
        "# Создаем df_corr, удаляя записи с Age == NaN\n",
        "df_corr = df.dropna(subset=['Age']).copy()\n",
        "# Вычисляем корреляции\n",
        "corr_matrix = df_corr[['Survived', 'Age']].corr()\n",
        "\n",
        "#Сравнение\n",
        "\n",
        "print(f\"\\nРазмер df_corr после удаления NaN в Age: {len(df_corr)} записей, потеряно {len(df) - len(df_corr)} или {(len(df) - len(df_corr)) / len(df) * 100:.1f}% записей. существенно \")\n",
        "print(f\"Корреляция Survived-Age без Nan: {corr_matrix.loc['Survived', 'Age']:.3f}\")\n",
        "print(f\"Корреляция Survived-Age неочищенная: {corr_age:.3f}\")\n",
        "print(f\"Корреляция Survived-Adult с признаком Взрослый / ребенок: {corr_adult:.3f}\")"
      ],
      "metadata": {
        "colab": {
          "base_uri": "https://localhost:8080/"
        },
        "id": "Wfx7tgB-oUt9",
        "outputId": "159565cc-1f21-4328-f42a-5aefc4a6980e"
      },
      "execution_count": 63,
      "outputs": [
        {
          "output_type": "stream",
          "name": "stdout",
          "text": [
            "\n",
            "Размер df_corr после удаления NaN в Age: 714 записей, потеряно 177 или 19.9% записей. существенно \n",
            "Корреляция Survived-Age без Nan: -0.077\n",
            "Корреляция Survived-Age неочищенная: -0.065\n",
            "Корреляция Survived-Adult с признаком Взрослый / ребенок: -0.118\n"
          ]
        }
      ]
    },
    {
      "cell_type": "markdown",
      "source": [
        "как видим, при удалении пропусков по Age корреляция не сильно лучше неочищенного датасета\n",
        "\n",
        "Следующим шагом:\n",
        "- уберем все ненужные категориальные признаки name, ticket, Cabin, Embarked\n",
        "- вместо Age, испоьзуем Adult\n",
        "- пропуски с обращением Miss заполним категорией взрослых (1)\n",
        "- преобразуем пол из категориального в целочисленный бинарный (male - 1, female - 0) с помощью LabelEncoder"
      ],
      "metadata": {
        "id": "xaBGj8eHs5jB"
      }
    },
    {
      "cell_type": "code",
      "source": [
        "# Удаление ненужных столбцов\n",
        "columns_to_drop = ['Name', 'Ticket', 'Cabin', 'Embarked', 'Age']\n",
        "df_clean = df.drop(columns=columns_to_drop)\n",
        "# Преобразование признака 'Sex' в числовой бинарный (0, 1)\n",
        "label_encoder = LabelEncoder()\n",
        "df_clean['Sex'] = label_encoder.fit_transform(df_clean['Sex'])"
      ],
      "metadata": {
        "id": "ApOkVJt0uw4w"
      },
      "execution_count": 64,
      "outputs": []
    },
    {
      "cell_type": "code",
      "source": [
        "df_clean['Adult'] = df_clean['Adult'].fillna(1)"
      ],
      "metadata": {
        "id": "T1GqCCeG2cHO"
      },
      "execution_count": 65,
      "outputs": []
    },
    {
      "cell_type": "code",
      "source": [
        "df_clean.info()"
      ],
      "metadata": {
        "colab": {
          "base_uri": "https://localhost:8080/"
        },
        "id": "62h4BA7vxQyK",
        "outputId": "2a217c6f-b81e-4f20-9dfa-b1829d1747cd"
      },
      "execution_count": 66,
      "outputs": [
        {
          "output_type": "stream",
          "name": "stdout",
          "text": [
            "<class 'pandas.core.frame.DataFrame'>\n",
            "RangeIndex: 891 entries, 0 to 890\n",
            "Data columns (total 8 columns):\n",
            " #   Column       Non-Null Count  Dtype  \n",
            "---  ------       --------------  -----  \n",
            " 0   PassengerId  891 non-null    int64  \n",
            " 1   Survived     891 non-null    int64  \n",
            " 2   Pclass       891 non-null    int64  \n",
            " 3   Sex          891 non-null    int64  \n",
            " 4   SibSp        891 non-null    int64  \n",
            " 5   Parch        891 non-null    int64  \n",
            " 6   Fare         891 non-null    float64\n",
            " 7   Adult        891 non-null    Int64  \n",
            "dtypes: Int64(1), float64(1), int64(6)\n",
            "memory usage: 56.7 KB\n"
          ]
        }
      ]
    },
    {
      "cell_type": "markdown",
      "source": [
        "**Датаcет готов для обучения** Выбросы были в в признаке \"возраст\", и являются объективными показателями количества людей старшего возраста, выбросы типа \"возраст = 0\" отсутствуют."
      ],
      "metadata": {
        "id": "ngFj5VylxGVT"
      }
    },
    {
      "cell_type": "code",
      "source": [
        "#обучаем модель\n",
        "X = df_clean[['Pclass', 'Sex', 'SibSp', 'Parch', 'Fare', 'Adult']]\n",
        "y = df_clean['Survived']\n",
        "\n",
        "scaler = StandardScaler()\n",
        "X_scaled = scaler.fit_transform(X)\n",
        "\n",
        "X_train, X_test, y_train, y_test = train_test_split(X_scaled, y, test_size=0.25)\n",
        "\n",
        "log_reg = LogisticRegression().fit(X_train, y_train)\n",
        "\n",
        "y_pred = log_reg.predict(X_test)\n",
        "accuracy = accuracy_score(y_test, y_pred)\n",
        "recall = recall_score(y_test, y_pred)\n",
        "precision = precision_score(y_test, y_pred)\n",
        "\n",
        "print(f\"Accuracy: {accuracy:.4f}\")\n",
        "print(f\"Recall: {recall:.4f}\")\n",
        "print(f\"Precision: {precision:.4f}\")\n"
      ],
      "metadata": {
        "colab": {
          "base_uri": "https://localhost:8080/"
        },
        "id": "Q_4No1FpW4Wq",
        "outputId": "42cd99be-79e9-4f30-8991-c041f1af2870"
      },
      "execution_count": 67,
      "outputs": [
        {
          "output_type": "stream",
          "name": "stdout",
          "text": [
            "Accuracy: 0.8161\n",
            "Recall: 0.7111\n",
            "Precision: 0.8101\n"
          ]
        }
      ]
    },
    {
      "cell_type": "code",
      "source": [
        "y_scores = log_reg.predict_proba(X_test)[:, 1]\n",
        "fpr, tpr, thresh = roc_curve(y_test, y_scores)"
      ],
      "metadata": {
        "id": "m8BftA1bbFJc"
      },
      "execution_count": 68,
      "outputs": []
    },
    {
      "cell_type": "code",
      "source": [
        "plt.figure(figsize=(12, 12))\n",
        "plt.plot(fpr, tpr, label = 'Logreg')\n",
        "plt.plot(np.linspace(0,1,10), np.linspace(0,1,10),label = 'RedLine')\n",
        "plt.title('ROC', fontdict={'fontsize': 20})\n",
        "plt.xlabel('False Positive Rate', fontdict={'fontsize': 20})\n",
        "plt.ylabel('True Positive Rate', fontdict={'fontsize': 20})\n",
        "plt.show()"
      ],
      "metadata": {
        "colab": {
          "base_uri": "https://localhost:8080/",
          "height": 834
        },
        "id": "HO5GQVDCW1b1",
        "outputId": "41f0f608-88b4-4951-b7d8-a486d4987fcf"
      },
      "execution_count": 69,
      "outputs": [
        {
          "output_type": "display_data",
          "data": {
            "text/plain": [
              "<Figure size 1200x1200 with 1 Axes>"
            ],
            "image/png": "[encoded data removed]"
          },
          "metadata": {}
        }
      ]
    },
    {
      "cell_type": "code",
      "source": [
        "auc(fpr, tpr)"
      ],
      "metadata": {
        "colab": {
          "base_uri": "https://localhost:8080/"
        },
        "id": "qxOVN_badRcC",
        "outputId": "4a4029f3-f736-4ccd-8358-8aaceb30ddea"
      },
      "execution_count": 70,
      "outputs": [
        {
          "output_type": "execute_result",
          "data": {
            "text/plain": [
              "np.float64(0.8864661654135337)"
            ]
          },
          "metadata": {},
          "execution_count": 70
        }
      ]
    },
    {
      "cell_type": "code",
      "source": [
        "# проверим библиотечной функцией\n",
        "from sklearn.metrics import RocCurveDisplay\n",
        "RocCurveDisplay.from_estimator(log_reg, X_test, y_test)\n",
        "plt.show()"
      ],
      "metadata": {
        "colab": {
          "base_uri": "https://localhost:8080/",
          "height": 451
        },
        "id": "nPd5mS8fpXaE",
        "outputId": "92372d55-a9da-4544-e98a-469bb6f3189a"
      },
      "execution_count": 71,
      "outputs": [
        {
          "output_type": "display_data",
          "data": {
            "text/plain": [
              "<Figure size 640x480 with 1 Axes>"
            ],
            "image/png": "[encoded data removed]"
          },
          "metadata": {}
        }
      ]
    },
    {
      "cell_type": "markdown",
      "source": [
        "2. Удалите все пропущенные значения и категориальные переменные. Обучите модель. Выберете и посчитайте метрику качества."
      ],
      "metadata": {
        "id": "1mIUWUfg8XeD"
      }
    },
    {
      "cell_type": "code",
      "source": [
        "# Загрузка данных\n",
        "data = pd.read_csv('train.csv')\n",
        "# Удаление пропущенных значений\n",
        "data = data.dropna()\n",
        "# Удаление категориальных переменных\n",
        "data = data.drop(['PassengerId', 'Name', 'Sex', 'Ticket', 'Cabin', 'Embarked'], axis=1)\n",
        "# Разделение на признаки и целевую переменную\n",
        "X = data.drop('Survived', axis=1)\n",
        "y = data['Survived']\n",
        "# Масштабирование числовых признаков\n",
        "scaler = StandardScaler()\n",
        "X_scaled = scaler.fit_transform(X)\n",
        "# Разделение на обучающую и тестовую выборки\n",
        "X_train, X_test, y_train, y_test = train_test_split(X_scaled, y, test_size=0.2, random_state=42)\n",
        "#Обучение модели\n",
        "model = LogisticRegression(max_iter=1000)\n",
        "model.fit(X_train, y_train)"
      ],
      "metadata": {
        "colab": {
          "base_uri": "https://localhost:8080/",
          "height": 80
        },
        "id": "td71KHJyufb9",
        "outputId": "783f8bd2-b4a6-446f-d749-f4aa0233ca24"
      },
      "execution_count": 72,
      "outputs": [
        {
          "output_type": "execute_result",
          "data": {
            "text/plain": [
              "LogisticRegression(max_iter=1000)"
            ],
            "text/html": [
              "<style>#sk-container-id-2 {\n",
              "  /* Definition of color scheme common for light and dark mode */\n",
              "  --sklearn-color-text: #000;\n",
              "  --sklearn-color-text-muted: #666;\n",
              "  --sklearn-color-line: gray;\n",
              "  /* Definition of color scheme for unfitted estimators */\n",
              "  --sklearn-color-unfitted-level-0: #fff5e6;\n",
              "  --sklearn-color-unfitted-level-1: #f6e4d2;\n",
              "  --sklearn-color-unfitted-level-2: #ffe0b3;\n",
              "  --sklearn-color-unfitted-level-3: chocolate;\n",
              "  /* Definition of color scheme for fitted estimators */\n",
              "  --sklearn-color-fitted-level-0: #f0f8ff;\n",
              "  --sklearn-color-fitted-level-1: #d4ebff;\n",
              "  --sklearn-color-fitted-level-2: #b3dbfd;\n",
              "  --sklearn-color-fitted-level-3: cornflowerblue;\n",
              "\n",
              "  /* Specific color for light theme */\n",
              "  --sklearn-color-text-on-default-background: var(--sg-text-color, var(--theme-code-foreground, var(--jp-content-font-color1, black)));\n",
              "  --sklearn-color-background: var(--sg-background-color, var(--theme-background, var(--jp-layout-color0, white)));\n",
              "  --sklearn-color-border-box: var(--sg-text-color, var(--theme-code-foreground, var(--jp-content-font-color1, black)));\n",
              "  --sklearn-color-icon: #696969;\n",
              "\n",
              "  @media (prefers-color-scheme: dark) {\n",
              "    /* Redefinition of color scheme for dark theme */\n",
              "    --sklearn-color-text-on-default-background: var(--sg-text-color, var(--theme-code-foreground, var(--jp-content-font-color1, white)));\n",
              "    --sklearn-color-background: var(--sg-background-color, var(--theme-background, var(--jp-layout-color0, #111)));\n",
              "    --sklearn-color-border-box: var(--sg-text-color, var(--theme-code-foreground, var(--jp-content-font-color1, white)));\n",
              "    --sklearn-color-icon: #878787;\n",
              "  }\n",
              "}\n",
              "\n",
              "#sk-container-id-2 {\n",
              "  color: var(--sklearn-color-text);\n",
              "}\n",
              "\n",
              "#sk-container-id-2 pre {\n",
              "  padding: 0;\n",
              "}\n",
              "\n",
              "#sk-container-id-2 input.sk-hidden--visually {\n",
              "  border: 0;\n",
              "  clip: rect(1px 1px 1px 1px);\n",
              "  clip: rect(1px, 1px, 1px, 1px);\n",
              "  height: 1px;\n",
              "  margin: -1px;\n",
              "  overflow: hidden;\n",
              "  padding: 0;\n",
              "  position: absolute;\n",
              "  width: 1px;\n",
              "}\n",
              "\n",
              "#sk-container-id-2 div.sk-dashed-wrapped {\n",
              "  border: 1px dashed var(--sklearn-color-line);\n",
              "  margin: 0 0.4em 0.5em 0.4em;\n",
              "  box-sizing: border-box;\n",
              "  padding-bottom: 0.4em;\n",
              "  background-color: var(--sklearn-color-background);\n",
              "}\n",
              "\n",
              "#sk-container-id-2 div.sk-container {\n",
              "  /* jupyter's `normalize.less` sets `[hidden] { display: none; }`\n",
              "     but bootstrap.min.css set `[hidden] { display: none !important; }`\n",
              "     so we also need the `!important` here to be able to override the\n",
              "     default hidden behavior on the sphinx rendered scikit-learn.org.\n",
              "     See: https://github.com/scikit-learn/scikit-learn/issues/21755 */\n",
              "  display: inline-block !important;\n",
              "  position: relative;\n",
              "}\n",
              "\n",
              "#sk-container-id-2 div.sk-text-repr-fallback {\n",
              "  display: none;\n",
              "}\n",
              "\n",
              "div.sk-parallel-item,\n",
              "div.sk-serial,\n",
              "div.sk-item {\n",
              "  /* draw centered vertical line to link estimators */\n",
              "  background-image: linear-gradient(var(--sklearn-color-text-on-default-background), var(--sklearn-color-text-on-default-background));\n",
              "  background-size: 2px 100%;\n",
              "  background-repeat: no-repeat;\n",
              "  background-position: center center;\n",
              "}\n",
              "\n",
              "/* Parallel-specific style estimator block */\n",
              "\n",
              "#sk-container-id-2 div.sk-parallel-item::after {\n",
              "  content: \"\";\n",
              "  width: 100%;\n",
              "  border-bottom: 2px solid var(--sklearn-color-text-on-default-background);\n",
              "  flex-grow: 1;\n",
              "}\n",
              "\n",
              "#sk-container-id-2 div.sk-parallel {\n",
              "  display: flex;\n",
              "  align-items: stretch;\n",
              "  justify-content: center;\n",
              "  background-color: var(--sklearn-color-background);\n",
              "  position: relative;\n",
              "}\n",
              "\n",
              "#sk-container-id-2 div.sk-parallel-item {\n",
              "  display: flex;\n",
              "  flex-direction: column;\n",
              "}\n",
              "\n",
              "#sk-container-id-2 div.sk-parallel-item:first-child::after {\n",
              "  align-self: flex-end;\n",
              "  width: 50%;\n",
              "}\n",
              "\n",
              "#sk-container-id-2 div.sk-parallel-item:last-child::after {\n",
              "  align-self: flex-start;\n",
              "  width: 50%;\n",
              "}\n",
              "\n",
              "#sk-container-id-2 div.sk-parallel-item:only-child::after {\n",
              "  width: 0;\n",
              "}\n",
              "\n",
              "/* Serial-specific style estimator block */\n",
              "\n",
              "#sk-container-id-2 div.sk-serial {\n",
              "  display: flex;\n",
              "  flex-direction: column;\n",
              "  align-items: center;\n",
              "  background-color: var(--sklearn-color-background);\n",
              "  padding-right: 1em;\n",
              "  padding-left: 1em;\n",
              "}\n",
              "\n",
              "\n",
              "/* Toggleable style: style used for estimator/Pipeline/ColumnTransformer box that is\n",
              "clickable and can be expanded/collapsed.\n",
              "- Pipeline and ColumnTransformer use this feature and define the default style\n",
              "- Estimators will overwrite some part of the style using the `sk-estimator` class\n",
              "*/\n",
              "\n",
              "/* Pipeline and ColumnTransformer style (default) */\n",
              "\n",
              "#sk-container-id-2 div.sk-toggleable {\n",
              "  /* Default theme specific background. It is overwritten whether we have a\n",
              "  specific estimator or a Pipeline/ColumnTransformer */\n",
              "  background-color: var(--sklearn-color-background);\n",
              "}\n",
              "\n",
              "/* Toggleable label */\n",
              "#sk-container-id-2 label.sk-toggleable__label {\n",
              "  cursor: pointer;\n",
              "  display: flex;\n",
              "  width: 100%;\n",
              "  margin-bottom: 0;\n",
              "  padding: 0.5em;\n",
              "  box-sizing: border-box;\n",
              "  text-align: center;\n",
              "  align-items: start;\n",
              "  justify-content: space-between;\n",
              "  gap: 0.5em;\n",
              "}\n",
              "\n",
              "#sk-container-id-2 label.sk-toggleable__label .caption {\n",
              "  font-size: 0.6rem;\n",
              "  font-weight: lighter;\n",
              "  color: var(--sklearn-color-text-muted);\n",
              "}\n",
              "\n",
              "#sk-container-id-2 label.sk-toggleable__label-arrow:before {\n",
              "  /* Arrow on the left of the label */\n",
              "  content: \"▸\";\n",
              "  float: left;\n",
              "  margin-right: 0.25em;\n",
              "  color: var(--sklearn-color-icon);\n",
              "}\n",
              "\n",
              "#sk-container-id-2 label.sk-toggleable__label-arrow:hover:before {\n",
              "  color: var(--sklearn-color-text);\n",
              "}\n",
              "\n",
              "/* Toggleable content - dropdown */\n",
              "\n",
              "#sk-container-id-2 div.sk-toggleable__content {\n",
              "  max-height: 0;\n",
              "  max-width: 0;\n",
              "  overflow: hidden;\n",
              "  text-align: left;\n",
              "  /* unfitted */\n",
              "  background-color: var(--sklearn-color-unfitted-level-0);\n",
              "}\n",
              "\n",
              "#sk-container-id-2 div.sk-toggleable__content.fitted {\n",
              "  /* fitted */\n",
              "  background-color: var(--sklearn-color-fitted-level-0);\n",
              "}\n",
              "\n",
              "#sk-container-id-2 div.sk-toggleable__content pre {\n",
              "  margin: 0.2em;\n",
              "  border-radius: 0.25em;\n",
              "  color: var(--sklearn-color-text);\n",
              "  /* unfitted */\n",
              "  background-color: var(--sklearn-color-unfitted-level-0);\n",
              "}\n",
              "\n",
              "#sk-container-id-2 div.sk-toggleable__content.fitted pre {\n",
              "  /* unfitted */\n",
              "  background-color: var(--sklearn-color-fitted-level-0);\n",
              "}\n",
              "\n",
              "#sk-container-id-2 input.sk-toggleable__control:checked~div.sk-toggleable__content {\n",
              "  /* Expand drop-down */\n",
              "  max-height: 200px;\n",
              "  max-width: 100%;\n",
              "  overflow: auto;\n",
              "}\n",
              "\n",
              "#sk-container-id-2 input.sk-toggleable__control:checked~label.sk-toggleable__label-arrow:before {\n",
              "  content: \"▾\";\n",
              "}\n",
              "\n",
              "/* Pipeline/ColumnTransformer-specific style */\n",
              "\n",
              "#sk-container-id-2 div.sk-label input.sk-toggleable__control:checked~label.sk-toggleable__label {\n",
              "  color: var(--sklearn-color-text);\n",
              "  background-color: var(--sklearn-color-unfitted-level-2);\n",
              "}\n",
              "\n",
              "#sk-container-id-2 div.sk-label.fitted input.sk-toggleable__control:checked~label.sk-toggleable__label {\n",
              "  background-color: var(--sklearn-color-fitted-level-2);\n",
              "}\n",
              "\n",
              "/* Estimator-specific style */\n",
              "\n",
              "/* Colorize estimator box */\n",
              "#sk-container-id-2 div.sk-estimator input.sk-toggleable__control:checked~label.sk-toggleable__label {\n",
              "  /* unfitted */\n",
              "  background-color: var(--sklearn-color-unfitted-level-2);\n",
              "}\n",
              "\n",
              "#sk-container-id-2 div.sk-estimator.fitted input.sk-toggleable__control:checked~label.sk-toggleable__label {\n",
              "  /* fitted */\n",
              "  background-color: var(--sklearn-color-fitted-level-2);\n",
              "}\n",
              "\n",
              "#sk-container-id-2 div.sk-label label.sk-toggleable__label,\n",
              "#sk-container-id-2 div.sk-label label {\n",
              "  /* The background is the default theme color */\n",
              "  color: var(--sklearn-color-text-on-default-background);\n",
              "}\n",
              "\n",
              "/* On hover, darken the color of the background */\n",
              "#sk-container-id-2 div.sk-label:hover label.sk-toggleable__label {\n",
              "  color: var(--sklearn-color-text);\n",
              "  background-color: var(--sklearn-color-unfitted-level-2);\n",
              "}\n",
              "\n",
              "/* Label box, darken color on hover, fitted */\n",
              "#sk-container-id-2 div.sk-label.fitted:hover label.sk-toggleable__label.fitted {\n",
              "  color: var(--sklearn-color-text);\n",
              "  background-color: var(--sklearn-color-fitted-level-2);\n",
              "}\n",
              "\n",
              "/* Estimator label */\n",
              "\n",
              "#sk-container-id-2 div.sk-label label {\n",
              "  font-family: monospace;\n",
              "  font-weight: bold;\n",
              "  display: inline-block;\n",
              "  line-height: 1.2em;\n",
              "}\n",
              "\n",
              "#sk-container-id-2 div.sk-label-container {\n",
              "  text-align: center;\n",
              "}\n",
              "\n",
              "/* Estimator-specific */\n",
              "#sk-container-id-2 div.sk-estimator {\n",
              "  font-family: monospace;\n",
              "  border: 1px dotted var(--sklearn-color-border-box);\n",
              "  border-radius: 0.25em;\n",
              "  box-sizing: border-box;\n",
              "  margin-bottom: 0.5em;\n",
              "  /* unfitted */\n",
              "  background-color: var(--sklearn-color-unfitted-level-0);\n",
              "}\n",
              "\n",
              "#sk-container-id-2 div.sk-estimator.fitted {\n",
              "  /* fitted */\n",
              "  background-color: var(--sklearn-color-fitted-level-0);\n",
              "}\n",
              "\n",
              "/* on hover */\n",
              "#sk-container-id-2 div.sk-estimator:hover {\n",
              "  /* unfitted */\n",
              "  background-color: var(--sklearn-color-unfitted-level-2);\n",
              "}\n",
              "\n",
              "#sk-container-id-2 div.sk-estimator.fitted:hover {\n",
              "  /* fitted */\n",
              "  background-color: var(--sklearn-color-fitted-level-2);\n",
              "}\n",
              "\n",
              "/* Specification for estimator info (e.g. \"i\" and \"?\") */\n",
              "\n",
              "/* Common style for \"i\" and \"?\" */\n",
              "\n",
              ".sk-estimator-doc-link,\n",
              "a:link.sk-estimator-doc-link,\n",
              "a:visited.sk-estimator-doc-link {\n",
              "  float: right;\n",
              "  font-size: smaller;\n",
              "  line-height: 1em;\n",
              "  font-family: monospace;\n",
              "  background-color: var(--sklearn-color-background);\n",
              "  border-radius: 1em;\n",
              "  height: 1em;\n",
              "  width: 1em;\n",
              "  text-decoration: none !important;\n",
              "  margin-left: 0.5em;\n",
              "  text-align: center;\n",
              "  /* unfitted */\n",
              "  border: var(--sklearn-color-unfitted-level-1) 1pt solid;\n",
              "  color: var(--sklearn-color-unfitted-level-1);\n",
              "}\n",
              "\n",
              ".sk-estimator-doc-link.fitted,\n",
              "a:link.sk-estimator-doc-link.fitted,\n",
              "a:visited.sk-estimator-doc-link.fitted {\n",
              "  /* fitted */\n",
              "  border: var(--sklearn-color-fitted-level-1) 1pt solid;\n",
              "  color: var(--sklearn-color-fitted-level-1);\n",
              "}\n",
              "\n",
              "/* On hover */\n",
              "div.sk-estimator:hover .sk-estimator-doc-link:hover,\n",
              ".sk-estimator-doc-link:hover,\n",
              "div.sk-label-container:hover .sk-estimator-doc-link:hover,\n",
              ".sk-estimator-doc-link:hover {\n",
              "  /* unfitted */\n",
              "  background-color: var(--sklearn-color-unfitted-level-3);\n",
              "  color: var(--sklearn-color-background);\n",
              "  text-decoration: none;\n",
              "}\n",
              "\n",
              "div.sk-estimator.fitted:hover .sk-estimator-doc-link.fitted:hover,\n",
              ".sk-estimator-doc-link.fitted:hover,\n",
              "div.sk-label-container:hover .sk-estimator-doc-link.fitted:hover,\n",
              ".sk-estimator-doc-link.fitted:hover {\n",
              "  /* fitted */\n",
              "  background-color: var(--sklearn-color-fitted-level-3);\n",
              "  color: var(--sklearn-color-background);\n",
              "  text-decoration: none;\n",
              "}\n",
              "\n",
              "/* Span, style for the box shown on hovering the info icon */\n",
              ".sk-estimator-doc-link span {\n",
              "  display: none;\n",
              "  z-index: 9999;\n",
              "  position: relative;\n",
              "  font-weight: normal;\n",
              "  right: .2ex;\n",
              "  padding: .5ex;\n",
              "  margin: .5ex;\n",
              "  width: min-content;\n",
              "  min-width: 20ex;\n",
              "  max-width: 50ex;\n",
              "  color: var(--sklearn-color-text);\n",
              "  box-shadow: 2pt 2pt 4pt #999;\n",
              "  /* unfitted */\n",
              "  background: var(--sklearn-color-unfitted-level-0);\n",
              "  border: .5pt solid var(--sklearn-color-unfitted-level-3);\n",
              "}\n",
              "\n",
              ".sk-estimator-doc-link.fitted span {\n",
              "  /* fitted */\n",
              "  background: var(--sklearn-color-fitted-level-0);\n",
              "  border: var(--sklearn-color-fitted-level-3);\n",
              "}\n",
              "\n",
              ".sk-estimator-doc-link:hover span {\n",
              "  display: block;\n",
              "}\n",
              "\n",
              "/* \"?\"-specific style due to the `<a>` HTML tag */\n",
              "\n",
              "#sk-container-id-2 a.estimator_doc_link {\n",
              "  float: right;\n",
              "  font-size: 1rem;\n",
              "  line-height: 1em;\n",
              "  font-family: monospace;\n",
              "  background-color: var(--sklearn-color-background);\n",
              "  border-radius: 1rem;\n",
              "  height: 1rem;\n",
              "  width: 1rem;\n",
              "  text-decoration: none;\n",
              "  /* unfitted */\n",
              "  color: var(--sklearn-color-unfitted-level-1);\n",
              "  border: var(--sklearn-color-unfitted-level-1) 1pt solid;\n",
              "}\n",
              "\n",
              "#sk-container-id-2 a.estimator_doc_link.fitted {\n",
              "  /* fitted */\n",
              "  border: var(--sklearn-color-fitted-level-1) 1pt solid;\n",
              "  color: var(--sklearn-color-fitted-level-1);\n",
              "}\n",
              "\n",
              "/* On hover */\n",
              "#sk-container-id-2 a.estimator_doc_link:hover {\n",
              "  /* unfitted */\n",
              "  background-color: var(--sklearn-color-unfitted-level-3);\n",
              "  color: var(--sklearn-color-background);\n",
              "  text-decoration: none;\n",
              "}\n",
              "\n",
              "#sk-container-id-2 a.estimator_doc_link.fitted:hover {\n",
              "  /* fitted */\n",
              "  background-color: var(--sklearn-color-fitted-level-3);\n",
              "}\n",
              "</style><div id=\"sk-container-id-2\" class=\"sk-top-container\"><div class=\"sk-text-repr-fallback\"><pre>LogisticRegression(max_iter=1000)</pre><b>In a Jupyter environment, please rerun this cell to show the HTML representation or trust the notebook. <br />On GitHub, the HTML representation is unable to render, please try loading this page with nbviewer.org.</b></div><div class=\"sk-container\" hidden><div class=\"sk-item\"><div class=\"sk-estimator fitted sk-toggleable\"><input class=\"sk-toggleable__control sk-hidden--visually\" id=\"sk-estimator-id-2\" type=\"checkbox\" checked><label for=\"sk-estimator-id-2\" class=\"sk-toggleable__label fitted sk-toggleable__label-arrow\"><div><div>LogisticRegression</div></div><div><a class=\"sk-estimator-doc-link fitted\" rel=\"noreferrer\" target=\"_blank\" href=\"https://scikit-learn.org/1.6/modules/generated/sklearn.linear_model.LogisticRegression.html\">?<span>Documentation for LogisticRegression</span></a><span class=\"sk-estimator-doc-link fitted\">i<span>Fitted</span></span></div></label><div class=\"sk-toggleable__content fitted\"><pre>LogisticRegression(max_iter=1000)</pre></div> </div></div></div></div>"
            ]
          },
          "metadata": {},
          "execution_count": 72
        }
      ]
    },
    {
      "cell_type": "code",
      "source": [
        "# Предсказания на тестовых данных\n",
        "y_pred = model.predict(X_test)\n",
        "y_prob = model.predict_proba(X_test)[:, 1]  # Вероятности для AUC\n",
        "# Расчет метрик\n",
        "accuracy = accuracy_score(y_test, y_pred)\n",
        "recall = recall_score(y_test, y_pred)\n",
        "precision = precision_score(y_test, y_pred)\n",
        "auc = roc_auc_score(y_test, y_prob)\n",
        "print(f\"Accuracy: {accuracy:.4f}\")\n",
        "print(f\"Recall: {recall:.4f}\")\n",
        "print(f\"Precision: {precision:.4f}\")\n",
        "print(f\"AUC: {auc:.4f}\")"
      ],
      "metadata": {
        "colab": {
          "base_uri": "https://localhost:8080/"
        },
        "id": "KDYqgdNkvESK",
        "outputId": "cbeef506-8877-406f-92a1-4d3a8cfc4fdb"
      },
      "execution_count": 73,
      "outputs": [
        {
          "output_type": "stream",
          "name": "stdout",
          "text": [
            "Accuracy: 0.7027\n",
            "Recall: 1.0000\n",
            "Precision: 0.6765\n",
            "AUC: 0.7484\n"
          ]
        }
      ]
    },
    {
      "cell_type": "markdown",
      "source": [
        "# 11. Выводы\n",
        "**a) какие преобразования были сделаны и почему.**\n",
        "- Преобразование пропусков age (принцип выше), потому что это значимый влияющий фактор.\n",
        "- Преобразование категориальных male/female в целочисленные 0/1 для корректного обучения\n",
        "- исключение невлияющих категориальных переменных\n",
        "- проверка корреляции при потере данных (исключении пропусков из дата сета)\n",
        "\n",
        "**b) метрики моделей из п. 2 и п. 10.**\n",
        "Accuracy: 0.8161\n",
        "Recall: 0.7111\n",
        "Precision: 0.8101\n",
        "\n",
        "На очищенных (преобразованных) данных:\n",
        "- Accuracy: 0.8161 - модель правильно предсказывает выживание в 81,61% случаев\n",
        "- Recall: 0.7111 - из всех реально выживших пассажиров модель правильно идентифицировала 71.1%.\n",
        "- Precision: 0.8101 - из всех предсказанных моделью выживших действительно выжили 81,01%.\n",
        "- AUC 89% модель показывает хорошую способность различать выживших и погибших (значение близко к 1)\n",
        "\n",
        "На данных с удалением пропусков (п. 2):\n",
        "- Accuracy: 0.7027 - результат хуже на 12 пунктов\n",
        "- Recall: 1.0000 - из всех реально выживших, модель правильно идентифицировала всех\n",
        "- Precision: 0.6765 - результат значительно хуже, из всех реально выживших выжило 67,7%\n",
        "- AUC: 0.7484 модель на 15 пунктов хуже показывает способность различать выживших и погибших\n",
        "\n",
        "**c) мнение о целесообразности работы с данными при построении моделей машинного обучения.**\n",
        "Убеждён, что данные нужно обрабатывать с погружением в логику контекста, а не просто математической обработкой или дропом пропусков\n",
        "\n",
        "**Нужно ли аналогичным образом исследовать и дополнять действительно большие данные?**\n",
        "\n",
        "Нужно, потому что от масштаба датасета это не зависит. В PySpark возможно преобразовать любые большие данные до ограниченного количества категорий и затем обработать встроенными библиотеками.  "
      ],
      "metadata": {
        "id": "aBssW2Ab8eyy"
      }
    }
  ]
}