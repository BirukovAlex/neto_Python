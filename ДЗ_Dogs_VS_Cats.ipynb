{
  "nbformat": 4,
  "nbformat_minor": 0,
  "metadata": {
    "colab": {
      "provenance": [],
      "authorship_tag": "ABX9TyPaghWigaNZS/yHhHPKr4Nd",
      "include_colab_link": true
    },
    "kernelspec": {
      "name": "python3",
      "display_name": "Python 3"
    },
    "language_info": {
      "name": "python"
    }
  },
  "cells": [
    {
      "cell_type": "markdown",
      "metadata": {
        "id": "view-in-github",
        "colab_type": "text"
      },
      "source": [
        "<a href=\"https://colab.research.google.com/github/BirukovAlex/neto_Python/blob/main/%D0%94%D0%97_Dogs_VS_Cats.ipynb\" target=\"_parent\"><img src=\"https://colab.research.google.com/assets/colab-badge.svg\" alt=\"Open In Colab\"/></a>"
      ]
    },
    {
      "cell_type": "markdown",
      "source": [
        "Все изображения перенес на Google Drive"
      ],
      "metadata": {
        "id": "eoiZaNQoZ2Jt"
      }
    },
    {
      "cell_type": "code",
      "source": [
        "from google.colab import drive\n",
        "drive.mount('/content/drive')"
      ],
      "metadata": {
        "colab": {
          "base_uri": "https://localhost:8080/"
        },
        "id": "7nF3Fp2N3Y9g",
        "outputId": "02f352fd-2ed4-44c5-aea3-43115e218d36"
      },
      "execution_count": null,
      "outputs": [
        {
          "output_type": "stream",
          "name": "stdout",
          "text": [
            "Drive already mounted at /content/drive; to attempt to forcibly remount, call drive.mount(\"/content/drive\", force_remount=True).\n"
          ]
        }
      ]
    },
    {
      "cell_type": "markdown",
      "source": [
        "Импортируем библиотеки"
      ],
      "metadata": {
        "id": "ES2NjhjgaDIk"
      }
    },
    {
      "cell_type": "code",
      "source": [
        "import tensorflow as tf\n",
        "import numpy as np\n",
        "import os\n",
        "from glob import glob\n",
        "from tensorflow.keras.applications import MobileNetV2\n",
        "from tensorflow.keras.applications.mobilenet_v2 import preprocess_input\n",
        "from sklearn.model_selection import train_test_split\n",
        "import time"
      ],
      "metadata": {
        "id": "um15LBtGaHKN"
      },
      "execution_count": null,
      "outputs": []
    },
    {
      "cell_type": "markdown",
      "source": [
        "Устанавливаем параметры"
      ],
      "metadata": {
        "id": "kSz6vMkUaMyd"
      }
    },
    {
      "cell_type": "code",
      "source": [
        "IMG_SIZE = (128, 128)\n",
        "BATCH_SIZE = 32\n",
        "EPOCHS = 20\n",
        "LEARNING_RATE = 1e-3"
      ],
      "metadata": {
        "id": "PFcAsMwXaPqT"
      },
      "execution_count": null,
      "outputs": []
    },
    {
      "cell_type": "markdown",
      "source": [
        "Загружаем данные"
      ],
      "metadata": {
        "id": "txcbCp2laTO2"
      }
    },
    {
      "cell_type": "code",
      "source": [
        "train_files = glob('/content/drive/MyDrive/data/train/*.jpg')\n",
        "test_files = glob('/content/drive/MyDrive/data/test/*.jpg')\n",
        "\n",
        "print(f\" Найдено тренировочных изображений: {len(train_files)}\")\n",
        "print(f\" Найдено тестовых изображений: {len(test_files)}\")"
      ],
      "metadata": {
        "colab": {
          "base_uri": "https://localhost:8080/"
        },
        "id": "3yIwflMOaVGo",
        "outputId": "21ef34d0-f041-402e-ea6b-04665970f74f"
      },
      "execution_count": null,
      "outputs": [
        {
          "output_type": "stream",
          "name": "stdout",
          "text": [
            " Найдено тренировочных изображений: 25001\n",
            " Найдено тестовых изображений: 12500\n"
          ]
        }
      ]
    },
    {
      "cell_type": "markdown",
      "source": [
        "Делим на train/val"
      ],
      "metadata": {
        "id": "jtvVA9TJadxb"
      }
    },
    {
      "cell_type": "code",
      "source": [
        "train_files, val_files = train_test_split(\n",
        "    train_files,\n",
        "    test_size=0.2,\n",
        "    random_state=42,\n",
        "    shuffle=True\n",
        ")\n",
        "\n",
        "print(f\" Обучающая выборка: {len(train_files)} изображений\")\n",
        "print(f\" Валидационная выборка: {len(val_files)} изображений\")\n"
      ],
      "metadata": {
        "colab": {
          "base_uri": "https://localhost:8080/"
        },
        "id": "JIG-BTHfamAL",
        "outputId": "92df2278-ec66-4a44-baa4-aa9d8b1f8538"
      },
      "execution_count": null,
      "outputs": [
        {
          "output_type": "stream",
          "name": "stdout",
          "text": [
            " Обучающая выборка: 20000 изображений\n",
            " Валидационная выборка: 5001 изображений\n"
          ]
        }
      ]
    },
    {
      "cell_type": "code",
      "source": [
        "# Функция создания dataset\n",
        "def create_dataset(files, batch_size=BATCH_SIZE, is_training=True, dataset_name=\"dataset\"):\n",
        "    print(f\" Создание {dataset_name}...\")\n",
        "    images = []\n",
        "    labels = []\n",
        "    skipped_files = 0\n",
        "\n",
        "    for i, path in enumerate(files):\n",
        "        if i % 500 == 0 and i > 0:\n",
        "            print(f\"   Обработано {i}/{len(files)} изображений...\")\n",
        "\n",
        "        import cv2\n",
        "        img = cv2.imread(path)\n",
        "        if img is None:\n",
        "            skipped_files += 1\n",
        "            continue\n",
        "\n",
        "        img = cv2.cvtColor(img, cv2.COLOR_BGR2RGB)\n",
        "        img = cv2.resize(img, IMG_SIZE)\n",
        "        img = preprocess_input(img.astype(np.float32))\n",
        "\n",
        "        images.append(img)\n",
        "\n",
        "        filename = os.path.basename(path).lower()\n",
        "        if 'dog' in filename:\n",
        "            labels.append(1.0)\n",
        "        else:\n",
        "            labels.append(0.0)\n",
        "\n",
        "    print(f\" {dataset_name}: {len(images)} изображений, пропущено: {skipped_files}\")\n",
        "\n",
        "    dataset = tf.data.Dataset.from_tensor_slices((np.array(images), np.array(labels)))\n",
        "\n",
        "    if is_training:\n",
        "        dataset = dataset.shuffle(len(images))\n",
        "\n",
        "    dataset = dataset.batch(batch_size)\n",
        "    dataset = dataset.prefetch(tf.data.AUTOTUNE)\n",
        "\n",
        "    return dataset"
      ],
      "metadata": {
        "id": "QBYwSXoNa5Ob"
      },
      "execution_count": null,
      "outputs": []
    },
    {
      "cell_type": "code",
      "source": [
        "# Создаем модель\n",
        "def create_model():\n",
        "    print(\"\\n Создание модели MobileNetV2...\")\n",
        "    base_model = MobileNetV2(\n",
        "        weights='imagenet',\n",
        "        include_top=False,\n",
        "        input_shape=(*IMG_SIZE, 3)\n",
        "    )\n",
        "    base_model.trainable = False\n",
        "    print(\" Базовые слои заморожены\")\n",
        "\n",
        "    model = tf.keras.Sequential([\n",
        "        base_model,\n",
        "        tf.keras.layers.GlobalAveragePooling2D(),\n",
        "        tf.keras.layers.Dropout(0.3),\n",
        "        tf.keras.layers.Dense(128, activation='relu'),\n",
        "        tf.keras.layers.Dropout(0.3),\n",
        "        tf.keras.layers.Dense(1, activation='sigmoid')\n",
        "    ])\n",
        "\n",
        "    model.compile(\n",
        "        optimizer=tf.keras.optimizers.Adam(learning_rate=LEARNING_RATE),\n",
        "        loss='binary_crossentropy',\n",
        "        metrics=['accuracy']\n",
        "    )\n",
        "\n",
        "    print(\" Модель скомпилирована\")\n",
        "    return model"
      ],
      "metadata": {
        "id": "pi3IOqn9bCNo"
      },
      "execution_count": null,
      "outputs": []
    },
    {
      "cell_type": "code",
      "source": [
        "# Создаем datasets\n",
        "print(\"\\n Подготовка datasets...\")\n",
        "train_dataset = create_dataset(train_files[:2000], BATCH_SIZE, True, \"TRAIN dataset\")  # 2000 для скорости\n",
        "val_dataset = create_dataset(val_files[:500], BATCH_SIZE, False, \"VAL dataset\")       # 500 для валидации\n",
        "\n",
        "print(f\" Размер train dataset: {len(list(train_dataset))} батчей по {BATCH_SIZE} изображений\")\n",
        "print(f\" Размер val dataset: {len(list(val_dataset))} батчей по {BATCH_SIZE} изображений\")"
      ],
      "metadata": {
        "colab": {
          "base_uri": "https://localhost:8080/"
        },
        "id": "_eJvclmHbMsW",
        "outputId": "239dda09-f62a-471f-d2f8-ca1da0c7053c"
      },
      "execution_count": null,
      "outputs": [
        {
          "output_type": "stream",
          "name": "stdout",
          "text": [
            "\n",
            " Подготовка datasets...\n",
            " Создание TRAIN dataset...\n",
            "   Обработано 500/2000 изображений...\n",
            "   Обработано 1000/2000 изображений...\n",
            "   Обработано 1500/2000 изображений...\n",
            " TRAIN dataset: 2000 изображений, пропущено: 0\n",
            " Создание VAL dataset...\n",
            " VAL dataset: 500 изображений, пропущено: 0\n",
            " Размер train dataset: 63 батчей по 32 изображений\n",
            " Размер val dataset: 16 батчей по 32 изображений\n"
          ]
        }
      ]
    },
    {
      "cell_type": "code",
      "source": [
        "# Callbacks\n",
        "callbacks = [\n",
        "    tf.keras.callbacks.EarlyStopping(\n",
        "        monitor='val_loss',\n",
        "        patience=5,\n",
        "        restore_best_weights=True,\n",
        "        verbose=1\n",
        "    ),\n",
        "    tf.keras.callbacks.ReduceLROnPlateau(\n",
        "        monitor='val_loss',\n",
        "        factor=0.5,\n",
        "        patience=3,\n",
        "        verbose=1\n",
        "    )\n",
        "]"
      ],
      "metadata": {
        "id": "Yc5rAqqVbikn"
      },
      "execution_count": null,
      "outputs": []
    },
    {
      "cell_type": "code",
      "source": [
        "# Создаем модель\n",
        "model = create_model()\n",
        "# Выводим архитектуру\n",
        "print(\"\\n Архитектура модели:\")\n",
        "model.summary()"
      ],
      "metadata": {
        "colab": {
          "base_uri": "https://localhost:8080/",
          "height": 457
        },
        "id": "kBtoDczebr94",
        "outputId": "16748bf1-12e5-482b-82b2-ff173168cca3"
      },
      "execution_count": null,
      "outputs": [
        {
          "output_type": "stream",
          "name": "stdout",
          "text": [
            "\n",
            " Создание модели MobileNetV2...\n",
            " Базовые слои заморожены\n",
            " Модель скомпилирована\n",
            "\n",
            " Архитектура модели:\n"
          ]
        },
        {
          "output_type": "display_data",
          "data": {
            "text/plain": [
              "\u001b[1mModel: \"sequential\"\u001b[0m\n"
            ],
            "text/html": [
              "<pre style=\"white-space:pre;overflow-x:auto;line-height:normal;font-family:Menlo,'DejaVu Sans Mono',consolas,'Courier New',monospace\"><span style=\"font-weight: bold\">Model: \"sequential\"</span>\n",
              "</pre>\n"
            ]
          },
          "metadata": {}
        },
        {
          "output_type": "display_data",
          "data": {
            "text/plain": [
              "┏━━━━━━━━━━━━━━━━━━━━━━━━━━━━━━━━━┳━━━━━━━━━━━━━━━━━━━━━━━━┳━━━━━━━━━━━━━━━┓\n",
              "┃\u001b[1m \u001b[0m\u001b[1mLayer (type)                   \u001b[0m\u001b[1m \u001b[0m┃\u001b[1m \u001b[0m\u001b[1mOutput Shape          \u001b[0m\u001b[1m \u001b[0m┃\u001b[1m \u001b[0m\u001b[1m      Param #\u001b[0m\u001b[1m \u001b[0m┃\n",
              "┡━━━━━━━━━━━━━━━━━━━━━━━━━━━━━━━━━╇━━━━━━━━━━━━━━━━━━━━━━━━╇━━━━━━━━━━━━━━━┩\n",
              "│ mobilenetv2_1.00_128            │ (\u001b[38;5;45mNone\u001b[0m, \u001b[38;5;34m4\u001b[0m, \u001b[38;5;34m4\u001b[0m, \u001b[38;5;34m1280\u001b[0m)     │     \u001b[38;5;34m2,257,984\u001b[0m │\n",
              "│ (\u001b[38;5;33mFunctional\u001b[0m)                    │                        │               │\n",
              "├─────────────────────────────────┼────────────────────────┼───────────────┤\n",
              "│ global_average_pooling2d        │ (\u001b[38;5;45mNone\u001b[0m, \u001b[38;5;34m1280\u001b[0m)           │             \u001b[38;5;34m0\u001b[0m │\n",
              "│ (\u001b[38;5;33mGlobalAveragePooling2D\u001b[0m)        │                        │               │\n",
              "├─────────────────────────────────┼────────────────────────┼───────────────┤\n",
              "│ dropout (\u001b[38;5;33mDropout\u001b[0m)               │ (\u001b[38;5;45mNone\u001b[0m, \u001b[38;5;34m1280\u001b[0m)           │             \u001b[38;5;34m0\u001b[0m │\n",
              "├─────────────────────────────────┼────────────────────────┼───────────────┤\n",
              "│ dense (\u001b[38;5;33mDense\u001b[0m)                   │ (\u001b[38;5;45mNone\u001b[0m, \u001b[38;5;34m128\u001b[0m)            │       \u001b[38;5;34m163,968\u001b[0m │\n",
              "├─────────────────────────────────┼────────────────────────┼───────────────┤\n",
              "│ dropout_1 (\u001b[38;5;33mDropout\u001b[0m)             │ (\u001b[38;5;45mNone\u001b[0m, \u001b[38;5;34m128\u001b[0m)            │             \u001b[38;5;34m0\u001b[0m │\n",
              "├─────────────────────────────────┼────────────────────────┼───────────────┤\n",
              "│ dense_1 (\u001b[38;5;33mDense\u001b[0m)                 │ (\u001b[38;5;45mNone\u001b[0m, \u001b[38;5;34m1\u001b[0m)              │           \u001b[38;5;34m129\u001b[0m │\n",
              "└─────────────────────────────────┴────────────────────────┴───────────────┘\n"
            ],
            "text/html": [
              "<pre style=\"white-space:pre;overflow-x:auto;line-height:normal;font-family:Menlo,'DejaVu Sans Mono',consolas,'Courier New',monospace\">┏━━━━━━━━━━━━━━━━━━━━━━━━━━━━━━━━━┳━━━━━━━━━━━━━━━━━━━━━━━━┳━━━━━━━━━━━━━━━┓\n",
              "┃<span style=\"font-weight: bold\"> Layer (type)                    </span>┃<span style=\"font-weight: bold\"> Output Shape           </span>┃<span style=\"font-weight: bold\">       Param # </span>┃\n",
              "┡━━━━━━━━━━━━━━━━━━━━━━━━━━━━━━━━━╇━━━━━━━━━━━━━━━━━━━━━━━━╇━━━━━━━━━━━━━━━┩\n",
              "│ mobilenetv2_1.00_128            │ (<span style=\"color: #00d7ff; text-decoration-color: #00d7ff\">None</span>, <span style=\"color: #00af00; text-decoration-color: #00af00\">4</span>, <span style=\"color: #00af00; text-decoration-color: #00af00\">4</span>, <span style=\"color: #00af00; text-decoration-color: #00af00\">1280</span>)     │     <span style=\"color: #00af00; text-decoration-color: #00af00\">2,257,984</span> │\n",
              "│ (<span style=\"color: #0087ff; text-decoration-color: #0087ff\">Functional</span>)                    │                        │               │\n",
              "├─────────────────────────────────┼────────────────────────┼───────────────┤\n",
              "│ global_average_pooling2d        │ (<span style=\"color: #00d7ff; text-decoration-color: #00d7ff\">None</span>, <span style=\"color: #00af00; text-decoration-color: #00af00\">1280</span>)           │             <span style=\"color: #00af00; text-decoration-color: #00af00\">0</span> │\n",
              "│ (<span style=\"color: #0087ff; text-decoration-color: #0087ff\">GlobalAveragePooling2D</span>)        │                        │               │\n",
              "├─────────────────────────────────┼────────────────────────┼───────────────┤\n",
              "│ dropout (<span style=\"color: #0087ff; text-decoration-color: #0087ff\">Dropout</span>)               │ (<span style=\"color: #00d7ff; text-decoration-color: #00d7ff\">None</span>, <span style=\"color: #00af00; text-decoration-color: #00af00\">1280</span>)           │             <span style=\"color: #00af00; text-decoration-color: #00af00\">0</span> │\n",
              "├─────────────────────────────────┼────────────────────────┼───────────────┤\n",
              "│ dense (<span style=\"color: #0087ff; text-decoration-color: #0087ff\">Dense</span>)                   │ (<span style=\"color: #00d7ff; text-decoration-color: #00d7ff\">None</span>, <span style=\"color: #00af00; text-decoration-color: #00af00\">128</span>)            │       <span style=\"color: #00af00; text-decoration-color: #00af00\">163,968</span> │\n",
              "├─────────────────────────────────┼────────────────────────┼───────────────┤\n",
              "│ dropout_1 (<span style=\"color: #0087ff; text-decoration-color: #0087ff\">Dropout</span>)             │ (<span style=\"color: #00d7ff; text-decoration-color: #00d7ff\">None</span>, <span style=\"color: #00af00; text-decoration-color: #00af00\">128</span>)            │             <span style=\"color: #00af00; text-decoration-color: #00af00\">0</span> │\n",
              "├─────────────────────────────────┼────────────────────────┼───────────────┤\n",
              "│ dense_1 (<span style=\"color: #0087ff; text-decoration-color: #0087ff\">Dense</span>)                 │ (<span style=\"color: #00d7ff; text-decoration-color: #00d7ff\">None</span>, <span style=\"color: #00af00; text-decoration-color: #00af00\">1</span>)              │           <span style=\"color: #00af00; text-decoration-color: #00af00\">129</span> │\n",
              "└─────────────────────────────────┴────────────────────────┴───────────────┘\n",
              "</pre>\n"
            ]
          },
          "metadata": {}
        },
        {
          "output_type": "display_data",
          "data": {
            "text/plain": [
              "\u001b[1m Total params: \u001b[0m\u001b[38;5;34m2,422,081\u001b[0m (9.24 MB)\n"
            ],
            "text/html": [
              "<pre style=\"white-space:pre;overflow-x:auto;line-height:normal;font-family:Menlo,'DejaVu Sans Mono',consolas,'Courier New',monospace\"><span style=\"font-weight: bold\"> Total params: </span><span style=\"color: #00af00; text-decoration-color: #00af00\">2,422,081</span> (9.24 MB)\n",
              "</pre>\n"
            ]
          },
          "metadata": {}
        },
        {
          "output_type": "display_data",
          "data": {
            "text/plain": [
              "\u001b[1m Trainable params: \u001b[0m\u001b[38;5;34m164,097\u001b[0m (641.00 KB)\n"
            ],
            "text/html": [
              "<pre style=\"white-space:pre;overflow-x:auto;line-height:normal;font-family:Menlo,'DejaVu Sans Mono',consolas,'Courier New',monospace\"><span style=\"font-weight: bold\"> Trainable params: </span><span style=\"color: #00af00; text-decoration-color: #00af00\">164,097</span> (641.00 KB)\n",
              "</pre>\n"
            ]
          },
          "metadata": {}
        },
        {
          "output_type": "display_data",
          "data": {
            "text/plain": [
              "\u001b[1m Non-trainable params: \u001b[0m\u001b[38;5;34m2,257,984\u001b[0m (8.61 MB)\n"
            ],
            "text/html": [
              "<pre style=\"white-space:pre;overflow-x:auto;line-height:normal;font-family:Menlo,'DejaVu Sans Mono',consolas,'Courier New',monospace\"><span style=\"font-weight: bold\"> Non-trainable params: </span><span style=\"color: #00af00; text-decoration-color: #00af00\">2,257,984</span> (8.61 MB)\n",
              "</pre>\n"
            ]
          },
          "metadata": {}
        }
      ]
    },
    {
      "cell_type": "markdown",
      "source": [
        "Предварительное обучение на малых выборках"
      ],
      "metadata": {
        "id": "57XMjxGzb5VO"
      }
    },
    {
      "cell_type": "code",
      "source": [
        "# Обучение\n",
        "print(f\"\\n НАЧАЛО ОБУЧЕНИЯ\")\n",
        "print(f\"   Эпох: {EPOCHS}\")\n",
        "print(f\"   Размер батча: {BATCH_SIZE}\")\n",
        "print(f\"   Learning rate: {LEARNING_RATE}\")\n",
        "print(f\"   Размер изображения: {IMG_SIZE}\")\n",
        "\n",
        "start_time = time.time()\n",
        "\n",
        "history = model.fit(\n",
        "    train_dataset,\n",
        "    epochs=EPOCHS,\n",
        "    validation_data=val_dataset,\n",
        "    callbacks=callbacks,\n",
        "    verbose=1\n",
        ")\n",
        "\n",
        "training_time = time.time() - start_time\n",
        "print(f\" Обучение завершено за {training_time/60:.1f} минут\")"
      ],
      "metadata": {
        "colab": {
          "base_uri": "https://localhost:8080/"
        },
        "id": "5MrDIfBHb3Qw",
        "outputId": "c8411005-3a2c-4e7c-9b14-4915db110440"
      },
      "execution_count": null,
      "outputs": [
        {
          "output_type": "stream",
          "name": "stdout",
          "text": [
            "\n",
            " НАЧАЛО ОБУЧЕНИЯ\n",
            "   Эпох: 20\n",
            "   Размер батча: 32\n",
            "   Learning rate: 0.001\n",
            "   Размер изображения: (128, 128)\n",
            "Epoch 1/20\n",
            "\u001b[1m63/63\u001b[0m \u001b[32m━━━━━━━━━━━━━━━━━━━━\u001b[0m\u001b[37m\u001b[0m \u001b[1m38s\u001b[0m 497ms/step - accuracy: 0.8856 - loss: 0.2416 - val_accuracy: 0.9740 - val_loss: 0.0889 - learning_rate: 0.0010\n",
            "Epoch 2/20\n",
            "\u001b[1m63/63\u001b[0m \u001b[32m━━━━━━━━━━━━━━━━━━━━\u001b[0m\u001b[37m\u001b[0m \u001b[1m29s\u001b[0m 461ms/step - accuracy: 0.9772 - loss: 0.0701 - val_accuracy: 0.9780 - val_loss: 0.0640 - learning_rate: 0.0010\n",
            "Epoch 3/20\n",
            "\u001b[1m63/63\u001b[0m \u001b[32m━━━━━━━━━━━━━━━━━━━━\u001b[0m\u001b[37m\u001b[0m \u001b[1m29s\u001b[0m 462ms/step - accuracy: 0.9869 - loss: 0.0382 - val_accuracy: 0.9800 - val_loss: 0.0602 - learning_rate: 0.0010\n",
            "Epoch 4/20\n",
            "\u001b[1m63/63\u001b[0m \u001b[32m━━━━━━━━━━━━━━━━━━━━\u001b[0m\u001b[37m\u001b[0m \u001b[1m29s\u001b[0m 469ms/step - accuracy: 0.9884 - loss: 0.0317 - val_accuracy: 0.9760 - val_loss: 0.0680 - learning_rate: 0.0010\n",
            "Epoch 5/20\n",
            "\u001b[1m63/63\u001b[0m \u001b[32m━━━━━━━━━━━━━━━━━━━━\u001b[0m\u001b[37m\u001b[0m \u001b[1m47s\u001b[0m 569ms/step - accuracy: 0.9905 - loss: 0.0252 - val_accuracy: 0.9760 - val_loss: 0.0610 - learning_rate: 0.0010\n",
            "Epoch 6/20\n",
            "\u001b[1m63/63\u001b[0m \u001b[32m━━━━━━━━━━━━━━━━━━━━\u001b[0m\u001b[37m\u001b[0m \u001b[1m0s\u001b[0m 363ms/step - accuracy: 0.9903 - loss: 0.0236\n",
            "Epoch 6: ReduceLROnPlateau reducing learning rate to 0.0005000000237487257.\n",
            "\u001b[1m63/63\u001b[0m \u001b[32m━━━━━━━━━━━━━━━━━━━━\u001b[0m\u001b[37m\u001b[0m \u001b[1m29s\u001b[0m 459ms/step - accuracy: 0.9903 - loss: 0.0235 - val_accuracy: 0.9780 - val_loss: 0.0689 - learning_rate: 0.0010\n",
            "Epoch 7/20\n",
            "\u001b[1m63/63\u001b[0m \u001b[32m━━━━━━━━━━━━━━━━━━━━\u001b[0m\u001b[37m\u001b[0m \u001b[1m29s\u001b[0m 456ms/step - accuracy: 0.9952 - loss: 0.0151 - val_accuracy: 0.9820 - val_loss: 0.0652 - learning_rate: 5.0000e-04\n",
            "Epoch 8/20\n",
            "\u001b[1m63/63\u001b[0m \u001b[32m━━━━━━━━━━━━━━━━━━━━\u001b[0m\u001b[37m\u001b[0m \u001b[1m29s\u001b[0m 463ms/step - accuracy: 0.9944 - loss: 0.0167 - val_accuracy: 0.9800 - val_loss: 0.0667 - learning_rate: 5.0000e-04\n",
            "Epoch 8: early stopping\n",
            "Restoring model weights from the end of the best epoch: 3.\n",
            " Обучение завершено за 4.3 минут\n"
          ]
        }
      ]
    },
    {
      "cell_type": "markdown",
      "source": [
        "Оценка на малых выборках"
      ],
      "metadata": {
        "id": "2JAmVsWBcBTR"
      }
    },
    {
      "cell_type": "code",
      "source": [
        "# Оценка\n",
        "print(\"\\n Оценка качества модели...\")\n",
        "val_loss, val_accuracy = model.evaluate(val_dataset, verbose=0)\n",
        "\n",
        "print(f\"\\n ФИНАЛЬНЫЕ РЕЗУЛЬТАТЫ:\")\n",
        "print(f\"   Валидационная точность: {val_accuracy:.4f}\")\n",
        "print(f\"   Валидационные потери (Log Loss): {val_loss:.4f}\")\n",
        "\n",
        "if val_loss < 0.3:\n",
        "    print(\" Log Loss < 0.3 ДОСТИГНУТ!\")\n",
        "elif val_loss < 0.5:\n",
        "    print(\" Хороший результат! Log Loss < 0.5\")\n",
        "elif val_loss < 1.0:\n",
        "    print(\"Средний результат, нужно больше эпох\")\n",
        "else:\n",
        "    print(\"Нужна донастройка гиперпараметров\")"
      ],
      "metadata": {
        "colab": {
          "base_uri": "https://localhost:8080/"
        },
        "id": "6jE8YQ4Gc7El",
        "outputId": "7a864c3f-8e18-4640-a000-5cbaace9f40e"
      },
      "execution_count": null,
      "outputs": [
        {
          "output_type": "stream",
          "name": "stdout",
          "text": [
            "\n",
            " Оценка качества модели...\n",
            "\n",
            " ФИНАЛЬНЫЕ РЕЗУЛЬТАТЫ:\n",
            "   Валидационная точность: 0.9800\n",
            "   Валидационные потери (Log Loss): 0.0602\n",
            " Log Loss < 0.3 ДОСТИГНУТ!\n"
          ]
        }
      ]
    },
    {
      "cell_type": "code",
      "source": [
        "# Сохраняем модель\n",
        "print(\"\\nСохранение модели...\")\n",
        "model.save('dogs_cats_final.h5')\n",
        "print(\" Модель сохранена как 'dogs_cats_final.h5'\")"
      ],
      "metadata": {
        "colab": {
          "base_uri": "https://localhost:8080/"
        },
        "id": "paJvs3v6elup",
        "outputId": "cd5c8733-11ba-4033-a554-b228aee66f12"
      },
      "execution_count": null,
      "outputs": [
        {
          "output_type": "stream",
          "name": "stderr",
          "text": [
            "WARNING:absl:You are saving your model as an HDF5 file via `model.save()` or `keras.saving.save_model(model)`. This file format is considered legacy. We recommend using instead the native Keras format, e.g. `model.save('my_model.keras')` or `keras.saving.save_model(model, 'my_model.keras')`. \n"
          ]
        },
        {
          "output_type": "stream",
          "name": "stdout",
          "text": [
            "\n",
            "Сохранение модели...\n",
            " Модель сохранена как 'dogs_cats_final.h5'\n"
          ]
        }
      ]
    },
    {
      "cell_type": "code",
      "source": [
        "# Предсказания на тестовых данных\n",
        "print(\"\\n Генерация предсказаний для тестовых данных...\")\n",
        "test_dataset = create_dataset(test_files, BATCH_SIZE, False, \"TEST dataset\")\n",
        "predictions = model.predict(test_dataset, verbose=1)\n",
        "print(f\" Сгенерировано {len(predictions)} предсказаний\")"
      ],
      "metadata": {
        "colab": {
          "base_uri": "https://localhost:8080/"
        },
        "id": "Gary07mXep0E",
        "outputId": "64ebc844-090a-44d1-beba-e765ea1edba8"
      },
      "execution_count": null,
      "outputs": [
        {
          "output_type": "stream",
          "name": "stdout",
          "text": [
            "\n",
            " Генерация предсказаний для тестовых данных...\n",
            " Создание TEST dataset...\n",
            "   Обработано 500/12500 изображений...\n",
            "   Обработано 1000/12500 изображений...\n",
            "   Обработано 1500/12500 изображений...\n",
            "   Обработано 2000/12500 изображений...\n",
            "   Обработано 2500/12500 изображений...\n",
            "   Обработано 3000/12500 изображений...\n",
            "   Обработано 3500/12500 изображений...\n",
            "   Обработано 4000/12500 изображений...\n",
            "   Обработано 4500/12500 изображений...\n",
            "   Обработано 5000/12500 изображений...\n",
            "   Обработано 5500/12500 изображений...\n",
            "   Обработано 6000/12500 изображений...\n",
            "   Обработано 6500/12500 изображений...\n",
            "   Обработано 7000/12500 изображений...\n",
            "   Обработано 7500/12500 изображений...\n",
            "   Обработано 8000/12500 изображений...\n",
            "   Обработано 8500/12500 изображений...\n",
            "   Обработано 9000/12500 изображений...\n",
            "   Обработано 9500/12500 изображений...\n",
            "   Обработано 10000/12500 изображений...\n",
            "   Обработано 10500/12500 изображений...\n",
            "   Обработано 11000/12500 изображений...\n",
            "   Обработано 11500/12500 изображений...\n",
            "   Обработано 12000/12500 изображений...\n",
            " TEST dataset: 12500 изображений, пропущено: 0\n",
            "\u001b[1m391/391\u001b[0m \u001b[32m━━━━━━━━━━━━━━━━━━━━\u001b[0m\u001b[37m\u001b[0m \u001b[1m154s\u001b[0m 382ms/step\n",
            " Сгенерировано 12500 предсказаний\n"
          ]
        }
      ]
    },
    {
      "cell_type": "markdown",
      "source": [
        "Submission for Kaggle"
      ],
      "metadata": {
        "id": "CswOxQ64exUc"
      }
    },
    {
      "cell_type": "code",
      "source": [
        "# Сохраняем предсказания для Kaggle\n",
        "print(\"\\n Создание файла для Kaggle...\")\n",
        "import re\n",
        "with open('submission.csv', 'w') as f:\n",
        "    f.write('id,label\\n')\n",
        "    for i, path in enumerate(test_files):\n",
        "        file_id = re.search(r'(\\d+)\\.jpg$', path).group(1)\n",
        "        f.write(f'{file_id},{predictions[i][0]:.6f}\\n')\n",
        "\n",
        "print(\" Файл 'submission.csv' создан\")\n",
        "print(\"\\n ВСЕ ЗАДАЧИ ВЫПОЛНЕНЫ!\")\n",
        "print(\" Результаты обучения:\")\n",
        "print(f\"   - Лучший Val Loss: {val_loss:.4f}\")\n",
        "print(f\"   - Лучшая Val Accuracy: {val_accuracy:.4f}\")\n",
        "print(\" Файлы для отправки:\")\n",
        "print(\"   - dogs_cats_final.h5 (модель)\")\n",
        "print(\"   - submission.csv (предсказания для Kaggle)\")"
      ],
      "metadata": {
        "colab": {
          "base_uri": "https://localhost:8080/"
        },
        "id": "8bwVwmNn4YKq",
        "outputId": "09a2eaf1-0659-4945-ef52-28de8a797262"
      },
      "execution_count": null,
      "outputs": [
        {
          "output_type": "stream",
          "name": "stdout",
          "text": [
            "\n",
            " Создание файла для Kaggle...\n",
            " Файл 'submission.csv' создан\n",
            "\n",
            " ВСЕ ЗАДАЧИ ВЫПОЛНЕНЫ!\n",
            " Результаты обучения:\n",
            "   - Лучший Val Loss: 0.0602\n",
            "   - Лучшая Val Accuracy: 0.9800\n",
            " Файлы для отправки:\n",
            "   - dogs_cats_final.h5 (модель)\n",
            "   - submission.csv (предсказания для Kaggle)\n"
          ]
        }
      ]
    },
    {
      "cell_type": "markdown",
      "source": [
        "Ниже написан код для обучения на полных данных. обучение на полных данных не проводилось - недостаточно ОЗУ (процесс прерывается на подготовке датасетов)."
      ],
      "metadata": {
        "id": "T4jhG9RnegyH"
      }
    },
    {
      "cell_type": "code",
      "source": [
        "print(\"\\n Запуск обучения на ВСЕХ данных...\")\n",
        "print(\" Подготовка полных datasets...\")\n",
        "\n",
        "full_train_dataset = create_dataset(train_files, BATCH_SIZE, True, \"FULL TRAIN dataset\")\n",
        "full_val_dataset = create_dataset(val_files, BATCH_SIZE, False, \"FULL VAL dataset\")\n",
        "\n",
        "print(f\" Полное обучение: {len(train_files)} train, {len(val_files)} val\")"
      ],
      "metadata": {
        "id": "FrB857DNdPmJ"
      },
      "execution_count": null,
      "outputs": []
    },
    {
      "cell_type": "code",
      "source": [
        "import time\n",
        "start_time = time.time()\n",
        "\n",
        "history_full = model.fit(\n",
        "        full_train_dataset,\n",
        "        epochs=10,\n",
        "        validation_data=full_val_dataset,\n",
        "        callbacks=callbacks,\n",
        "        verbose=1\n",
        ")\n",
        "\n",
        "full_training_time = time.time() - start_time\n",
        "print(f\" Полное обучение завершено за {full_training_time/60:.1f} минут\")\n",
        "\n",
        "final_val_loss, final_val_accuracy = model.evaluate(full_val_dataset, verbose=0)\n",
        "print(f\"\\n ФИНАЛЬНЫЕ РЕЗУЛЬТАТЫ НА ВСЕХ ДАННЫХ:\")\n",
        "print(f\"   Val Loss: {final_val_loss:.4f}\")\n",
        "print(f\"   Val Accuracy: {final_val_accuracy:.4f}\")"
      ],
      "metadata": {
        "id": "uvZT20SMeZbY"
      },
      "execution_count": null,
      "outputs": []
    }
  ]
}