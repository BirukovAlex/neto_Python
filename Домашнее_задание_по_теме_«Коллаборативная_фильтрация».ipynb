{
  "nbformat": 4,
  "nbformat_minor": 0,
  "metadata": {
    "colab": {
      "provenance": [],
      "authorship_tag": "ABX9TyNDbkNCovFGr70wv4Rxl2j5",
      "include_colab_link": true
    },
    "kernelspec": {
      "name": "python3",
      "display_name": "Python 3"
    },
    "language_info": {
      "name": "python"
    }
  },
  "cells": [
    {
      "cell_type": "markdown",
      "metadata": {
        "id": "view-in-github",
        "colab_type": "text"
      },
      "source": [
        "<a href=\"https://colab.research.google.com/github/BirukovAlex/neto_Python/blob/main/%D0%94%D0%BE%D0%BC%D0%B0%D1%88%D0%BD%D0%B5%D0%B5_%D0%B7%D0%B0%D0%B4%D0%B0%D0%BD%D0%B8%D0%B5_%D0%BF%D0%BE_%D1%82%D0%B5%D0%BC%D0%B5_%C2%AB%D0%9A%D0%BE%D0%BB%D0%BB%D0%B0%D0%B1%D0%BE%D1%80%D0%B0%D1%82%D0%B8%D0%B2%D0%BD%D0%B0%D1%8F_%D1%84%D0%B8%D0%BB%D1%8C%D1%82%D1%80%D0%B0%D1%86%D0%B8%D1%8F%C2%BB.ipynb\" target=\"_parent\"><img src=\"https://colab.research.google.com/assets/colab-badge.svg\" alt=\"Open In Colab\"/></a>"
      ]
    },
    {
      "cell_type": "code",
      "execution_count": 1,
      "metadata": {
        "colab": {
          "base_uri": "https://localhost:8080/"
        },
        "id": "LDZQY0--GLtT",
        "outputId": "57c8ce26-acd8-44c4-d684-38155813ce45"
      },
      "outputs": [
        {
          "output_type": "stream",
          "name": "stdout",
          "text": [
            "NumPy: 2.0.2\n",
            "Pandas: 2.2.2\n"
          ]
        }
      ],
      "source": [
        "import pandas as pd\n",
        "import numpy as np\n",
        "print(f\"NumPy: {np.__version__}\")\n",
        "print(f\"Pandas: {pd.__version__}\")"
      ]
    },
    {
      "cell_type": "code",
      "source": [
        "# Устанавливаем совместимую версию NumPy для surprise\n",
        "!pip install \"numpy<2\" --force-reinstall\n",
        "\n",
        "import numpy as np\n",
        "import pandas as pd\n",
        "\n",
        "# Проверяем версии\n",
        "print(\"Версии после установки:\")\n",
        "print(f\"NumPy: {np.__version__}\")\n",
        "print(f\"Pandas: {pd.__version__}\")"
      ],
      "metadata": {
        "colab": {
          "base_uri": "https://localhost:8080/",
          "height": 430
        },
        "id": "QdFe660cGbfG",
        "outputId": "b24cd092-1dd0-44ff-adf5-7b9b5de5c72a"
      },
      "execution_count": 1,
      "outputs": [
        {
          "output_type": "stream",
          "name": "stdout",
          "text": [
            "Collecting numpy<2\n",
            "  Using cached numpy-1.26.4-cp312-cp312-manylinux_2_17_x86_64.manylinux2014_x86_64.whl.metadata (61 kB)\n",
            "Using cached numpy-1.26.4-cp312-cp312-manylinux_2_17_x86_64.manylinux2014_x86_64.whl (18.0 MB)\n",
            "Installing collected packages: numpy\n",
            "  Attempting uninstall: numpy\n",
            "    Found existing installation: numpy 1.26.4\n",
            "    Uninstalling numpy-1.26.4:\n",
            "      Successfully uninstalled numpy-1.26.4\n",
            "\u001b[31mERROR: pip's dependency resolver does not currently take into account all the packages that are installed. This behaviour is the source of the following dependency conflicts.\n",
            "thinc 8.3.6 requires numpy<3.0.0,>=2.0.0, but you have numpy 1.26.4 which is incompatible.\n",
            "opencv-python-headless 4.12.0.88 requires numpy<2.3.0,>=2; python_version >= \"3.9\", but you have numpy 1.26.4 which is incompatible.\n",
            "opencv-python 4.12.0.88 requires numpy<2.3.0,>=2; python_version >= \"3.9\", but you have numpy 1.26.4 which is incompatible.\n",
            "opencv-contrib-python 4.12.0.88 requires numpy<2.3.0,>=2; python_version >= \"3.9\", but you have numpy 1.26.4 which is incompatible.\u001b[0m\u001b[31m\n",
            "\u001b[0mSuccessfully installed numpy-1.26.4\n"
          ]
        },
        {
          "output_type": "display_data",
          "data": {
            "application/vnd.colab-display-data+json": {
              "pip_warning": {
                "packages": [
                  "numpy"
                ]
              },
              "id": "3b6072df6faa4c979350c2bd29f2b4bf"
            }
          },
          "metadata": {}
        },
        {
          "output_type": "stream",
          "name": "stdout",
          "text": [
            "Версии после установки:\n",
            "NumPy: 1.26.4\n",
            "Pandas: 2.2.2\n"
          ]
        }
      ]
    },
    {
      "cell_type": "code",
      "source": [
        "!pip install scikit-surprise"
      ],
      "metadata": {
        "colab": {
          "base_uri": "https://localhost:8080/"
        },
        "id": "DsLwRYgeGusA",
        "outputId": "6d1e4a72-aa73-46e6-bac2-ad469d78e05b"
      },
      "execution_count": 1,
      "outputs": [
        {
          "output_type": "stream",
          "name": "stdout",
          "text": [
            "Collecting scikit-surprise\n",
            "  Downloading scikit_surprise-1.1.4.tar.gz (154 kB)\n",
            "\u001b[?25l     \u001b[90m━━━━━━━━━━━━━━━━━━━━━━━━━━━━━━━━━━━━━━━━\u001b[0m \u001b[32m0.0/154.4 kB\u001b[0m \u001b[31m?\u001b[0m eta \u001b[36m-:--:--\u001b[0m\r\u001b[2K     \u001b[90m━━━━━━━━━━━━━━━━━━━━━━━━━━━━━━━━━━━━━━━\u001b[0m \u001b[32m154.4/154.4 kB\u001b[0m \u001b[31m5.1 MB/s\u001b[0m eta \u001b[36m0:00:00\u001b[0m\n",
            "\u001b[?25h  Installing build dependencies ... \u001b[?25l\u001b[?25hdone\n",
            "  Getting requirements to build wheel ... \u001b[?25l\u001b[?25hdone\n",
            "  Preparing metadata (pyproject.toml) ... \u001b[?25l\u001b[?25hdone\n",
            "Requirement already satisfied: joblib>=1.2.0 in /usr/local/lib/python3.12/dist-packages (from scikit-surprise) (1.5.2)\n",
            "Requirement already satisfied: numpy>=1.19.5 in /usr/local/lib/python3.12/dist-packages (from scikit-surprise) (1.26.4)\n",
            "Requirement already satisfied: scipy>=1.6.0 in /usr/local/lib/python3.12/dist-packages (from scikit-surprise) (1.16.1)\n",
            "Building wheels for collected packages: scikit-surprise\n",
            "  Building wheel for scikit-surprise (pyproject.toml) ... \u001b[?25l\u001b[?25hdone\n",
            "  Created wheel for scikit-surprise: filename=scikit_surprise-1.1.4-cp312-cp312-linux_x86_64.whl size=2611305 sha256=1a252545bf0eda06c6d6940da0c3ea349e2914a82210b98a708802195ea4e429\n",
            "  Stored in directory: /root/.cache/pip/wheels/75/fa/bc/739bc2cb1fbaab6061854e6cfbb81a0ae52c92a502a7fa454b\n",
            "Successfully built scikit-surprise\n",
            "Installing collected packages: scikit-surprise\n",
            "Successfully installed scikit-surprise-1.1.4\n"
          ]
        }
      ]
    },
    {
      "cell_type": "code",
      "source": [
        "import pandas as pd\n",
        "import numpy as np"
      ],
      "metadata": {
        "id": "rikpR9r8JQyo"
      },
      "execution_count": 12,
      "outputs": []
    },
    {
      "cell_type": "code",
      "source": [
        "from surprise import Dataset, Reader, accuracy\n",
        "from surprise.model_selection import cross_validate, GridSearchCV\n",
        "from surprise import SVD, SVDpp, NMF, KNNBasic, KNNWithMeans, KNNWithZScore, BaselineOnly, NormalPredictor\n",
        "from surprise.model_selection import train_test_split"
      ],
      "metadata": {
        "id": "5scF6KFPJlfm"
      },
      "execution_count": 6,
      "outputs": []
    },
    {
      "cell_type": "code",
      "source": [
        "# Загрузка данных\n",
        "print(\"Загрузка данных...\")\n",
        "ratings = pd.read_csv('ratings.csv')\n",
        "print(f\"Размер датасета: {ratings.shape}\")\n",
        "print(ratings.head())"
      ],
      "metadata": {
        "colab": {
          "base_uri": "https://localhost:8080/"
        },
        "id": "NoizJtt1JAsW",
        "outputId": "4dd03e68-9373-44dc-822c-2ce7516348e2"
      },
      "execution_count": 8,
      "outputs": [
        {
          "output_type": "stream",
          "name": "stdout",
          "text": [
            "Загрузка данных...\n",
            "Размер датасета: (100836, 4)\n",
            "   userId  movieId  rating  timestamp\n",
            "0       1        1     4.0  964982703\n",
            "1       1        3     4.0  964981247\n",
            "2       1        6     4.0  964982224\n",
            "3       1       47     5.0  964983815\n",
            "4       1       50     5.0  964982931\n"
          ]
        }
      ]
    },
    {
      "cell_type": "code",
      "source": [
        "# 2. Подготовка данных для SURPRISE\n",
        "reader = Reader(rating_scale=(0.5, 5.0))\n",
        "data = Dataset.load_from_df(ratings[['userId', 'movieId', 'rating']], reader)"
      ],
      "metadata": {
        "id": "CIZhMT8fJzLR"
      },
      "execution_count": 9,
      "outputs": []
    },
    {
      "cell_type": "code",
      "source": [
        "# 3. Выбор алгоритмов для сравнения\n",
        "algorithms = {\n",
        "    'SVD': SVD(),\n",
        "    'SVDpp': SVDpp(),\n",
        "    'NMF': NMF(),\n",
        "    'KNNBasic': KNNBasic(),\n",
        "    'KNNWithMeans': KNNWithMeans(),\n",
        "    'KNNWithZScore': KNNWithZScore(),\n",
        "    'BaselineOnly': BaselineOnly(),\n",
        "    'NormalPredictor': NormalPredictor()\n",
        "}"
      ],
      "metadata": {
        "id": "E2R62SrRJ1Vc"
      },
      "execution_count": 10,
      "outputs": []
    },
    {
      "cell_type": "code",
      "source": [
        "# 4. Сравнение алгоритмов на кросс-валидации\n",
        "print(\"\\nСравнение алгоритмов:\")\n",
        "results = {}\n",
        "for name, algo in algorithms.items():\n",
        "    cv_results = cross_validate(algo, data, measures=['RMSE'], cv=5, verbose=False)\n",
        "    rmse_mean = np.mean(cv_results['test_rmse'])\n",
        "    results[name] = rmse_mean\n",
        "    print(f\"{name}: RMSE = {rmse_mean:.4f}\")"
      ],
      "metadata": {
        "colab": {
          "base_uri": "https://localhost:8080/"
        },
        "collapsed": true,
        "id": "urjZxL-sJ8fF",
        "outputId": "bdc72200-873a-4125-8b0f-f823a53a0436"
      },
      "execution_count": 13,
      "outputs": [
        {
          "output_type": "stream",
          "name": "stdout",
          "text": [
            "\n",
            "Сравнение алгоритмов:\n",
            "SVD: RMSE = 0.8755\n",
            "SVDpp: RMSE = 0.8611\n",
            "NMF: RMSE = 0.9218\n",
            "Computing the msd similarity matrix...\n",
            "Done computing similarity matrix.\n",
            "Computing the msd similarity matrix...\n",
            "Done computing similarity matrix.\n",
            "Computing the msd similarity matrix...\n",
            "Done computing similarity matrix.\n",
            "Computing the msd similarity matrix...\n",
            "Done computing similarity matrix.\n",
            "Computing the msd similarity matrix...\n",
            "Done computing similarity matrix.\n",
            "KNNBasic: RMSE = 0.9481\n",
            "Computing the msd similarity matrix...\n",
            "Done computing similarity matrix.\n",
            "Computing the msd similarity matrix...\n",
            "Done computing similarity matrix.\n",
            "Computing the msd similarity matrix...\n",
            "Done computing similarity matrix.\n",
            "Computing the msd similarity matrix...\n",
            "Done computing similarity matrix.\n",
            "Computing the msd similarity matrix...\n",
            "Done computing similarity matrix.\n",
            "KNNWithMeans: RMSE = 0.8970\n",
            "Computing the msd similarity matrix...\n",
            "Done computing similarity matrix.\n",
            "Computing the msd similarity matrix...\n",
            "Done computing similarity matrix.\n",
            "Computing the msd similarity matrix...\n",
            "Done computing similarity matrix.\n",
            "Computing the msd similarity matrix...\n",
            "Done computing similarity matrix.\n",
            "Computing the msd similarity matrix...\n",
            "Done computing similarity matrix.\n",
            "KNNWithZScore: RMSE = 0.8957\n",
            "Estimating biases using als...\n",
            "Estimating biases using als...\n",
            "Estimating biases using als...\n",
            "Estimating biases using als...\n",
            "Estimating biases using als...\n",
            "BaselineOnly: RMSE = 0.8724\n",
            "NormalPredictor: RMSE = 1.4291\n"
          ]
        }
      ]
    },
    {
      "cell_type": "code",
      "source": [
        "# Находим лучший алгоритм\n",
        "best_algo_name = min(results, key=results.get)\n",
        "print(f\"\\nЛучший алгоритм: {best_algo_name} с RMSE = {results[best_algo_name]:.4f}\")"
      ],
      "metadata": {
        "colab": {
          "base_uri": "https://localhost:8080/"
        },
        "id": "SkGnXqZxNr_Z",
        "outputId": "f5b2a252-2f6a-4696-9a24-2f625a717ee4"
      },
      "execution_count": 14,
      "outputs": [
        {
          "output_type": "stream",
          "name": "stdout",
          "text": [
            "\n",
            "Лучший алгоритм: SVDpp с RMSE = 0.8611\n"
          ]
        }
      ]
    },
    {
      "cell_type": "code",
      "source": [
        "# 5. Тюнинг лучшего алгоритма\n",
        "if best_algo_name in ['SVD', 'SVDpp']:\n",
        "    print(\"\\nТюнинг SVD...\")\n",
        "\n",
        "    param_grid = {\n",
        "        'n_epochs': [20, 30],\n",
        "        'lr_all': [0.005, 0.01],\n",
        "        'reg_all': [0.02, 0.1]\n",
        "    }\n",
        "\n",
        "    gs = GridSearchCV(SVD, param_grid, measures=['rmse'], cv=3, n_jobs=-1)\n",
        "    gs.fit(data)\n",
        "\n",
        "    print(f\"Лучшие параметры: {gs.best_params['rmse']}\")\n",
        "    print(f\"Лучшее RMSE: {gs.best_score['rmse']:.4f}\")\n",
        "    # Финальная модель с лучшими параметрами\n",
        "    best_params = gs.best_params['rmse']\n",
        "    final_model = SVD(**best_params)\n",
        "\n",
        "else:\n",
        "    # Если лучшим оказался другой алгоритм, используем его без тюнинга\n",
        "    final_model = algorithms[best_algo_name]"
      ],
      "metadata": {
        "colab": {
          "base_uri": "https://localhost:8080/"
        },
        "id": "rOOb0L1GOCp6",
        "outputId": "584b4c80-bd55-4d0f-f820-7c62488dd34b"
      },
      "execution_count": 16,
      "outputs": [
        {
          "output_type": "stream",
          "name": "stdout",
          "text": [
            "\n",
            "Тюнинг SVD...\n",
            "Лучшие параметры: {'n_epochs': 30, 'lr_all': 0.01, 'reg_all': 0.1}\n",
            "Лучшее RMSE: 0.8630\n"
          ]
        }
      ]
    },
    {
      "cell_type": "code",
      "source": [
        "# 6. Финальная оценка на 5 фолдах\n",
        "print(\"\\nФинальная оценка модели:\")\n",
        "final_cv = cross_validate(final_model, data, measures=['RMSE'], cv=5, verbose=True)\n",
        "final_rmse = np.mean(final_cv['test_rmse'])\n",
        "print(f\"Финальное RMSE: {final_rmse:.4f}\")"
      ],
      "metadata": {
        "colab": {
          "base_uri": "https://localhost:8080/"
        },
        "id": "EixXWjHvOhLi",
        "outputId": "60323b5e-d3c6-4f7a-ee8e-9b8b1f17898c"
      },
      "execution_count": 17,
      "outputs": [
        {
          "output_type": "stream",
          "name": "stdout",
          "text": [
            "\n",
            "Финальная оценка модели:\n",
            "Evaluating RMSE of algorithm SVD on 5 split(s).\n",
            "\n",
            "                  Fold 1  Fold 2  Fold 3  Fold 4  Fold 5  Mean    Std     \n",
            "RMSE (testset)    0.8490  0.8610  0.8555  0.8542  0.8560  0.8552  0.0038  \n",
            "Fit time          2.30    2.62    2.78    2.28    2.26    2.45    0.21    \n",
            "Test time         0.12    0.47    0.12    0.12    0.12    0.19    0.14    \n",
            "Финальное RMSE: 0.8552\n"
          ]
        }
      ]
    },
    {
      "cell_type": "code",
      "source": [
        "# 7. Проверка достижения целевой метрики\n",
        "if final_rmse < 0.87:\n",
        "    print(\"✅ Цель достигнута! RMSE < 0.87\")\n",
        "else:\n",
        "    print(\"❌ Цель не достигнута. Пробуем альтернативный подход...\")"
      ],
      "metadata": {
        "colab": {
          "base_uri": "https://localhost:8080/"
        },
        "id": "I1UirEwYOqYN",
        "outputId": "baaa39c1-3827-4d66-dbff-060fee166b79"
      },
      "execution_count": 18,
      "outputs": [
        {
          "output_type": "stream",
          "name": "stdout",
          "text": [
            "✅ Цель достигнута! RMSE < 0.87\n"
          ]
        }
      ]
    }
  ]
}